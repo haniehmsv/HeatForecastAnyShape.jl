{
 "cells": [
  {
   "cell_type": "code",
   "execution_count": 1,
   "metadata": {},
   "outputs": [],
   "source": [
    "using Revise"
   ]
  },
  {
   "cell_type": "code",
   "execution_count": 2,
   "metadata": {},
   "outputs": [],
   "source": [
    "using UnPack"
   ]
  },
  {
   "cell_type": "code",
   "execution_count": 4,
   "metadata": {},
   "outputs": [],
   "source": [
    "using ImmersedLayers"
   ]
  },
  {
   "cell_type": "code",
   "execution_count": 3,
   "metadata": {},
   "outputs": [],
   "source": [
    "using HeatForecastAnyShape"
   ]
  },
  {
   "cell_type": "code",
   "execution_count": 5,
   "metadata": {},
   "outputs": [],
   "source": [
    "using CairoMakie"
   ]
  },
  {
   "cell_type": "code",
   "execution_count": 6,
   "metadata": {},
   "outputs": [],
   "source": [
    "using LaTeXStrings"
   ]
  },
  {
   "cell_type": "code",
   "execution_count": 7,
   "metadata": {},
   "outputs": [],
   "source": [
    "using Distributions\n",
    "using Random\n",
    "using LinearAlgebra\n",
    "using GaussianMixtures\n",
    "using Statistics"
   ]
  },
  {
   "cell_type": "code",
   "execution_count": 8,
   "metadata": {},
   "outputs": [],
   "source": [
    "using JLD2"
   ]
  },
  {
   "cell_type": "markdown",
   "metadata": {},
   "source": [
    "### True data"
   ]
  },
  {
   "cell_type": "code",
   "execution_count": 9,
   "metadata": {},
   "outputs": [
    {
     "data": {
      "text/plain": [
       "1"
      ]
     },
     "metadata": {},
     "output_type": "display_data"
    }
   ],
   "source": [
    "δ_true = 0.01\n",
    "zq = [0.5+1.2im]\n",
    "qq = [1.0]\n",
    "c1q = [0.5]\n",
    "c2q = [0.25]\n",
    "Nq_true = length(zq)"
   ]
  },
  {
   "cell_type": "markdown",
   "metadata": {},
   "source": [
    "### Set some plotting themes"
   ]
  },
  {
   "cell_type": "code",
   "execution_count": 10,
   "metadata": {},
   "outputs": [],
   "source": [
    "xytheme = Theme(\n",
    "        Axis = (aspect=DataAspect(),xlabel=L\"x\",ylabel=L\"y\"),\n",
    "        palette = (color = Makie.wong_colors(),),\n",
    "        Lines = (cycle = [:color],),\n",
    "        Scatter = (cycle = [:color],)\n",
    "    );\n",
    "\n",
    "sensortheme = Theme(\n",
    "    Axis = (xlabel=\"Sensor no.\",ylabel=L\"T-T_{ref}\") # xticks=1:length(sens),\n",
    ");"
   ]
  },
  {
   "cell_type": "markdown",
   "metadata": {},
   "source": [
    "### Set up the observer for the true data"
   ]
  },
  {
   "cell_type": "code",
   "execution_count": 11,
   "metadata": {},
   "outputs": [
    {
     "data": {
      "text/plain": [
       "5-element Vector{Float64}:\n",
       " 0.5\n",
       " 1.2\n",
       " 1.0\n",
       " 0.5\n",
       " 0.25"
      ]
     },
     "metadata": {},
     "output_type": "display_data"
    }
   ],
   "source": [
    "config_true, x_true = get_config_and_state(zq,qq,c1q,c2q)\n",
    "ϵmeas_data = [1e-5,1e-4,2.5e-4,3.75e-4,5e-4,6.25e-4,8e-4,1e-3,1.5e-3,2e-3,3e-3,4e-3];\n",
    "x_true"
   ]
  },
  {
   "cell_type": "markdown",
   "metadata": {},
   "source": [
    "### Heater Estimation"
   ]
  },
  {
   "cell_type": "code",
   "execution_count": 12,
   "metadata": {},
   "outputs": [
    {
     "data": {
      "text/plain": [
       "5-element Vector{Tuple{Float64, Float64}}:\n",
       " (-2.0, 2.0)\n",
       " (0.01, 2.0)\n",
       " (-2.0, 2.0)\n",
       " (0.0, 1.0)\n",
       " (0.0, 1.0)"
      ]
     },
     "metadata": {},
     "output_type": "display_data"
    }
   ],
   "source": [
    "Nq_estimator = 1\n",
    "δ = 0.01\n",
    "config_estimator = HeaterConfig(Nq_estimator)\n",
    "\n",
    "\n",
    "# ranges to confine the prior mean to\n",
    "xr = (-2.0,2.0)\n",
    "yr = (0.01,2) #(0.01,4) #(0.01,2.0)\n",
    "qr = (-2,2)\n",
    "c1r = (0,1)\n",
    "c2r = (0,1)\n",
    "bounds = create_state_bounds(xr,yr,qr,c1r,c2r,config_estimator);\n",
    "bounds"
   ]
  },
  {
   "cell_type": "code",
   "execution_count": 13,
   "metadata": {},
   "outputs": [
    {
     "data": {
      "text/plain": [
       "5-element Vector{Tuple{Float64, Float64}}:\n",
       " (-2.0, 2.0)\n",
       " (-2.0, 2.0)\n",
       " (-2.0, 2.0)\n",
       " (0.0, 1.0)\n",
       " (0.0, 1.0)"
      ]
     },
     "metadata": {},
     "output_type": "display_data"
    }
   ],
   "source": [
    "#bounds for numerical domain\n",
    "xr = (-2.0,2.0)\n",
    "yr = (-2.0,2.0) #(0.01,4) #(0.01,2.0)\n",
    "qr = (-2,2)\n",
    "c1r = (0,1)\n",
    "c2r = (0,1)\n",
    "bounds_num = create_state_bounds(xr,yr,qr,c1r,c2r,config_estimator);\n",
    "bounds_num"
   ]
  },
  {
   "cell_type": "markdown",
   "metadata": {},
   "source": [
    "### Set up the MCMC parameters"
   ]
  },
  {
   "cell_type": "code",
   "execution_count": 14,
   "metadata": {},
   "outputs": [],
   "source": [
    "## Parallel tempering ##\n",
    "propvarX_coarse = 0.01^2 \n",
    "propvarY_coarse = 0.01^2\n",
    "propvarQ_coarse = 0.05^2 #0.05^2\n",
    "propvarC_coarse = 0.01^2\n",
    "\n",
    "propvarX_fine = 0.005^2 # 0.01^2\n",
    "propvarY_fine = 0.005^2 # 0.01^2\n",
    "propvarQ_fine = 0.01^2 # 0.005^2 # 0.01^2\n",
    "propvarC_fine = 0.005^2\n",
    "\n",
    "#Ntrial = [10000, 600000]\n",
    "#propvar = [state_covariance(propvarX_coarse,propvarY_coarse,propvarQ_coarse,propvarR_coarse,config_estimator),\n",
    "           #state_covariance(propvarX_fine,propvarY_fine,propvarQ_fine,propvarR_fine,config_estimator)];\n",
    "Ntrial = [10000]\n",
    "propvar = [state_covariance(propvarX_coarse,propvarY_coarse,propvarQ_coarse,propvarC_coarse,config_estimator)];"
   ]
  },
  {
   "cell_type": "markdown",
   "metadata": {},
   "source": [
    "### Getting results for a specific case"
   ]
  },
  {
   "cell_type": "code",
   "execution_count": 15,
   "metadata": {},
   "outputs": [
    {
     "data": {
      "text/plain": [
       "constructGrids{Tuple{Float64, Float64}, BasicILMCache{0, GridScaling, Nodes{Primal, 408, 408, Float64, Matrix{Float64}}, 2, BodyList, VectorData{0, Float64, Vector{Float64}}, ScalarData{0, Float64, Vector{Float64}}, Regularize{0, false}, RegularizationMatrix{Edges{Primal, 408, 408, Float64, Vector{Float64}}, VectorData{0, Float64, Vector{Float64}}}, InterpolationMatrix{Edges{Primal, 408, 408, Float64, Vector{Float64}}, VectorData{0, Float64, Vector{Float64}}}, RegularizationMatrix{Nodes{Primal, 408, 408, Float64, Matrix{Float64}}, ScalarData{0, Float64, Vector{Float64}}}, InterpolationMatrix{Nodes{Primal, 408, 408, Float64, Matrix{Float64}}, ScalarData{0, Float64, Vector{Float64}}}, Nothing, Nothing, Nothing, Nothing, Laplacian{408, 408, Float64, true, false}, Edges{Primal, 408, 408, Float64, Vector{Float64}}, Nodes{Dual, 408, 408, Float64, Matrix{Float64}}, Nothing, VectorData{0, Float64, Vector{Float64}}, ScalarData{0, Float64, Vector{Float64}}, Nothing}}(0.01, (-2.0, 2.0), (-2.0, 2.0), PhysicalGrid{2}((408, 408), (204, 204), 0.01, ((-2.0300000000000002, 2.0300000000000002), (-2.0300000000000002, 2.0300000000000002)), 4), Surface cache with scaling of type GridScaling\n",
       "  0 point data of type ScalarData{0, Float64, Vector{Float64}}\n",
       "  Grid data of type Nodes{Primal, 408, 408, Float64, Matrix{Float64}}\n",
       ", 500)"
      ]
     },
     "metadata": {},
     "output_type": "display_data"
    }
   ],
   "source": [
    "Δx = 0.01\n",
    "Ntheta = 500\n",
    "gridConfig = constructGrids(Δx,bounds_num;Ntheta)"
   ]
  },
  {
   "cell_type": "code",
   "execution_count": 16,
   "metadata": {},
   "outputs": [],
   "source": [
    "K = 1\n",
    "Nsens = 5\n",
    "ϵmeas = 5e-4\n",
    "obs_true, ystar, H, Σϵ, Σx = get_truth_data(Nsens,ϵmeas,x_true,config_true,gridConfig)\n",
    "logp̃_fcn, obs = setup_estimator(obs_true.sens,bounds,config_estimator,ystar,Σϵ,gridConfig);"
   ]
  },
  {
   "cell_type": "code",
   "execution_count": 17,
   "metadata": {},
   "outputs": [
    {
     "data": {
      "text/plain": [
       "5-element Vector{Float64}:\n",
       " -0.8348591168958508\n",
       " -0.8029232710704508\n",
       " -0.7710057426082357\n",
       " -0.7489701713605066\n",
       " -0.7508582077436516"
      ]
     },
     "metadata": {},
     "output_type": "display_data"
    }
   ],
   "source": [
    "ystar"
   ]
  },
  {
   "cell_type": "code",
   "execution_count": 37,
   "metadata": {},
   "outputs": [],
   "source": [
    "xseed = generate_random_state(bounds,obs.config)\n",
    "gm, x_decorr_data = find_gmm(K,logp̃_fcn,obs,xseed,Ntrial,propvar,nskip=10);"
   ]
  },
  {
   "cell_type": "code",
   "execution_count": 38,
   "metadata": {},
   "outputs": [],
   "source": [
    "xm, Σ, wts = means_and_covariances(gm,config_estimator);\n",
    "\n",
    "Σh = [Σ[j] for j = 1:length(Σ)];"
   ]
  },
  {
   "cell_type": "code",
   "execution_count": 39,
   "metadata": {},
   "outputs": [
    {
     "data": {
      "text/plain": [
       "5×1 transpose(::Matrix{Float64}) with eltype Float64:\n",
       " 0.5686703460007531\n",
       " 1.2750207286691597\n",
       " 1.4915310289614794\n",
       " 0.4036743239462182\n",
       " 0.28628937638959406"
      ]
     },
     "metadata": {},
     "output_type": "display_data"
    }
   ],
   "source": [
    "xm"
   ]
  },
  {
   "cell_type": "code",
   "execution_count": 40,
   "metadata": {},
   "outputs": [
    {
     "data": {
      "text/plain": [
       "1-element Vector{Matrix{Float64}}:\n",
       " [0.0016509484071389224 0.0003517119493264677 … -0.000356034716702488 -0.0008152353166176352; 0.0003517119493264677 0.0055827194650534834 … 0.008513397154138019 0.004753332240517156; … ; -0.000356034716702488 0.008513397154138019 … 0.015223960657198214 0.007902418074997421; -0.0008152353166176352 0.004753332240517156 … 0.007902418074997421 0.004949406644211457]"
      ]
     },
     "metadata": {},
     "output_type": "display_data"
    }
   ],
   "source": [
    "Σh"
   ]
  },
  {
   "cell_type": "code",
   "execution_count": null,
   "metadata": {},
   "outputs": [],
   "source": [
    "@save \"MCMC.jld2\" gm x_decorr_data xmean=xm Σ Σh wts"
   ]
  },
  {
   "cell_type": "code",
   "execution_count": null,
   "metadata": {},
   "outputs": [],
   "source": [
    "@load \"MCMC.jld2\" gm x_decorr_data xmean Σ Σh wts"
   ]
  },
  {
   "cell_type": "code",
   "execution_count": null,
   "metadata": {},
   "outputs": [],
   "source": [
    "xm = copy(xmean)"
   ]
  },
  {
   "cell_type": "code",
   "execution_count": 53,
   "metadata": {},
   "outputs": [
    {
     "data": {
      "text/plain": [
       "\"1heater-1truth-K1-delta001-5sensor-ds050-noise5em4\""
      ]
     },
     "metadata": {},
     "output_type": "display_data"
    }
   ],
   "source": [
    "#plottype = :samples\n",
    "plottype = :heater\n",
    "\n",
    "saveplot = true\n",
    "\n",
    "ds_string = string(1000+round(Int,100*abs(obs.sens[end]-obs.sens[1])/(length(obs.sens)-1)))[2:end]\n",
    "ns_string = string(length(obs.sens))\n",
    "nq_string = string(obs.config.Nq)\n",
    "K_string = string(K)\n",
    "\n",
    "delta_string = string(round(Int,1000+100*δ_true))[2:4]\n",
    "\n",
    "filename = nq_string*\"heater-1truth-K\"*K_string*\"-delta\"*delta_string*\"-\"*ns_string*\"sensor-ds\"*ds_string*\"-noise5em4\"\n",
    "#filename = nv_string*\"vortex-1truth-K\"*K_string*\"-delta\"*delta_string*\"-\"*ns_string*\"sensorcirc-ds\"*ds_string*\"-noise5em4\""
   ]
  },
  {
   "cell_type": "code",
   "execution_count": 59,
   "metadata": {},
   "outputs": [
    {
     "data": {
      "image/png": "[encoded data removed]"
     },
     "metadata": {},
     "output_type": "display_data"
    }
   ],
   "source": [
    "_, best_comp = findmax(wts)\n",
    "\n",
    "with_theme(xytheme) do\n",
    "    f = Figure(;resolution=(450,300))\n",
    "    ax = f[1,1] = Axis(f)\n",
    "\n",
    "    if plottype == :samples\n",
    "        show_singularity_samples!(ax,x_decorr_data,obs,nskip=1,markersize=3) #colormap=:Set1_3:RdBu_3,nskip=1)\n",
    "        #singularity_ellipses!(ax,xm[:,best_comp],Σ[best_comp],obs,color=:red)\n",
    "        singularity_ellipses!(ax,xm,Σ,wts,obs,fill=false)\n",
    "        \n",
    "        singularity_ellipses!(ax,x_true,Σx,obs_true,color=(:black,0.2),fill=true,strokewidth=0.5)\n",
    "        \n",
    "        # Draw some lines to indicate maximum uncertainty direction at true state\n",
    "        #=\n",
    "        xid, yid, Γid = get_singularity_ids(obs_true.config)\n",
    "        F = svd(H,full=true)\n",
    "        vmax = F.Vt[end,:]\n",
    "        for j = 1:number_of_singularities(obs_true.config)\n",
    "            lines!(ax,[real(zv)[j]-vmax[xid[j]],real(zv)[j]+vmax[xid[j]]],[imag(zv)[j]-vmax[yid[j]],imag(zv)[j]+vmax[yid[j]]],color=:black,linewidth=0.5)\n",
    "        end\n",
    "        =#\n",
    "    \n",
    "    elseif plottype == :heater\n",
    "        hmin, hmax = -1.5,1.5 #-0.25,0.25\n",
    "        lev = range(hmin,hmax,length=20)\n",
    "        plot_expected_sourcefield!(ax,xm,Σh,obs,xlims=(-2,2),ylims=(-1,2.5),colormap=cgrad(:lighttemperaturemap,rev=true),linewidth=2,colorrange=(hmin,hmax),levels=lev)\n",
    "        \n",
    "        #comp = 9 # best_comp\n",
    "        #plot_expected_sourcefield!(ax,xm[:,comp],Σ[comp],obs,ylims=(-1,2.5),colormap=cgrad(:lighttemperaturemap,rev=true),linewidth=2,colorrange=(wmin,wmax),levels=lev)\n",
    "\n",
    "        Σ_true = state_covariance(δ_true^2,δ_true^2,0.0,0.0,config_true);        \n",
    "        plot_expected_sourcefield!(ax,x_true,Σ_true,obs_true,ylims=(-1,2),colormap=cgrad(:lighttemperaturemap,rev=true),linestyle=:dot,linewidth=1,colorrange=(hmin,hmax),levels=lev)\n",
    "        \n",
    "    end\n",
    "    \n",
    "    #lines!(ax,real(zc),imag(zc);marker=:none,color=:gray)\n",
    "    #lines!(ax,[0.0,real(z0)],[0.0,imag(z0)],marker=:none,color=:gray)\n",
    "\n",
    "    scatter!(ax,real(zq),imag(zq),marker=:circle,markersize=4,color=:black,strokewidth=1)\n",
    "  \n",
    "    plot_sensors!(ax,obs,color=:sienna)\n",
    "    #ylims!(ax,(-0.5,2))\n",
    "    #xlims!(ax,(-1.5,1.5))\n",
    "    ylims!(ax,(-0.5,1.5))\n",
    "    xlims!(ax,(-1.5,1.5))\n",
    "    \n",
    "    fullname = String(plottype)*\"-\"*filename*\".svg\" \n",
    "    saveplot && save(fullname,f)\n",
    "    f\n",
    "end"
   ]
  },
  {
   "cell_type": "code",
   "execution_count": 60,
   "metadata": {},
   "outputs": [],
   "source": [
    "import CairoMakie.GeometryBasics as GB"
   ]
  },
  {
   "cell_type": "code",
   "execution_count": 61,
   "metadata": {},
   "outputs": [
    {
     "data": {
      "image/png": "[encoded data removed]"
     },
     "metadata": {},
     "output_type": "display_data"
    }
   ],
   "source": [
    "t = 0.0\n",
    "_, best_comp = findmax(wts)\n",
    "comp = best_comp\n",
    "l = range(-12,0.01,length=21)\n",
    "cl = (-1,0.01)\n",
    "f = Figure(;resolution=(1200,300))\n",
    "ga = f[1, 1] = GridLayout()\n",
    "gb = f[1, 2] = GridLayout()\n",
    "gc = f[1, 3] = GridLayout()\n",
    "axleft = Axis(ga[1,1];xlabel=L\"x\",ylabel=L\"y\",limits=(-2,2,-1,2),aspect=DataAspect(),title=L\"\\textrm{truth}\")\n",
    "axright = Axis(gc[1,1];xlabel=L\"x\",ylabel=L\"y\",limits=(-2,2,-1,2),aspect=DataAspect(),title=L\"\\textrm{estimate}\")\n",
    "linkaxes!(axright,axleft)\n",
    "Tmin, Tmax = -1,-0.2\n",
    "plot_temperature_field!(axleft,x_true,obs_true,gridConfig,colormap=cgrad(:lighttemperaturemap,rev=true),colorrange=(Tmin,Tmax),levels=range(Tmin,Tmax,length=15),linewidth=2)\n",
    "plot_sensors!(axleft,obs_true,color=:sienna)\n",
    "plot_temperature_field!(axright,xm[:,comp],obs,gridConfig,mode=:relative,colormap=cgrad(:lighttemperaturemap,rev=true),colorrange=(Tmin,Tmax),levels=range(Tmin,Tmax,length=15),linewidth=2)\n",
    "plot_sensors!(axright,obs,color=:sienna)\n",
    "\n",
    "\n",
    "# Sensor plot\n",
    "axcenter = Axis(gb[1,1];xticks=1:length(obs.sens),xlabel=\"Sensor no.\",ylabel=L\"T-T_{ref}\") \n",
    "plot_sensor_data!(axcenter,ystar,xm[:,comp],t,obs,gridConfig;sensor_noise=ϵmeas*ones(length(ystar)))\n",
    "axislegend(axcenter,position=:rb)\n",
    "\n",
    "\n",
    "for (label, layout) in zip([\"(a)\", \"(b)\", \"(c)\"], [ga, gb, gc])\n",
    "    Label(layout[1, 1, TopLeft()], label,\n",
    "        fontsize = 15,\n",
    "        font = \"TeX Heros Italic\",\n",
    "        padding = (0, 5, 5, 0),\n",
    "        halign = :right)\n",
    "end\n",
    "saveplot && save(\"Temperaturefield-\"*filename*\".svg\",f)\n",
    "\n",
    "f"
   ]
  },
  {
   "cell_type": "code",
   "execution_count": 20,
   "metadata": {},
   "outputs": [
    {
     "data": {
      "text/plain": [
       "Ensemble with 501 members of 5-dimensional data\n",
       "5×501 Matrix{Float64}:\n",
       " 1.33006     0.582439  0.582439  0.582439  …  0.466235  0.466235  0.466235\n",
       " 1.53104     1.43315   1.43315   1.43315      1.20993   1.20993   1.20993\n",
       " 0.623932    0.576778  0.576778  0.576778     0.665111  0.665111  0.665111\n",
       " 0.724553    0.634965  0.634965  0.634965     0.606888  0.606888  0.606888\n",
       " 0.00164398  0.413606  0.413606  0.413606     0.31795   0.31795   0.31795"
      ]
     },
     "metadata": {},
     "output_type": "display_data"
    }
   ],
   "source": [
    "x_decorr_data"
   ]
  },
  {
   "cell_type": "code",
   "execution_count": 33,
   "metadata": {},
   "outputs": [
    {
     "data": {
      "image/png": "[encoded data removed]"
     },
     "metadata": {},
     "output_type": "display_data"
    }
   ],
   "source": [
    "data_histogram(x_decorr_data[2,:];bins=80,xlims = (minimum(x_decorr_data[2,:]),maximum(x_decorr_data[2,:])), title=\"y histogram\")"
   ]
  }
 ],
 "metadata": {
  "kernelspec": {
   "display_name": "Julia 1.8.5",
   "language": "julia",
   "name": "julia-1.8"
  },
  "language_info": {
   "file_extension": ".jl",
   "mimetype": "application/julia",
   "name": "julia",
   "version": "1.8.5"
  },
  "orig_nbformat": 4
 },
 "nbformat": 4,
 "nbformat_minor": 2
}
