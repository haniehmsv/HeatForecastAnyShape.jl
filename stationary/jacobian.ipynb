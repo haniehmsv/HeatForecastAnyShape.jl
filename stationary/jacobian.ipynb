{
 "cells": [
  {
   "cell_type": "code",
   "execution_count": 5,
   "metadata": {},
   "outputs": [],
   "source": [
    "using Revise"
   ]
  },
  {
   "cell_type": "code",
   "execution_count": 6,
   "metadata": {},
   "outputs": [],
   "source": [
    "using ForwardDiff"
   ]
  },
  {
   "cell_type": "code",
   "execution_count": 7,
   "metadata": {},
   "outputs": [],
   "source": [
    "using UnPack"
   ]
  },
  {
   "cell_type": "code",
   "execution_count": 8,
   "metadata": {},
   "outputs": [],
   "source": [
    "using LinearAlgebra\n",
    "using ImmersedLayers"
   ]
  },
  {
   "cell_type": "code",
   "execution_count": 9,
   "metadata": {},
   "outputs": [],
   "source": [
    "using HeatForecast"
   ]
  },
  {
   "cell_type": "code",
   "execution_count": 35,
   "metadata": {},
   "outputs": [
    {
     "data": {
      "text/plain": [
       "temperature1 (generic function with 1 method)"
      ]
     },
     "metadata": {},
     "output_type": "display_data"
    }
   ],
   "source": [
    "function temperature1(x,obs::TemperatureObservations,gridConfig::constructGrids)\n",
    "\t@unpack config, sens = obs\n",
    "\t@unpack Nq, state_id = config\n",
    "\t@unpack g, cache = gridConfig\n",
    "\tNy = length(sens)\n",
    "\tx_ids = state_id[\"heater x\"]\n",
    "  \ty_ids = state_id[\"heater y\"]\n",
    "  \tq_ids = state_id[\"heater q\"]\n",
    "  \tr_ids = state_id[\"heater r\"]\n",
    "\t\n",
    "\txq = x[x_ids]\n",
    "\tyq = x[y_ids]\n",
    "\tqq = x[q_ids]\n",
    "\trq = x[r_ids]\n",
    "\n",
    "\tT = zeros_grid(cache)\n",
    "\txg, yg = coordinates(T,g)\n",
    "\tTemp = zeros(Ny)\n",
    "\n",
    "\t@inbounds for k in 1:Nq\n",
    "\t\tT = zeros_grid(cache)\n",
    "\t\t@inbounds for (j,yy) in enumerate(yg), (i,xx) in enumerate(xg)\n",
    "    \t\tif ((xx-xq[k])^2+(yy-yq[k])^2) < rq[k]^2\n",
    "        \t\tT[i,j] = -qq[k]\n",
    "    \t\tend\n",
    "\t\tend\n",
    "\t\tinverse_laplacian!(T,cache)\n",
    "\t\tTfield = interpolatable_field(T,g)\n",
    "\t\tTemp .+= [Tfield(real(sens[j]), imag(sens[j])) for j in 1:Ny]\n",
    "\n",
    "\tend\n",
    "\treturn Temp\n",
    "end"
   ]
  },
  {
   "cell_type": "code",
   "execution_count": 29,
   "metadata": {},
   "outputs": [
    {
     "data": {
      "text/html": [
       "inverse_laplacian!(w::<b>GridData</b>, cache::<b>BasicILMCache</b>) in ImmersedLayers at <a href=\"file://C:/Users/Hanieh/.julia/packages/ImmersedLayers/6MOTR/src/grid_operators.jl\" target=\"_blank\">C:\\Users\\Hanieh\\.julia\\packages\\ImmersedLayers\\6MOTR\\src\\grid_operators.jl:153</a>"
      ],
      "text/plain": [
       "inverse_laplacian!(w::GridData, cache::BasicILMCache) in ImmersedLayers at C:\\Users\\Hanieh\\.julia\\packages\\ImmersedLayers\\6MOTR\\src\\grid_operators.jl:153"
      ]
     },
     "metadata": {},
     "output_type": "display_data"
    }
   ],
   "source": [
    "@unpack cache, g = gridConfig\n",
    "T = zeros_grid(cache)\n",
    "@which inverse_laplacian!(T,cache)"
   ]
  },
  {
   "cell_type": "code",
   "execution_count": 11,
   "metadata": {},
   "outputs": [
    {
     "data": {
      "text/plain": [
       "jacobia (generic function with 1 method)"
      ]
     },
     "metadata": {},
     "output_type": "display_data"
    }
   ],
   "source": [
    "function jacobia(x,obs::TemperatureObservations,gridConfig::constructGrids)\n",
    "    @unpack sens, config = obs\n",
    "    @unpack Nq, state_id = config\n",
    "    Nx = state_length(state_id)\n",
    "    Ny = size(sens,1)\n",
    "    J = zeros(Ny,Nx)\n",
    "    J = ForwardDiff.jacobian(y->temperature1(y,obs,gridConfig),x)\n",
    "    return J\n",
    "end"
   ]
  },
  {
   "cell_type": "markdown",
   "metadata": {},
   "source": [
    "### True data"
   ]
  },
  {
   "cell_type": "code",
   "execution_count": 12,
   "metadata": {},
   "outputs": [],
   "source": [
    "zq = [0.5+1.2im]\n",
    "qq = [1.0]\n",
    "rq = [0.5]\n",
    "Nq_true = length(zq);"
   ]
  },
  {
   "cell_type": "markdown",
   "metadata": {},
   "source": [
    "### Setting up the observer for the true data"
   ]
  },
  {
   "cell_type": "code",
   "execution_count": 13,
   "metadata": {},
   "outputs": [
    {
     "data": {
      "text/plain": [
       "4-element Vector{Float64}:\n",
       " 0.5\n",
       " 1.2\n",
       " 1.0\n",
       " 0.5"
      ]
     },
     "metadata": {},
     "output_type": "display_data"
    }
   ],
   "source": [
    "config_true, x_true = get_config_and_state(zq,qq,rq)\n",
    "\n",
    "ϵmeas_data = [1e-5,1e-4,2.5e-4,3.75e-4,5e-4,6.25e-4,8e-4,1e-3,1.5e-3,2e-3,3e-3,4e-3];\n",
    "x_true"
   ]
  },
  {
   "cell_type": "markdown",
   "metadata": {},
   "source": [
    "### Heater estimation"
   ]
  },
  {
   "cell_type": "code",
   "execution_count": 14,
   "metadata": {},
   "outputs": [
    {
     "data": {
      "text/plain": [
       "4-element Vector{Tuple{Float64, Float64}}:\n",
       " (-2.0, 2.0)\n",
       " (0.01, 2.0)\n",
       " (-2.0, 2.0)\n",
       " (0.0, 2.0)"
      ]
     },
     "metadata": {},
     "output_type": "display_data"
    }
   ],
   "source": [
    "Nq_estimator = 1\n",
    "δ = 0.01\n",
    "config_estimator = HeaterConfig(Nq_estimator)\n",
    "\n",
    "\n",
    "# ranges to confine the prior mean to\n",
    "xr = (-2.0,2.0)\n",
    "yr = (0.01,2) #(0.01,4) #(0.01,2.0)\n",
    "qr = (-2,2)\n",
    "rr = (0,2)\n",
    "bounds = create_state_bounds(xr,yr,qr,rr,config_estimator);\n",
    "bounds"
   ]
  },
  {
   "cell_type": "code",
   "execution_count": 19,
   "metadata": {},
   "outputs": [
    {
     "data": {
      "text/plain": [
       "4-element Vector{Tuple{Float64, Float64}}:\n",
       " (-2.0, 2.0)\n",
       " (-2.0, 2.0)\n",
       " (-2.0, 2.0)\n",
       " (0.0, 2.0)"
      ]
     },
     "metadata": {},
     "output_type": "display_data"
    }
   ],
   "source": [
    "# bounds for numerical computations\n",
    "xr = (-2.0,2.0)\n",
    "yr = (-2,2) #(0.01,4) #(0.01,2.0)\n",
    "qr = (-2,2)\n",
    "rr = (0,2)\n",
    "bounds_num = create_state_bounds(xr,yr,qr,rr,config_estimator);\n",
    "bounds_num"
   ]
  },
  {
   "cell_type": "markdown",
   "metadata": {},
   "source": [
    "### Getting results for a specific case"
   ]
  },
  {
   "cell_type": "code",
   "execution_count": 20,
   "metadata": {},
   "outputs": [
    {
     "data": {
      "text/plain": [
       "constructGrids{Tuple{Float64, Float64}, BasicILMCache{0, GridScaling, Nodes{Primal, 406, 406, Float64, Matrix{Float64}}, 2, BodyList, VectorData{0, Float64, Vector{Float64}}, ScalarData{0, Float64, Vector{Float64}}, Regularize{0, false}, RegularizationMatrix{Edges{Primal, 406, 406, Float64, Vector{Float64}}, VectorData{0, Float64, Vector{Float64}}}, InterpolationMatrix{Edges{Primal, 406, 406, Float64, Vector{Float64}}, VectorData{0, Float64, Vector{Float64}}}, RegularizationMatrix{Nodes{Primal, 406, 406, Float64, Matrix{Float64}}, ScalarData{0, Float64, Vector{Float64}}}, InterpolationMatrix{Nodes{Primal, 406, 406, Float64, Matrix{Float64}}, ScalarData{0, Float64, Vector{Float64}}}, Nothing, Nothing, Nothing, Nothing, Laplacian{406, 406, Float64, true, false}, Edges{Primal, 406, 406, Float64, Vector{Float64}}, Nodes{Dual, 406, 406, Float64, Matrix{Float64}}, Nothing, VectorData{0, Float64, Vector{Float64}}, ScalarData{0, Float64, Vector{Float64}}, Nothing}}(0.01, (-2.0, 2.0), (-2.0, 2.0), PhysicalGrid{2}((406, 406), (203, 203), 0.01, ((-2.02, 2.02), (-2.02, 2.02)), 4), Surface cache with scaling of type GridScaling\n",
       "  0 point data of type ScalarData{0, Float64, Vector{Float64}}\n",
       "  Grid data of type Nodes{Primal, 406, 406, Float64, Matrix{Float64}}\n",
       ")"
      ]
     },
     "metadata": {},
     "output_type": "display_data"
    }
   ],
   "source": [
    "Δx = 0.01\n",
    "gridConfig = constructGrids(Δx,bounds_num)"
   ]
  },
  {
   "cell_type": "code",
   "execution_count": 21,
   "metadata": {},
   "outputs": [
    {
     "data": {
      "text/plain": [
       "(TemperatureObservations{4, 3, Vector{ComplexF64}, HeaterConfig{Dict{Any, Any}}}(ComplexF64[-1.0 + 0.0im, 0.0 + 0.0im, 1.0 + 0.0im], HeaterConfig{Dict{Any, Any}}(1, Dict{Any, Any}(\"heater q\" => [3], \"heater r\" => [4], \"heater y\" => [2], \"heater x\" => [1]), 0.0)), [-0.6552327514805953, -0.6065663400781611, -0.6065663400781612], [0.0 0.0 0.0 0.0; 0.0 0.0 0.0 0.0; 0.0 0.0 0.0 0.0], [2.5e-7 0.0 0.0; 0.0 2.5e-7 0.0; 0.0 0.0 2.5e-7], [0.0 0.0 0.0 0.0; 0.0 0.0 0.0 0.0; 0.0 0.0 0.0 0.0; 0.0 0.0 0.0 0.0])"
      ]
     },
     "metadata": {},
     "output_type": "display_data"
    }
   ],
   "source": [
    "Nx = length(x_true)\n",
    "Nsens = 3\n",
    "ϵmeas = 5e-4\n",
    "obs_true, ystar, H, Σϵ, Σx = get_truth_data(Nsens,ϵmeas,x_true,config_true,gridConfig)"
   ]
  },
  {
   "cell_type": "code",
   "execution_count": 22,
   "metadata": {},
   "outputs": [
    {
     "data": {
      "text/plain": [
       "3-element Vector{Float64}:\n",
       " -0.6552327514805953\n",
       " -0.6065663400781611\n",
       " -0.6065663400781612"
      ]
     },
     "metadata": {},
     "output_type": "display_data"
    }
   ],
   "source": [
    "ystar"
   ]
  },
  {
   "cell_type": "code",
   "execution_count": 41,
   "metadata": {},
   "outputs": [
    {
     "ename": "MethodError",
     "evalue": "MethodError: no method matching Float64(::ForwardDiff.Dual{ForwardDiff.Tag{var\"#37#38\", Float64}, Float64, 4})\nClosest candidates are:\n  (::Type{T})(::Real, !Matched::RoundingMode) where T<:AbstractFloat at rounding.jl:200\n  (::Type{T})(::T) where T<:Number at boot.jl:772\n  (::Type{T})(!Matched::AbstractChar) where T<:Union{AbstractChar, Number} at char.jl:50\n  ...",
     "output_type": "error",
     "traceback": [
      "MethodError: no method matching Float64(::ForwardDiff.Dual{ForwardDiff.Tag{var\"#37#38\", Float64}, Float64, 4})\n",
      "Closest candidates are:\n",
      "  (::Type{T})(::Real, !Matched::RoundingMode) where T<:AbstractFloat at rounding.jl:200\n",
      "  (::Type{T})(::T) where T<:Number at boot.jl:772\n",
      "  (::Type{T})(!Matched::AbstractChar) where T<:Union{AbstractChar, Number} at char.jl:50\n",
      "  ...\n",
      "\n",
      "Stacktrace:\n",
      " [1] convert(#unused#::Type{Float64}, x::ForwardDiff.Dual{ForwardDiff.Tag{var\"#37#38\", Float64}, Float64, 4})\n",
      "   @ Base .\\number.jl:7\n",
      " [2] setindex!(::Nodes{Primal, 406, 406, Float64, Matrix{Float64}}, ::ForwardDiff.Dual{ForwardDiff.Tag{var\"#37#38\", Float64}, Float64, 4}, ::Int64, ::Int64)\n",
      "   @ CartesianGrids C:\\Users\\Hanieh\\.julia\\packages\\CartesianGrids\\emkly\\src\\fields\\scalargrid.jl:82\n",
      " [3] temperature1(x::Vector{ForwardDiff.Dual{ForwardDiff.Tag{var\"#37#38\", Float64}, Float64, 4}}, obs::TemperatureObservations{4, 3, Vector{ComplexF64}, HeaterConfig{Dict{Any, Any}}}, gridConfig::constructGrids{Tuple{Float64, Float64}, BasicILMCache{0, GridScaling, Nodes{Primal, 406, 406, Float64, Matrix{Float64}}, 2, BodyList, VectorData{0, Float64, Vector{Float64}}, ScalarData{0, Float64, Vector{Float64}}, Regularize{0, false}, RegularizationMatrix{Edges{Primal, 406, 406, Float64, Vector{Float64}}, VectorData{0, Float64, Vector{Float64}}}, InterpolationMatrix{Edges{Primal, 406, 406, Float64, Vector{Float64}}, VectorData{0, Float64, Vector{Float64}}}, RegularizationMatrix{Nodes{Primal, 406, 406, Float64, Matrix{Float64}}, ScalarData{0, Float64, Vector{Float64}}}, InterpolationMatrix{Nodes{Primal, 406, 406, Float64, Matrix{Float64}}, ScalarData{0, Float64, Vector{Float64}}}, Nothing, Nothing, Nothing, Nothing, Laplacian{406, 406, Float64, true, false}, Edges{Primal, 406, 406, Float64, Vector{Float64}}, Nodes{Dual, 406, 406, Float64, Matrix{Float64}}, Nothing, VectorData{0, Float64, Vector{Float64}}, ScalarData{0, Float64, Vector{Float64}}, Nothing}})\n",
      "   @ Main g:\\HeatForecastAnyShape.jl\\stationary\\jacobian.ipynb:24\n",
      " [4] (::var\"#37#38\")(y::Vector{ForwardDiff.Dual{ForwardDiff.Tag{var\"#37#38\", Float64}, Float64, 4}})\n",
      "   @ Main g:\\HeatForecastAnyShape.jl\\stationary\\jacobian.ipynb:1\n",
      " [5] vector_mode_dual_eval!\n",
      "   @ C:\\Users\\Hanieh\\.julia\\packages\\ForwardDiff\\vXysl\\src\\apiutils.jl:24 [inlined]\n",
      " [6] vector_mode_jacobian(f::var\"#37#38\", x::Vector{Float64}, cfg::ForwardDiff.JacobianConfig{ForwardDiff.Tag{var\"#37#38\", Float64}, Float64, 4, Vector{ForwardDiff.Dual{ForwardDiff.Tag{var\"#37#38\", Float64}, Float64, 4}}})\n",
      "   @ ForwardDiff C:\\Users\\Hanieh\\.julia\\packages\\ForwardDiff\\vXysl\\src\\jacobian.jl:125\n",
      " [7] jacobian(f::Function, x::Vector{Float64}, cfg::ForwardDiff.JacobianConfig{ForwardDiff.Tag{var\"#37#38\", Float64}, Float64, 4, Vector{ForwardDiff.Dual{ForwardDiff.Tag{var\"#37#38\", Float64}, Float64, 4}}}, ::Val{true})\n",
      "   @ ForwardDiff C:\\Users\\Hanieh\\.julia\\packages\\ForwardDiff\\vXysl\\src\\jacobian.jl:21\n",
      " [8] jacobian(f::Function, x::Vector{Float64}, cfg::ForwardDiff.JacobianConfig{ForwardDiff.Tag{var\"#37#38\", Float64}, Float64, 4, Vector{ForwardDiff.Dual{ForwardDiff.Tag{var\"#37#38\", Float64}, Float64, 4}}}) (repeats 2 times)\n",
      "   @ ForwardDiff C:\\Users\\Hanieh\\.julia\\packages\\ForwardDiff\\vXysl\\src\\jacobian.jl:19\n",
      " [9] top-level scope\n",
      "   @ g:\\HeatForecastAnyShape.jl\\stationary\\jacobian.ipynb:1"
     ]
    }
   ],
   "source": [
    "J = ForwardDiff.jacobian(y->temperature1(y,obs_true,gridConfig),x_true)"
   ]
  },
  {
   "cell_type": "code",
   "execution_count": 18,
   "metadata": {},
   "outputs": [
    {
     "ename": "MethodError",
     "evalue": "MethodError: no method matching Float64(::ForwardDiff.Dual{ForwardDiff.Tag{var\"#11#12\"{TemperatureObservations{4, 3, Vector{ComplexF64}, HeaterConfig{Dict{Any, Any}}}, constructGrids{Tuple{Float64, Float64}, BasicILMCache{0, GridScaling, Nodes{Primal, 406, 209, Float64, Matrix{Float64}}, 2, BodyList, VectorData{0, Float64, Vector{Float64}}, ScalarData{0, Float64, Vector{Float64}}, Regularize{0, false}, RegularizationMatrix{Edges{Primal, 406, 209, Float64, Vector{Float64}}, VectorData{0, Float64, Vector{Float64}}}, InterpolationMatrix{Edges{Primal, 406, 209, Float64, Vector{Float64}}, VectorData{0, Float64, Vector{Float64}}}, RegularizationMatrix{Nodes{Primal, 406, 209, Float64, Matrix{Float64}}, ScalarData{0, Float64, Vector{Float64}}}, InterpolationMatrix{Nodes{Primal, 406, 209, Float64, Matrix{Float64}}, ScalarData{0, Float64, Vector{Float64}}}, Nothing, Nothing, Nothing, Nothing, Laplacian{406, 209, Float64, true, false}, Edges{Primal, 406, 209, Float64, Vector{Float64}}, Nodes{Dual, 406, 209, Float64, Matrix{Float64}}, Nothing, VectorData{0, Float64, Vector{Float64}}, ScalarData{0, Float64, Vector{Float64}}, Nothing}}}, Float64}, Float64, 4})\nClosest candidates are:\n  (::Type{T})(::Real, !Matched::RoundingMode) where T<:AbstractFloat at rounding.jl:200\n  (::Type{T})(::T) where T<:Number at boot.jl:772\n  (::Type{T})(!Matched::AbstractChar) where T<:Union{AbstractChar, Number} at char.jl:50\n  ...",
     "output_type": "error",
     "traceback": [
      "MethodError: no method matching Float64(::ForwardDiff.Dual{ForwardDiff.Tag{var\"#11#12\"{TemperatureObservations{4, 3, Vector{ComplexF64}, HeaterConfig{Dict{Any, Any}}}, constructGrids{Tuple{Float64, Float64}, BasicILMCache{0, GridScaling, Nodes{Primal, 406, 209, Float64, Matrix{Float64}}, 2, BodyList, VectorData{0, Float64, Vector{Float64}}, ScalarData{0, Float64, Vector{Float64}}, Regularize{0, false}, RegularizationMatrix{Edges{Primal, 406, 209, Float64, Vector{Float64}}, VectorData{0, Float64, Vector{Float64}}}, InterpolationMatrix{Edges{Primal, 406, 209, Float64, Vector{Float64}}, VectorData{0, Float64, Vector{Float64}}}, RegularizationMatrix{Nodes{Primal, 406, 209, Float64, Matrix{Float64}}, ScalarData{0, Float64, Vector{Float64}}}, InterpolationMatrix{Nodes{Primal, 406, 209, Float64, Matrix{Float64}}, ScalarData{0, Float64, Vector{Float64}}}, Nothing, Nothing, Nothing, Nothing, Laplacian{406, 209, Float64, true, false}, Edges{Primal, 406, 209, Float64, Vector{Float64}}, Nodes{Dual, 406, 209, Float64, Matrix{Float64}}, Nothing, VectorData{0, Float64, Vector{Float64}}, ScalarData{0, Float64, Vector{Float64}}, Nothing}}}, Float64}, Float64, 4})\n",
      "Closest candidates are:\n",
      "  (::Type{T})(::Real, !Matched::RoundingMode) where T<:AbstractFloat at rounding.jl:200\n",
      "  (::Type{T})(::T) where T<:Number at boot.jl:772\n",
      "  (::Type{T})(!Matched::AbstractChar) where T<:Union{AbstractChar, Number} at char.jl:50\n",
      "  ...\n",
      "\n",
      "Stacktrace:\n",
      "  [1] convert(#unused#::Type{Float64}, x::ForwardDiff.Dual{ForwardDiff.Tag{var\"#11#12\"{TemperatureObservations{4, 3, Vector{ComplexF64}, HeaterConfig{Dict{Any, Any}}}, constructGrids{Tuple{Float64, Float64}, BasicILMCache{0, GridScaling, Nodes{Primal, 406, 209, Float64, Matrix{Float64}}, 2, BodyList, VectorData{0, Float64, Vector{Float64}}, ScalarData{0, Float64, Vector{Float64}}, Regularize{0, false}, RegularizationMatrix{Edges{Primal, 406, 209, Float64, Vector{Float64}}, VectorData{0, Float64, Vector{Float64}}}, InterpolationMatrix{Edges{Primal, 406, 209, Float64, Vector{Float64}}, VectorData{0, Float64, Vector{Float64}}}, RegularizationMatrix{Nodes{Primal, 406, 209, Float64, Matrix{Float64}}, ScalarData{0, Float64, Vector{Float64}}}, InterpolationMatrix{Nodes{Primal, 406, 209, Float64, Matrix{Float64}}, ScalarData{0, Float64, Vector{Float64}}}, Nothing, Nothing, Nothing, Nothing, Laplacian{406, 209, Float64, true, false}, Edges{Primal, 406, 209, Float64, Vector{Float64}}, Nodes{Dual, 406, 209, Float64, Matrix{Float64}}, Nothing, VectorData{0, Float64, Vector{Float64}}, ScalarData{0, Float64, Vector{Float64}}, Nothing}}}, Float64}, Float64, 4})\n",
      "    @ Base .\\number.jl:7\n",
      "  [2] setindex!(::Nodes{Primal, 406, 209, Float64, Matrix{Float64}}, ::ForwardDiff.Dual{ForwardDiff.Tag{var\"#11#12\"{TemperatureObservations{4, 3, Vector{ComplexF64}, HeaterConfig{Dict{Any, Any}}}, constructGrids{Tuple{Float64, Float64}, BasicILMCache{0, GridScaling, Nodes{Primal, 406, 209, Float64, Matrix{Float64}}, 2, BodyList, VectorData{0, Float64, Vector{Float64}}, ScalarData{0, Float64, Vector{Float64}}, Regularize{0, false}, RegularizationMatrix{Edges{Primal, 406, 209, Float64, Vector{Float64}}, VectorData{0, Float64, Vector{Float64}}}, InterpolationMatrix{Edges{Primal, 406, 209, Float64, Vector{Float64}}, VectorData{0, Float64, Vector{Float64}}}, RegularizationMatrix{Nodes{Primal, 406, 209, Float64, Matrix{Float64}}, ScalarData{0, Float64, Vector{Float64}}}, InterpolationMatrix{Nodes{Primal, 406, 209, Float64, Matrix{Float64}}, ScalarData{0, Float64, Vector{Float64}}}, Nothing, Nothing, Nothing, Nothing, Laplacian{406, 209, Float64, true, false}, Edges{Primal, 406, 209, Float64, Vector{Float64}}, Nodes{Dual, 406, 209, Float64, Matrix{Float64}}, Nothing, VectorData{0, Float64, Vector{Float64}}, ScalarData{0, Float64, Vector{Float64}}, Nothing}}}, Float64}, Float64, 4}, ::Int64, ::Int64)\n",
      "    @ CartesianGrids C:\\Users\\Hanieh\\.julia\\packages\\CartesianGrids\\emkly\\src\\fields\\scalargrid.jl:82\n",
      "  [3] temperature1(x::Vector{ForwardDiff.Dual{ForwardDiff.Tag{var\"#11#12\"{TemperatureObservations{4, 3, Vector{ComplexF64}, HeaterConfig{Dict{Any, Any}}}, constructGrids{Tuple{Float64, Float64}, BasicILMCache{0, GridScaling, Nodes{Primal, 406, 209, Float64, Matrix{Float64}}, 2, BodyList, VectorData{0, Float64, Vector{Float64}}, ScalarData{0, Float64, Vector{Float64}}, Regularize{0, false}, RegularizationMatrix{Edges{Primal, 406, 209, Float64, Vector{Float64}}, VectorData{0, Float64, Vector{Float64}}}, InterpolationMatrix{Edges{Primal, 406, 209, Float64, Vector{Float64}}, VectorData{0, Float64, Vector{Float64}}}, RegularizationMatrix{Nodes{Primal, 406, 209, Float64, Matrix{Float64}}, ScalarData{0, Float64, Vector{Float64}}}, InterpolationMatrix{Nodes{Primal, 406, 209, Float64, Matrix{Float64}}, ScalarData{0, Float64, Vector{Float64}}}, Nothing, Nothing, Nothing, Nothing, Laplacian{406, 209, Float64, true, false}, Edges{Primal, 406, 209, Float64, Vector{Float64}}, Nodes{Dual, 406, 209, Float64, Matrix{Float64}}, Nothing, VectorData{0, Float64, Vector{Float64}}, ScalarData{0, Float64, Vector{Float64}}, Nothing}}}, Float64}, Float64, 4}}, obs::TemperatureObservations{4, 3, Vector{ComplexF64}, HeaterConfig{Dict{Any, Any}}}, gridConfig::constructGrids{Tuple{Float64, Float64}, BasicILMCache{0, GridScaling, Nodes{Primal, 406, 209, Float64, Matrix{Float64}}, 2, BodyList, VectorData{0, Float64, Vector{Float64}}, ScalarData{0, Float64, Vector{Float64}}, Regularize{0, false}, RegularizationMatrix{Edges{Primal, 406, 209, Float64, Vector{Float64}}, VectorData{0, Float64, Vector{Float64}}}, InterpolationMatrix{Edges{Primal, 406, 209, Float64, Vector{Float64}}, VectorData{0, Float64, Vector{Float64}}}, RegularizationMatrix{Nodes{Primal, 406, 209, Float64, Matrix{Float64}}, ScalarData{0, Float64, Vector{Float64}}}, InterpolationMatrix{Nodes{Primal, 406, 209, Float64, Matrix{Float64}}, ScalarData{0, Float64, Vector{Float64}}}, Nothing, Nothing, Nothing, Nothing, Laplacian{406, 209, Float64, true, false}, Edges{Primal, 406, 209, Float64, Vector{Float64}}, Nodes{Dual, 406, 209, Float64, Matrix{Float64}}, Nothing, VectorData{0, Float64, Vector{Float64}}, ScalarData{0, Float64, Vector{Float64}}, Nothing}})\n",
      "    @ Main g:\\HeatForecastAnyShape.jl\\stationary\\jacobian.ipynb:24\n",
      "  [4] #11\n",
      "    @ g:\\HeatForecastAnyShape.jl\\stationary\\jacobian.ipynb:7 [inlined]\n",
      "  [5] vector_mode_dual_eval!\n",
      "    @ C:\\Users\\Hanieh\\.julia\\packages\\ForwardDiff\\vXysl\\src\\apiutils.jl:24 [inlined]\n",
      "  [6] vector_mode_jacobian(f::var\"#11#12\"{TemperatureObservations{4, 3, Vector{ComplexF64}, HeaterConfig{Dict{Any, Any}}}, constructGrids{Tuple{Float64, Float64}, BasicILMCache{0, GridScaling, Nodes{Primal, 406, 209, Float64, Matrix{Float64}}, 2, BodyList, VectorData{0, Float64, Vector{Float64}}, ScalarData{0, Float64, Vector{Float64}}, Regularize{0, false}, RegularizationMatrix{Edges{Primal, 406, 209, Float64, Vector{Float64}}, VectorData{0, Float64, Vector{Float64}}}, InterpolationMatrix{Edges{Primal, 406, 209, Float64, Vector{Float64}}, VectorData{0, Float64, Vector{Float64}}}, RegularizationMatrix{Nodes{Primal, 406, 209, Float64, Matrix{Float64}}, ScalarData{0, Float64, Vector{Float64}}}, InterpolationMatrix{Nodes{Primal, 406, 209, Float64, Matrix{Float64}}, ScalarData{0, Float64, Vector{Float64}}}, Nothing, Nothing, Nothing, Nothing, Laplacian{406, 209, Float64, true, false}, Edges{Primal, 406, 209, Float64, Vector{Float64}}, Nodes{Dual, 406, 209, Float64, Matrix{Float64}}, Nothing, VectorData{0, Float64, Vector{Float64}}, ScalarData{0, Float64, Vector{Float64}}, Nothing}}}, x::Vector{Float64}, cfg::ForwardDiff.JacobianConfig{ForwardDiff.Tag{var\"#11#12\"{TemperatureObservations{4, 3, Vector{ComplexF64}, HeaterConfig{Dict{Any, Any}}}, constructGrids{Tuple{Float64, Float64}, BasicILMCache{0, GridScaling, Nodes{Primal, 406, 209, Float64, Matrix{Float64}}, 2, BodyList, VectorData{0, Float64, Vector{Float64}}, ScalarData{0, Float64, Vector{Float64}}, Regularize{0, false}, RegularizationMatrix{Edges{Primal, 406, 209, Float64, Vector{Float64}}, VectorData{0, Float64, Vector{Float64}}}, InterpolationMatrix{Edges{Primal, 406, 209, Float64, Vector{Float64}}, VectorData{0, Float64, Vector{Float64}}}, RegularizationMatrix{Nodes{Primal, 406, 209, Float64, Matrix{Float64}}, ScalarData{0, Float64, Vector{Float64}}}, InterpolationMatrix{Nodes{Primal, 406, 209, Float64, Matrix{Float64}}, ScalarData{0, Float64, Vector{Float64}}}, Nothing, Nothing, Nothing, Nothing, Laplacian{406, 209, Float64, true, false}, Edges{Primal, 406, 209, Float64, Vector{Float64}}, Nodes{Dual, 406, 209, Float64, Matrix{Float64}}, Nothing, VectorData{0, Float64, Vector{Float64}}, ScalarData{0, Float64, Vector{Float64}}, Nothing}}}, Float64}, Float64, 4, Vector{ForwardDiff.Dual{ForwardDiff.Tag{var\"#11#12\"{TemperatureObservations{4, 3, Vector{ComplexF64}, HeaterConfig{Dict{Any, Any}}}, constructGrids{Tuple{Float64, Float64}, BasicILMCache{0, GridScaling, Nodes{Primal, 406, 209, Float64, Matrix{Float64}}, 2, BodyList, VectorData{0, Float64, Vector{Float64}}, ScalarData{0, Float64, Vector{Float64}}, Regularize{0, false}, RegularizationMatrix{Edges{Primal, 406, 209, Float64, Vector{Float64}}, VectorData{0, Float64, Vector{Float64}}}, InterpolationMatrix{Edges{Primal, 406, 209, Float64, Vector{Float64}}, VectorData{0, Float64, Vector{Float64}}}, RegularizationMatrix{Nodes{Primal, 406, 209, Float64, Matrix{Float64}}, ScalarData{0, Float64, Vector{Float64}}}, InterpolationMatrix{Nodes{Primal, 406, 209, Float64, Matrix{Float64}}, ScalarData{0, Float64, Vector{Float64}}}, Nothing, Nothing, Nothing, Nothing, Laplacian{406, 209, Float64, true, false}, Edges{Primal, 406, 209, Float64, Vector{Float64}}, Nodes{Dual, 406, 209, Float64, Matrix{Float64}}, Nothing, VectorData{0, Float64, Vector{Float64}}, ScalarData{0, Float64, Vector{Float64}}, Nothing}}}, Float64}, Float64, 4}}})\n",
      "    @ ForwardDiff C:\\Users\\Hanieh\\.julia\\packages\\ForwardDiff\\vXysl\\src\\jacobian.jl:125\n",
      "  [7] jacobian(f::Function, x::Vector{Float64}, cfg::ForwardDiff.JacobianConfig{ForwardDiff.Tag{var\"#11#12\"{TemperatureObservations{4, 3, Vector{ComplexF64}, HeaterConfig{Dict{Any, Any}}}, constructGrids{Tuple{Float64, Float64}, BasicILMCache{0, GridScaling, Nodes{Primal, 406, 209, Float64, Matrix{Float64}}, 2, BodyList, VectorData{0, Float64, Vector{Float64}}, ScalarData{0, Float64, Vector{Float64}}, Regularize{0, false}, RegularizationMatrix{Edges{Primal, 406, 209, Float64, Vector{Float64}}, VectorData{0, Float64, Vector{Float64}}}, InterpolationMatrix{Edges{Primal, 406, 209, Float64, Vector{Float64}}, VectorData{0, Float64, Vector{Float64}}}, RegularizationMatrix{Nodes{Primal, 406, 209, Float64, Matrix{Float64}}, ScalarData{0, Float64, Vector{Float64}}}, InterpolationMatrix{Nodes{Primal, 406, 209, Float64, Matrix{Float64}}, ScalarData{0, Float64, Vector{Float64}}}, Nothing, Nothing, Nothing, Nothing, Laplacian{406, 209, Float64, true, false}, Edges{Primal, 406, 209, Float64, Vector{Float64}}, Nodes{Dual, 406, 209, Float64, Matrix{Float64}}, Nothing, VectorData{0, Float64, Vector{Float64}}, ScalarData{0, Float64, Vector{Float64}}, Nothing}}}, Float64}, Float64, 4, Vector{ForwardDiff.Dual{ForwardDiff.Tag{var\"#11#12\"{TemperatureObservations{4, 3, Vector{ComplexF64}, HeaterConfig{Dict{Any, Any}}}, constructGrids{Tuple{Float64, Float64}, BasicILMCache{0, GridScaling, Nodes{Primal, 406, 209, Float64, Matrix{Float64}}, 2, BodyList, VectorData{0, Float64, Vector{Float64}}, ScalarData{0, Float64, Vector{Float64}}, Regularize{0, false}, RegularizationMatrix{Edges{Primal, 406, 209, Float64, Vector{Float64}}, VectorData{0, Float64, Vector{Float64}}}, InterpolationMatrix{Edges{Primal, 406, 209, Float64, Vector{Float64}}, VectorData{0, Float64, Vector{Float64}}}, RegularizationMatrix{Nodes{Primal, 406, 209, Float64, Matrix{Float64}}, ScalarData{0, Float64, Vector{Float64}}}, InterpolationMatrix{Nodes{Primal, 406, 209, Float64, Matrix{Float64}}, ScalarData{0, Float64, Vector{Float64}}}, Nothing, Nothing, Nothing, Nothing, Laplacian{406, 209, Float64, true, false}, Edges{Primal, 406, 209, Float64, Vector{Float64}}, Nodes{Dual, 406, 209, Float64, Matrix{Float64}}, Nothing, VectorData{0, Float64, Vector{Float64}}, ScalarData{0, Float64, Vector{Float64}}, Nothing}}}, Float64}, Float64, 4}}}, ::Val{true})\n",
      "    @ ForwardDiff C:\\Users\\Hanieh\\.julia\\packages\\ForwardDiff\\vXysl\\src\\jacobian.jl:21\n",
      "  [8] jacobian(f::Function, x::Vector{Float64}, cfg::ForwardDiff.JacobianConfig{ForwardDiff.Tag{var\"#11#12\"{TemperatureObservations{4, 3, Vector{ComplexF64}, HeaterConfig{Dict{Any, Any}}}, constructGrids{Tuple{Float64, Float64}, BasicILMCache{0, GridScaling, Nodes{Primal, 406, 209, Float64, Matrix{Float64}}, 2, BodyList, VectorData{0, Float64, Vector{Float64}}, ScalarData{0, Float64, Vector{Float64}}, Regularize{0, false}, RegularizationMatrix{Edges{Primal, 406, 209, Float64, Vector{Float64}}, VectorData{0, Float64, Vector{Float64}}}, InterpolationMatrix{Edges{Primal, 406, 209, Float64, Vector{Float64}}, VectorData{0, Float64, Vector{Float64}}}, RegularizationMatrix{Nodes{Primal, 406, 209, Float64, Matrix{Float64}}, ScalarData{0, Float64, Vector{Float64}}}, InterpolationMatrix{Nodes{Primal, 406, 209, Float64, Matrix{Float64}}, ScalarData{0, Float64, Vector{Float64}}}, Nothing, Nothing, Nothing, Nothing, Laplacian{406, 209, Float64, true, false}, Edges{Primal, 406, 209, Float64, Vector{Float64}}, Nodes{Dual, 406, 209, Float64, Matrix{Float64}}, Nothing, VectorData{0, Float64, Vector{Float64}}, ScalarData{0, Float64, Vector{Float64}}, Nothing}}}, Float64}, Float64, 4, Vector{ForwardDiff.Dual{ForwardDiff.Tag{var\"#11#12\"{TemperatureObservations{4, 3, Vector{ComplexF64}, HeaterConfig{Dict{Any, Any}}}, constructGrids{Tuple{Float64, Float64}, BasicILMCache{0, GridScaling, Nodes{Primal, 406, 209, Float64, Matrix{Float64}}, 2, BodyList, VectorData{0, Float64, Vector{Float64}}, ScalarData{0, Float64, Vector{Float64}}, Regularize{0, false}, RegularizationMatrix{Edges{Primal, 406, 209, Float64, Vector{Float64}}, VectorData{0, Float64, Vector{Float64}}}, InterpolationMatrix{Edges{Primal, 406, 209, Float64, Vector{Float64}}, VectorData{0, Float64, Vector{Float64}}}, RegularizationMatrix{Nodes{Primal, 406, 209, Float64, Matrix{Float64}}, ScalarData{0, Float64, Vector{Float64}}}, InterpolationMatrix{Nodes{Primal, 406, 209, Float64, Matrix{Float64}}, ScalarData{0, Float64, Vector{Float64}}}, Nothing, Nothing, Nothing, Nothing, Laplacian{406, 209, Float64, true, false}, Edges{Primal, 406, 209, Float64, Vector{Float64}}, Nodes{Dual, 406, 209, Float64, Matrix{Float64}}, Nothing, VectorData{0, Float64, Vector{Float64}}, ScalarData{0, Float64, Vector{Float64}}, Nothing}}}, Float64}, Float64, 4}}}) (repeats 2 times)\n",
      "    @ ForwardDiff C:\\Users\\Hanieh\\.julia\\packages\\ForwardDiff\\vXysl\\src\\jacobian.jl:19\n",
      "  [9] jacobia(x::Vector{Float64}, obs::TemperatureObservations{4, 3, Vector{ComplexF64}, HeaterConfig{Dict{Any, Any}}}, gridConfig::constructGrids{Tuple{Float64, Float64}, BasicILMCache{0, GridScaling, Nodes{Primal, 406, 209, Float64, Matrix{Float64}}, 2, BodyList, VectorData{0, Float64, Vector{Float64}}, ScalarData{0, Float64, Vector{Float64}}, Regularize{0, false}, RegularizationMatrix{Edges{Primal, 406, 209, Float64, Vector{Float64}}, VectorData{0, Float64, Vector{Float64}}}, InterpolationMatrix{Edges{Primal, 406, 209, Float64, Vector{Float64}}, VectorData{0, Float64, Vector{Float64}}}, RegularizationMatrix{Nodes{Primal, 406, 209, Float64, Matrix{Float64}}, ScalarData{0, Float64, Vector{Float64}}}, InterpolationMatrix{Nodes{Primal, 406, 209, Float64, Matrix{Float64}}, ScalarData{0, Float64, Vector{Float64}}}, Nothing, Nothing, Nothing, Nothing, Laplacian{406, 209, Float64, true, false}, Edges{Primal, 406, 209, Float64, Vector{Float64}}, Nodes{Dual, 406, 209, Float64, Matrix{Float64}}, Nothing, VectorData{0, Float64, Vector{Float64}}, ScalarData{0, Float64, Vector{Float64}}, Nothing}})\n",
      "    @ Main g:\\HeatForecastAnyShape.jl\\stationary\\jacobian.ipynb:7\n",
      " [10] top-level scope\n",
      "    @ g:\\HeatForecastAnyShape.jl\\stationary\\jacobian.ipynb:2"
     ]
    }
   ],
   "source": [
    "J = zeros(Nsens,Nx)\n",
    "jacobia(x_true,obs_true,gridConfig)"
   ]
  }
 ],
 "metadata": {
  "kernelspec": {
   "display_name": "Julia 1.8.5",
   "language": "julia",
   "name": "julia-1.8"
  },
  "language_info": {
   "file_extension": ".jl",
   "mimetype": "application/julia",
   "name": "julia",
   "version": "1.8.5"
  },
  "orig_nbformat": 4
 },
 "nbformat": 4,
 "nbformat_minor": 2
}
