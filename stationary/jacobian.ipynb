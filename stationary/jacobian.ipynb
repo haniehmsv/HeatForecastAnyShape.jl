{
 "cells": [
  {
   "cell_type": "code",
   "execution_count": 1,
   "metadata": {},
   "outputs": [],
   "source": [
    "using Revise"
   ]
  },
  {
   "cell_type": "code",
   "execution_count": 2,
   "metadata": {},
   "outputs": [],
   "source": [
    "using ForwardDiff"
   ]
  },
  {
   "cell_type": "code",
   "execution_count": 3,
   "metadata": {},
   "outputs": [],
   "source": [
    "using UnPack"
   ]
  },
  {
   "cell_type": "code",
   "execution_count": 4,
   "metadata": {},
   "outputs": [],
   "source": [
    "using LinearAlgebra\n",
    "using ImmersedLayers"
   ]
  },
  {
   "cell_type": "code",
   "execution_count": 5,
   "metadata": {},
   "outputs": [],
   "source": [
    "using HeatForecastAnyShape"
   ]
  },
  {
   "cell_type": "markdown",
   "metadata": {},
   "source": [
    "### True data"
   ]
  },
  {
   "cell_type": "code",
   "execution_count": 6,
   "metadata": {},
   "outputs": [
    {
     "data": {
      "text/plain": [
       "1"
      ]
     },
     "metadata": {},
     "output_type": "display_data"
    }
   ],
   "source": [
    "δ_true = 0.01\n",
    "zq = [0.5+1.2im]\n",
    "qq = [1.0]\n",
    "c1q = [0.5]\n",
    "c2q = [0.25]\n",
    "Nq_true = length(zq)"
   ]
  },
  {
   "cell_type": "markdown",
   "metadata": {},
   "source": [
    "### Setting up the observer for the true data"
   ]
  },
  {
   "cell_type": "code",
   "execution_count": 7,
   "metadata": {},
   "outputs": [
    {
     "data": {
      "text/plain": [
       "5-element Vector{Float64}:\n",
       " 0.5\n",
       " 1.2\n",
       " 1.0\n",
       " 0.5\n",
       " 0.25"
      ]
     },
     "metadata": {},
     "output_type": "display_data"
    }
   ],
   "source": [
    "config_true, x_true = get_config_and_state(zq,qq,c1q,c2q)\n",
    "ϵmeas_data = [1e-5,1e-4,2.5e-4,3.75e-4,5e-4,6.25e-4,8e-4,1e-3,1.5e-3,2e-3,3e-3,4e-3];\n",
    "x_true"
   ]
  },
  {
   "cell_type": "markdown",
   "metadata": {},
   "source": [
    "### Heater estimation"
   ]
  },
  {
   "cell_type": "code",
   "execution_count": 8,
   "metadata": {},
   "outputs": [
    {
     "data": {
      "text/plain": [
       "5-element Vector{Tuple{Float64, Float64}}:\n",
       " (-2.0, 2.0)\n",
       " (0.01, 2.0)\n",
       " (-2.0, 2.0)\n",
       " (0.0, 1.0)\n",
       " (0.0, 1.0)"
      ]
     },
     "metadata": {},
     "output_type": "display_data"
    }
   ],
   "source": [
    "Nq_estimator = 1\n",
    "δ = 0.01\n",
    "config_estimator = HeaterConfig(Nq_estimator)\n",
    "\n",
    "\n",
    "# ranges to confine the prior mean to\n",
    "xr = (-2.0,2.0)\n",
    "yr = (0.01,2) #(0.01,4) #(0.01,2.0)\n",
    "qr = (-2,2)\n",
    "c1r = (0,1)\n",
    "c2r = (0,1)\n",
    "bounds = create_state_bounds(xr,yr,qr,c1r,c2r,config_estimator);\n",
    "bounds"
   ]
  },
  {
   "cell_type": "code",
   "execution_count": 9,
   "metadata": {},
   "outputs": [
    {
     "data": {
      "text/plain": [
       "5-element Vector{Tuple{Float64, Float64}}:\n",
       " (-2.0, 2.0)\n",
       " (-2.0, 2.0)\n",
       " (-2.0, 2.0)\n",
       " (0.0, 1.0)\n",
       " (0.0, 1.0)"
      ]
     },
     "metadata": {},
     "output_type": "display_data"
    }
   ],
   "source": [
    "#bounds for numerical domain\n",
    "xr = (-2.0,2.0)\n",
    "yr = (-2.0,2.0) #(0.01,4) #(0.01,2.0)\n",
    "qr = (-2,2)\n",
    "c1r = (0,1)\n",
    "c2r = (0,1)\n",
    "bounds_num = create_state_bounds(xr,yr,qr,c1r,c2r,config_estimator);\n",
    "bounds_num"
   ]
  },
  {
   "cell_type": "markdown",
   "metadata": {},
   "source": [
    "### Set up MCMC parameters"
   ]
  },
  {
   "cell_type": "code",
   "execution_count": 10,
   "metadata": {},
   "outputs": [],
   "source": [
    "## Parallel tempering ##\n",
    "propvarX_coarse = 0.01^2 \n",
    "propvarY_coarse = 0.01^2\n",
    "propvarQ_coarse = 0.05^2 #0.05^2\n",
    "propvarC_coarse = 0.01^2\n",
    "\n",
    "propvarX_fine = 0.005^2 # 0.01^2\n",
    "propvarY_fine = 0.005^2 # 0.01^2\n",
    "propvarQ_fine = 0.01^2 # 0.005^2 # 0.01^2\n",
    "propvarC_fine = 0.005^2\n",
    "\n",
    "#Ntrial = [10000, 600000]\n",
    "#propvar = [state_covariance(propvarX_coarse,propvarY_coarse,propvarQ_coarse,propvarR_coarse,config_estimator),\n",
    "           #state_covariance(propvarX_fine,propvarY_fine,propvarQ_fine,propvarR_fine,config_estimator)];\n",
    "Ntrial = [10000]\n",
    "propvar = [state_covariance(propvarX_coarse,propvarY_coarse,propvarQ_coarse,propvarC_coarse,config_estimator)];"
   ]
  },
  {
   "cell_type": "markdown",
   "metadata": {},
   "source": [
    "### Getting results for a specific case"
   ]
  },
  {
   "cell_type": "code",
   "execution_count": 11,
   "metadata": {},
   "outputs": [
    {
     "data": {
      "text/plain": [
       "constructGrids{Tuple{Float64, Float64}, BasicILMCache{0, GridScaling, Nodes{Primal, 402, 404, Float64, Matrix{Float64}}, 2, BodyList, VectorData{0, Float64, Vector{Float64}}, ScalarData{0, Float64, Vector{Float64}}, Regularize{0, false}, RegularizationMatrix{Edges{Primal, 402, 404, Float64, Vector{Float64}}, VectorData{0, Float64, Vector{Float64}}}, InterpolationMatrix{Edges{Primal, 402, 404, Float64, Vector{Float64}}, VectorData{0, Float64, Vector{Float64}}}, RegularizationMatrix{Nodes{Primal, 402, 404, Float64, Matrix{Float64}}, ScalarData{0, Float64, Vector{Float64}}}, InterpolationMatrix{Nodes{Primal, 402, 404, Float64, Matrix{Float64}}, ScalarData{0, Float64, Vector{Float64}}}, Nothing, Nothing, Nothing, Nothing, Laplacian{402, 404, Float64, true, false}, Edges{Primal, 402, 404, Float64, Vector{Float64}}, Nodes{Dual, 402, 404, Float64, Matrix{Float64}}, Nothing, VectorData{0, Float64, Vector{Float64}}, ScalarData{0, Float64, Vector{Float64}}, Nothing}}(0.01, (-2.0, 2.0), (-2.0, 2.0), PhysicalGrid{2}((402, 404), (201, 202), 0.01, ((-2.0, 2.0), (-2.0100000000000002, 2.0100000000000002)), 4), Surface cache with scaling of type GridScaling\n",
       "  0 point data of type ScalarData{0, Float64, Vector{Float64}}\n",
       "  Grid data of type Nodes{Primal, 402, 404, Float64, Matrix{Float64}}\n",
       ", 500)"
      ]
     },
     "metadata": {},
     "output_type": "display_data"
    },
    {
     "name": "stderr",
     "output_type": "stream",
     "text": [
      "WARNING: both OrdinaryDiffEq and LinearMaps export \"FunctionMap\"; uses of it in module ConstrainedSystems must be qualified\n"
     ]
    }
   ],
   "source": [
    "Δx = 0.01\n",
    "Ntheta = 500\n",
    "gridConfig = constructGrids(Δx,bounds_num;Ntheta)"
   ]
  },
  {
   "cell_type": "code",
   "execution_count": 12,
   "metadata": {},
   "outputs": [
    {
     "data": {
      "text/plain": [
       "(TemperatureObservations{5, 5, Vector{ComplexF64}, HeaterConfig{Dict{Any, Any}}}(ComplexF64[-1.0 + 0.0im, -0.5 + 0.0im, 0.0 + 0.0im, 0.5 + 0.0im, 1.0 + 0.0im], HeaterConfig{Dict{Any, Any}}(1, Dict{Any, Any}(\"heater q\" => [3], \"heater y\" => [2], \"heater x\" => [1], \"heater c1\" => [4], \"heater c2\" => [5]), 0.0)), [-0.8348591168958504, -0.8029232710704499, -0.7710057426082351, -0.7489701713605068, -0.7508582077436514], [0.0 0.0 … 0.0 0.0; 0.0 0.0 … 0.0 0.0; … ; 0.0 0.0 … 0.0 0.0; 0.0 0.0 … 0.0 0.0], [2.5e-7 0.0 … 0.0 0.0; 0.0 2.5e-7 … 0.0 0.0; … ; 0.0 0.0 … 2.5e-7 0.0; 0.0 0.0 … 0.0 2.5e-7], [0.0 0.0 … 0.0 0.0; 0.0 0.0 … 0.0 0.0; … ; 0.0 0.0 … 0.0 0.0; 0.0 0.0 … 0.0 0.0])"
      ]
     },
     "metadata": {},
     "output_type": "display_data"
    }
   ],
   "source": [
    "K = 1\n",
    "Nsens = 5\n",
    "ϵmeas = 5e-4\n",
    "obs_true, ystar, H, Σϵ, Σx = get_truth_data(Nsens,ϵmeas,x_true,config_true,gridConfig)"
   ]
  },
  {
   "cell_type": "code",
   "execution_count": 13,
   "metadata": {},
   "outputs": [
    {
     "data": {
      "text/plain": [
       "5-element Vector{Float64}:\n",
       " -0.8348591168958504\n",
       " -0.8029232710704499\n",
       " -0.7710057426082351\n",
       " -0.7489701713605068\n",
       " -0.7508582077436514"
      ]
     },
     "metadata": {},
     "output_type": "display_data"
    }
   ],
   "source": [
    "ystar"
   ]
  },
  {
   "cell_type": "code",
   "execution_count": 14,
   "metadata": {},
   "outputs": [
    {
     "ename": "MethodError",
     "evalue": "MethodError: no method matching Float64(::ForwardDiff.Dual{ForwardDiff.Tag{var\"#9#10\", Float64}, Float64, 5})\nClosest candidates are:\n  (::Type{T})(::Real, !Matched::RoundingMode) where T<:AbstractFloat at rounding.jl:200\n  (::Type{T})(::T) where T<:Number at boot.jl:772\n  (::Type{T})(!Matched::AbstractChar) where T<:Union{AbstractChar, Number} at char.jl:50\n  ...",
     "output_type": "error",
     "traceback": [
      "MethodError: no method matching Float64(::ForwardDiff.Dual{ForwardDiff.Tag{var\"#9#10\", Float64}, Float64, 5})\n",
      "Closest candidates are:\n",
      "  (::Type{T})(::Real, !Matched::RoundingMode) where T<:AbstractFloat at rounding.jl:200\n",
      "  (::Type{T})(::T) where T<:Number at boot.jl:772\n",
      "  (::Type{T})(!Matched::AbstractChar) where T<:Union{AbstractChar, Number} at char.jl:50\n",
      "  ...\n",
      "\n",
      "Stacktrace:\n",
      " [1] convert(#unused#::Type{Float64}, x::ForwardDiff.Dual{ForwardDiff.Tag{var\"#9#10\", Float64}, Float64, 5})\n",
      "   @ Base .\\number.jl:7\n",
      " [2] setindex!(::Nodes{Primal, 402, 404, Float64, Matrix{Float64}}, ::ForwardDiff.Dual{ForwardDiff.Tag{var\"#9#10\", Float64}, Float64, 5}, ::Int64, ::Int64)\n",
      "   @ CartesianGrids C:\\Users\\Hanieh\\.julia\\packages\\CartesianGrids\\emkly\\src\\fields\\scalargrid.jl:82\n",
      " [3] analytical_temperature(x::Vector{ForwardDiff.Dual{ForwardDiff.Tag{var\"#9#10\", Float64}, Float64, 5}}, obs::TemperatureObservations{5, 5, Vector{ComplexF64}, HeaterConfig{Dict{Any, Any}}}, gridConfig::constructGrids{Tuple{Float64, Float64}, BasicILMCache{0, GridScaling, Nodes{Primal, 402, 404, Float64, Matrix{Float64}}, 2, BodyList, VectorData{0, Float64, Vector{Float64}}, ScalarData{0, Float64, Vector{Float64}}, Regularize{0, false}, RegularizationMatrix{Edges{Primal, 402, 404, Float64, Vector{Float64}}, VectorData{0, Float64, Vector{Float64}}}, InterpolationMatrix{Edges{Primal, 402, 404, Float64, Vector{Float64}}, VectorData{0, Float64, Vector{Float64}}}, RegularizationMatrix{Nodes{Primal, 402, 404, Float64, Matrix{Float64}}, ScalarData{0, Float64, Vector{Float64}}}, InterpolationMatrix{Nodes{Primal, 402, 404, Float64, Matrix{Float64}}, ScalarData{0, Float64, Vector{Float64}}}, Nothing, Nothing, Nothing, Nothing, Laplacian{402, 404, Float64, true, false}, Edges{Primal, 402, 404, Float64, Vector{Float64}}, Nodes{Dual, 402, 404, Float64, Matrix{Float64}}, Nothing, VectorData{0, Float64, Vector{Float64}}, ScalarData{0, Float64, Vector{Float64}}, Nothing}})\n",
      "   @ HeatForecastAnyShape C:\\Users\\Hanieh\\.julia\\packages\\HeatForecastAnyShape\\ULggW\\src\\temperature\\temperature_solution.jl:36\n",
      " [4] (::var\"#9#10\")(y::Vector{ForwardDiff.Dual{ForwardDiff.Tag{var\"#9#10\", Float64}, Float64, 5}})\n",
      "   @ Main g:\\github repositories\\HeatForecastAnyShape.jl\\stationary\\jacobian.ipynb:1\n",
      " [5] vector_mode_dual_eval\n",
      "   @ C:\\Users\\Hanieh\\.julia\\packages\\ForwardDiff\\5gUap\\src\\apiutils.jl:37 [inlined]\n",
      " [6] vector_mode_jacobian(f::var\"#9#10\", x::Vector{Float64}, cfg::ForwardDiff.JacobianConfig{ForwardDiff.Tag{var\"#9#10\", Float64}, Float64, 5, Vector{ForwardDiff.Dual{ForwardDiff.Tag{var\"#9#10\", Float64}, Float64, 5}}})\n",
      "   @ ForwardDiff C:\\Users\\Hanieh\\.julia\\packages\\ForwardDiff\\5gUap\\src\\jacobian.jl:147\n",
      " [7] jacobian(f::Function, x::Vector{Float64}, cfg::ForwardDiff.JacobianConfig{ForwardDiff.Tag{var\"#9#10\", Float64}, Float64, 5, Vector{ForwardDiff.Dual{ForwardDiff.Tag{var\"#9#10\", Float64}, Float64, 5}}}, ::Val{true})\n",
      "   @ ForwardDiff C:\\Users\\Hanieh\\.julia\\packages\\ForwardDiff\\5gUap\\src\\jacobian.jl:21\n",
      " [8] jacobian(f::Function, x::Vector{Float64}, cfg::ForwardDiff.JacobianConfig{ForwardDiff.Tag{var\"#9#10\", Float64}, Float64, 5, Vector{ForwardDiff.Dual{ForwardDiff.Tag{var\"#9#10\", Float64}, Float64, 5}}}) (repeats 2 times)\n",
      "   @ ForwardDiff C:\\Users\\Hanieh\\.julia\\packages\\ForwardDiff\\5gUap\\src\\jacobian.jl:19\n",
      " [9] top-level scope\n",
      "   @ g:\\github repositories\\HeatForecastAnyShape.jl\\stationary\\jacobian.ipynb:1"
     ]
    }
   ],
   "source": [
    "J = ForwardDiff.jacobian(y->analytical_temperature(y,obs_true,gridConfig),x_true)"
   ]
  }
 ],
 "metadata": {
  "kernelspec": {
   "display_name": "Julia 1.8.5",
   "language": "julia",
   "name": "julia-1.8"
  },
  "language_info": {
   "file_extension": ".jl",
   "mimetype": "application/julia",
   "name": "julia",
   "version": "1.8.5"
  },
  "orig_nbformat": 4
 },
 "nbformat": 4,
 "nbformat_minor": 2
}
