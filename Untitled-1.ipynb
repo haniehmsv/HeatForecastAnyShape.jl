{
 "cells": [
  {
   "cell_type": "code",
   "execution_count": 4,
   "metadata": {},
   "outputs": [],
   "source": [
    "using QuadGK\n",
    "using SymPy"
   ]
  },
  {
   "cell_type": "code",
   "execution_count": 7,
   "metadata": {},
   "outputs": [],
   "source": [
    "# Define the symbols\n",
    "x, y, x0, y0, R, q0, x_, y_ = symbols(\"x y x0 y0 R q0 x_ y_\")\n",
    "\n",
    "# Define the integral limits\n",
    "a = x0 - R/2\n",
    "b = x0 + R/2\n",
    "c = y0 - R/2\n",
    "d = y0 + R/2\n",
    "nothing\n",
    "\n",
    "# Define the integrand\n",
    "integrand = log(sqrt((x - x_)^2 + (y - y_)^2))\n",
    "\n",
    "# Perform the integration\n",
    "integral = integrate(integrand, (x_, a, b), (y_, c, d))\n",
    "\n",
    "# Compute the temperature T(x, y)\n",
    "T = -q0 / (2 * π) * integral\n",
    "\n",
    "# Simplify the expression\n",
    "T = simplify(T)\n",
    "\n",
    "# Display the result\n",
    "display(T)"
   ]
  },
  {
   "cell_type": "code",
   "execution_count": 10,
   "metadata": {},
   "outputs": [
    {
     "data": {
      "text/plain": [
       "compute_temperature (generic function with 1 method)"
      ]
     },
     "metadata": {},
     "output_type": "display_data"
    }
   ],
   "source": [
    "x0, y0 = 1, 1\n",
    "R = 1\n",
    "q0 = 1\n",
    "# Define the symbols\n",
    "x, y = symbols(\"x y\")\n",
    "# Define the integrand\n",
    "integrand(x_, y_) = log(sqrt((x - x_)^2 + (y - y_)^2))\n",
    "\n",
    "# Define the integral limits\n",
    "a = x0 - R/2\n",
    "b = x0 + R/2\n",
    "c = y0 - R/2\n",
    "d = y0 + R/2\n",
    "\n",
    "# Define the function to compute the temperature\n",
    "function compute_temperature(x, y, x0, y0, R, q0)\n",
    "    integrand_outer(y_) = quadgk(x_ -> integrand(x_, y_), a, b)[1]\n",
    "    integral_x, _ = quadgk(integrand_outer, c, d)\n",
    "    return -q0 / (2 * π) * integral_x\n",
    "end\n"
   ]
  },
  {
   "cell_type": "code",
   "execution_count": 19,
   "metadata": {},
   "outputs": [
    {
     "data": {
      "text/plain": [
       "3"
      ]
     },
     "metadata": {},
     "output_type": "display_data"
    }
   ],
   "source": [
    "len = 1\n",
    "Nsens = 3\n",
    "ϵsens = 0\n",
    "lowerrow = range(-len,len,length=Nsens) .+ (-0.5ϵsens .+ ϵsens*rand(Nsens))*im\n",
    "sens = vcat(lowerrow,)\n",
    "length(sens)"
   ]
  },
  {
   "cell_type": "code",
   "execution_count": 11,
   "metadata": {},
   "outputs": [
    {
     "data": {
      "text/plain": [
       "-0.4048580273357175"
      ]
     },
     "metadata": {},
     "output_type": "display_data"
    }
   ],
   "source": [
    "x = 10\n",
    "y = 10\n",
    "# Compute the temperature at a specific point\n",
    "temperature = compute_temperature(x, y, x0, y0, R, q0)\n",
    "\n",
    "# Display the result\n",
    "display(temperature)"
   ]
  },
  {
   "cell_type": "code",
   "execution_count": 22,
   "metadata": {},
   "outputs": [
    {
     "data": {
      "text/plain": [
       "5-element Vector{Float64}:\n",
       " 0.5\n",
       " 1.0\n",
       " 1.5\n",
       " 2.0\n",
       " 2.5"
      ]
     },
     "metadata": {},
     "output_type": "display_data"
    }
   ],
   "source": [
    "xq = [1,2,3,4,5]\n",
    "rq = [1,2,3,4,5]\n",
    "x_min = xq - rq/2"
   ]
  },
  {
   "cell_type": "code",
   "execution_count": null,
   "metadata": {},
   "outputs": [],
   "source": []
  }
 ],
 "metadata": {
  "kernelspec": {
   "display_name": "Julia 1.8.5",
   "language": "julia",
   "name": "julia-1.8"
  },
  "language_info": {
   "file_extension": ".jl",
   "mimetype": "application/julia",
   "name": "julia",
   "version": "1.8.5"
  },
  "orig_nbformat": 4
 },
 "nbformat": 4,
 "nbformat_minor": 2
}
