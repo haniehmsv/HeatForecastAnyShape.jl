{
 "cells": [
  {
   "cell_type": "code",
   "execution_count": 25,
   "metadata": {},
   "outputs": [],
   "source": [
    "using Revise"
   ]
  },
  {
   "cell_type": "code",
   "execution_count": 4,
   "metadata": {},
   "outputs": [],
   "source": [
    "using Turing"
   ]
  },
  {
   "cell_type": "code",
   "execution_count": 7,
   "metadata": {},
   "outputs": [],
   "source": [
    "using UnPack"
   ]
  },
  {
   "cell_type": "code",
   "execution_count": 10,
   "metadata": {},
   "outputs": [],
   "source": [
    "using ImmersedLayers"
   ]
  },
  {
   "cell_type": "code",
   "execution_count": 29,
   "metadata": {},
   "outputs": [],
   "source": [
    "using HeatForecastAnyShape"
   ]
  },
  {
   "cell_type": "code",
   "execution_count": 12,
   "metadata": {},
   "outputs": [],
   "source": [
    "using CairoMakie\n",
    "using LaTeXStrings"
   ]
  },
  {
   "cell_type": "code",
   "execution_count": 13,
   "metadata": {},
   "outputs": [],
   "source": [
    "using Distributions\n",
    "using Random\n",
    "using LinearAlgebra\n",
    "using GaussianMixtures\n",
    "using Statistics"
   ]
  },
  {
   "cell_type": "code",
   "execution_count": 14,
   "metadata": {},
   "outputs": [],
   "source": [
    "using JLD2"
   ]
  },
  {
   "cell_type": "code",
   "execution_count": 36,
   "metadata": {},
   "outputs": [
    {
     "data": {
      "text/plain": [
       "heat_equation_model (generic function with 2 methods)"
      ]
     },
     "metadata": {},
     "output_type": "display_data"
    }
   ],
   "source": [
    "@model function heat_equation_model(x,t,ystar,Σϵ,obs,gridConfig,bounds)\n",
    "    config = obs.config\n",
    "    sens = obs.sens\n",
    "    Nq = config.Nq\n",
    "    state_id = config.state_id\n",
    "    g = gridConfig.g\n",
    "    cache = gridConfig.cache\n",
    "    Ntheta = gridConfig.Ntheta\n",
    "\n",
    "    #Defining priors for the parameters\n",
    "    x_ids = state_id[\"heater x\"]\n",
    "    y_ids = state_id[\"heater y\"]\n",
    "    q_ids = state_id[\"heater q\"]\n",
    "    c1_ids = state_id[\"heater c1\"]\n",
    "    c2_ids = state_id[\"heater c2\"]\n",
    "\n",
    "    #Custom log-uniform prior for the parameters\n",
    "    xq_prior = log_uniform(x[x_ids],bounds[x_ids])\n",
    "    yq_prior = log_uniform(x[y_ids], bounds[y_ids])\n",
    "    qq_prior = log_uniform(x[q_ids], bounds[q_ids])\n",
    "    c1q_prior = log_uniform(x[c1_ids], bounds[c1_ids])\n",
    "    c2q_prior = log_uniform(x[c2_ids], bounds[c2_ids])\n",
    "\n",
    "    #Custom log-uniform prior for the parameters\n",
    "    xq ~ xq_prior\n",
    "    yq ~ yq_prior\n",
    "    qq ~ qq_prior\n",
    "    c1q ~ c1q_prior\n",
    "    c2q ~ c2q_prior\n",
    "\n",
    "    #likelihood\n",
    "    logp̃ = normal_loglikelihood(x, t, ystar, Σϵ, obs, gridConfig)\n",
    "\n",
    "    #adding priors and likelihood\n",
    "    logp̃ += log_uniform_prior(x, bounds)\n",
    "\n",
    "    return logp̃\n",
    "end"
   ]
  },
  {
   "cell_type": "markdown",
   "metadata": {},
   "source": [
    "### True data"
   ]
  },
  {
   "cell_type": "code",
   "execution_count": 27,
   "metadata": {},
   "outputs": [
    {
     "data": {
      "text/plain": [
       "1"
      ]
     },
     "metadata": {},
     "output_type": "display_data"
    }
   ],
   "source": [
    "δ_true = 0.01\n",
    "zq = [0.5+1.2im]\n",
    "qq = [1.0]\n",
    "c1q = [0.5]\n",
    "c2q = [0.25]\n",
    "Nq_true = length(zq)"
   ]
  },
  {
   "cell_type": "markdown",
   "metadata": {},
   "source": [
    "### Set up the observer for the true data"
   ]
  },
  {
   "cell_type": "code",
   "execution_count": 16,
   "metadata": {},
   "outputs": [
    {
     "data": {
      "text/plain": [
       "5-element Vector{Float64}:\n",
       " 0.5\n",
       " 1.2\n",
       " 1.0\n",
       " 0.5\n",
       " 0.25"
      ]
     },
     "metadata": {},
     "output_type": "display_data"
    }
   ],
   "source": [
    "config_true, x_true = get_config_and_state(zq,qq,c1q,c2q)\n",
    "ϵmeas_data = [1e-5,1e-4,2.5e-4,3.75e-4,5e-4,6.25e-4,8e-4,1e-3,1.5e-3,2e-3,3e-3,4e-3];\n",
    "x_true"
   ]
  },
  {
   "cell_type": "markdown",
   "metadata": {},
   "source": [
    "### Heater estimation"
   ]
  },
  {
   "cell_type": "code",
   "execution_count": 17,
   "metadata": {},
   "outputs": [
    {
     "data": {
      "text/plain": [
       "5-element Vector{Tuple{Float64, Float64}}:\n",
       " (-2.0, 2.0)\n",
       " (0.01, 2.0)\n",
       " (-2.0, 2.0)\n",
       " (0.0, 1.0)\n",
       " (0.0, 1.0)"
      ]
     },
     "metadata": {},
     "output_type": "display_data"
    }
   ],
   "source": [
    "Nq_estimator = 1\n",
    "δ = 0.01\n",
    "config_estimator = HeaterConfig(Nq_estimator)\n",
    "\n",
    "\n",
    "# ranges to confine the prior mean to\n",
    "xr = (-2.0,2.0)\n",
    "yr = (0.01,2) #(0.01,4) #(0.01,2.0)\n",
    "qr = (-2,2)\n",
    "c1r = (0,1)\n",
    "c2r = (0,1)\n",
    "bounds = create_state_bounds(xr,yr,qr,c1r,c2r,config_estimator);\n",
    "bounds"
   ]
  },
  {
   "cell_type": "code",
   "execution_count": 18,
   "metadata": {},
   "outputs": [
    {
     "data": {
      "text/plain": [
       "5-element Vector{Tuple{Float64, Float64}}:\n",
       " (-2.0, 2.0)\n",
       " (-2.0, 2.0)\n",
       " (-2.0, 2.0)\n",
       " (0.0, 1.0)\n",
       " (0.0, 1.0)"
      ]
     },
     "metadata": {},
     "output_type": "display_data"
    }
   ],
   "source": [
    "#bounds for numerical domain\n",
    "xr = (-2.0,2.0)\n",
    "yr = (-2.0,2.0) #(0.01,4) #(0.01,2.0)\n",
    "qr = (-2,2)\n",
    "c1r = (0,1)\n",
    "c2r = (0,1)\n",
    "bounds_num = create_state_bounds(xr,yr,qr,c1r,c2r,config_estimator);\n",
    "bounds_num"
   ]
  },
  {
   "cell_type": "markdown",
   "metadata": {},
   "source": [
    "### Set up the MCMC parameters"
   ]
  },
  {
   "cell_type": "code",
   "execution_count": 19,
   "metadata": {},
   "outputs": [],
   "source": [
    "## Parallel tempering ##\n",
    "propvarX_coarse = 0.01^2 \n",
    "propvarY_coarse = 0.01^2\n",
    "propvarQ_coarse = 0.05^2 #0.05^2\n",
    "propvarC_coarse = 0.01^2\n",
    "\n",
    "propvarX_fine = 0.005^2 # 0.01^2\n",
    "propvarY_fine = 0.005^2 # 0.01^2\n",
    "propvarQ_fine = 0.01^2 # 0.005^2 # 0.01^2\n",
    "propvarC_fine = 0.005^2\n",
    "\n",
    "#Ntrial = [10000, 600000]\n",
    "#propvar = [state_covariance(propvarX_coarse,propvarY_coarse,propvarQ_coarse,propvarR_coarse,config_estimator),\n",
    "           #state_covariance(propvarX_fine,propvarY_fine,propvarQ_fine,propvarR_fine,config_estimator)];\n",
    "Ntrial = [10000]\n",
    "propvar = [state_covariance(propvarX_coarse,propvarY_coarse,propvarQ_coarse,propvarC_coarse,config_estimator)];"
   ]
  },
  {
   "cell_type": "markdown",
   "metadata": {},
   "source": [
    "### Getting results for a specific case"
   ]
  },
  {
   "cell_type": "code",
   "execution_count": 20,
   "metadata": {},
   "outputs": [
    {
     "data": {
      "text/plain": [
       "constructGrids{Tuple{Float64, Float64}, BasicILMCache{0, GridScaling, Nodes{Primal, 408, 404, Float64, Matrix{Float64}}, 2, BodyList, VectorData{0, Float64, Vector{Float64}}, ScalarData{0, Float64, Vector{Float64}}, Regularize{0, false}, RegularizationMatrix{Edges{Primal, 408, 404, Float64, Vector{Float64}}, VectorData{0, Float64, Vector{Float64}}}, InterpolationMatrix{Edges{Primal, 408, 404, Float64, Vector{Float64}}, VectorData{0, Float64, Vector{Float64}}}, RegularizationMatrix{Nodes{Primal, 408, 404, Float64, Matrix{Float64}}, ScalarData{0, Float64, Vector{Float64}}}, InterpolationMatrix{Nodes{Primal, 408, 404, Float64, Matrix{Float64}}, ScalarData{0, Float64, Vector{Float64}}}, Nothing, Nothing, Nothing, Nothing, Laplacian{408, 404, Float64, true, false}, Edges{Primal, 408, 404, Float64, Vector{Float64}}, Nodes{Dual, 408, 404, Float64, Matrix{Float64}}, Nothing, VectorData{0, Float64, Vector{Float64}}, ScalarData{0, Float64, Vector{Float64}}, Nothing}}(0.01, (-2.0, 2.0), (-2.0, 2.0), PhysicalGrid{2}((408, 404), (204, 202), 0.01, ((-2.0300000000000002, 2.0300000000000002), (-2.0100000000000002, 2.0100000000000002)), 4), Surface cache with scaling of type GridScaling\n",
       "  0 point data of type ScalarData{0, Float64, Vector{Float64}}\n",
       "  Grid data of type Nodes{Primal, 408, 404, Float64, Matrix{Float64}}\n",
       ", 500)"
      ]
     },
     "metadata": {},
     "output_type": "display_data"
    },
    {
     "name": "stderr",
     "output_type": "stream",
     "text": [
      "WARNING: both OrdinaryDiffEq and LinearMaps export \"FunctionMap\"; uses of it in module ConstrainedSystems must be qualified\n"
     ]
    }
   ],
   "source": [
    "Δx = 0.01\n",
    "Ntheta = 500\n",
    "gridConfig = constructGrids(Δx,bounds_num;Ntheta)"
   ]
  },
  {
   "cell_type": "code",
   "execution_count": 30,
   "metadata": {},
   "outputs": [],
   "source": [
    "K = 1\n",
    "Nsens = 5\n",
    "ϵmeas = 5e-4\n",
    "obs_true, ystar, H, Σϵ, Σx = get_truth_data(Nsens,ϵmeas,x_true,config_true,gridConfig)\n",
    "logp̃_fcn, obs = setup_estimator(obs_true.sens,bounds,config_estimator,ystar,Σϵ,gridConfig);"
   ]
  },
  {
   "cell_type": "code",
   "execution_count": 50,
   "metadata": {},
   "outputs": [
    {
     "data": {
      "text/plain": [
       "5-element Vector{Tuple{Float64, Float64}}:\n",
       " (-2.0, 2.0)\n",
       " (0.01, 2.0)\n",
       " (-2.0, 2.0)\n",
       " (0.0, 1.0)\n",
       " (0.0, 1.0)"
      ]
     },
     "metadata": {},
     "output_type": "display_data"
    }
   ],
   "source": [
    "bounds"
   ]
  },
  {
   "cell_type": "code",
   "execution_count": 31,
   "metadata": {},
   "outputs": [
    {
     "data": {
      "text/plain": [
       "5-element Vector{Float64}:\n",
       " -0.8348591168958507\n",
       " -0.8029232710704508\n",
       " -0.7710057426082355\n",
       " -0.748970171360507\n",
       " -0.7508582077436516"
      ]
     },
     "metadata": {},
     "output_type": "display_data"
    }
   ],
   "source": [
    "ystar"
   ]
  },
  {
   "cell_type": "code",
   "execution_count": 33,
   "metadata": {},
   "outputs": [
    {
     "data": {
      "text/plain": [
       "5-element Vector{Float64}:\n",
       "  1.184674562359191\n",
       "  1.3588659735988164\n",
       " -0.3938362697760245\n",
       "  0.2655974667963825\n",
       "  0.8603373368390377"
      ]
     },
     "metadata": {},
     "output_type": "display_data"
    }
   ],
   "source": [
    "xseed = generate_random_state(bounds,obs.config)"
   ]
  },
  {
   "cell_type": "code",
   "execution_count": 57,
   "metadata": {},
   "outputs": [
    {
     "data": {
      "text/plain": [
       "custom_posterior_model (generic function with 6 methods)"
      ]
     },
     "metadata": {},
     "output_type": "display_data"
    }
   ],
   "source": [
    "@model function custom_posterior_model(bounds,logp̃_fcn::Function)\n",
    "    x = Vector{Float64}(undef, length(bounds))\n",
    "    for i in 1:length(bounds)\n",
    "        x[i] ~ Uniform(bounds[i][1], bounds[i][2])\n",
    "    end\n",
    "    target = exp(logp̃_fcn(x))\n",
    "    return target\n",
    "end"
   ]
  },
  {
   "cell_type": "code",
   "execution_count": 58,
   "metadata": {},
   "outputs": [
    {
     "name": "stderr",
     "output_type": "stream",
     "text": [
      "\u001b[32mSampling   0%|█                                         |  ETA: N/A\u001b[39m"
     ]
    },
    {
     "name": "stderr",
     "output_type": "stream",
     "text": [
      "\n",
      "\u001b[90mSampling 100%|██████████████████████████████████████████| Time: 0:00:11\u001b[39m\n"
     ]
    },
    {
     "ename": "TypeError",
     "evalue": "TypeError: in typeassert, expected Float64, got a value of type ForwardDiff.Dual{Nothing, Float64, 5}",
     "output_type": "error",
     "traceback": [
      "TypeError: in typeassert, expected Float64, got a value of type ForwardDiff.Dual{Nothing, Float64, 5}\n",
      "\n",
      "Stacktrace:\n",
      "  [1] setindex!\n",
      "    @ .\\array.jl:968 [inlined]\n",
      "  [2] setindex!(::Nodes{Primal, 408, 404, Float64, Matrix{Float64}}, ::ForwardDiff.Dual{ForwardDiff.Tag{Turing.TuringTag, Float64}, Float64, 5}, ::Int64, ::Int64)\n",
      "    @ CartesianGrids C:\\Users\\Hanieh\\.julia\\packages\\CartesianGrids\\emkly\\src\\fields\\scalargrid.jl:82\n",
      "  [3] analytical_temperature(x::Vector{ForwardDiff.Dual{ForwardDiff.Tag{Turing.TuringTag, Float64}, Float64, 5}}, obs::TemperatureObservations{5, 5, Vector{ComplexF64}, HeaterConfig{Dict{Any, Any}}}, gridConfig::constructGrids{Tuple{Float64, Float64}, BasicILMCache{0, GridScaling, Nodes{Primal, 408, 404, Float64, Matrix{Float64}}, 2, BodyList, VectorData{0, Float64, Vector{Float64}}, ScalarData{0, Float64, Vector{Float64}}, Regularize{0, false}, RegularizationMatrix{Edges{Primal, 408, 404, Float64, Vector{Float64}}, VectorData{0, Float64, Vector{Float64}}}, InterpolationMatrix{Edges{Primal, 408, 404, Float64, Vector{Float64}}, VectorData{0, Float64, Vector{Float64}}}, RegularizationMatrix{Nodes{Primal, 408, 404, Float64, Matrix{Float64}}, ScalarData{0, Float64, Vector{Float64}}}, InterpolationMatrix{Nodes{Primal, 408, 404, Float64, Matrix{Float64}}, ScalarData{0, Float64, Vector{Float64}}}, Nothing, Nothing, Nothing, Nothing, Laplacian{408, 404, Float64, true, false}, Edges{Primal, 408, 404, Float64, Vector{Float64}}, Nodes{Dual, 408, 404, Float64, Matrix{Float64}}, Nothing, VectorData{0, Float64, Vector{Float64}}, ScalarData{0, Float64, Vector{Float64}}, Nothing}})\n",
      "    @ HeatForecastAnyShape C:\\Users\\Hanieh\\.julia\\packages\\HeatForecastAnyShape\\ULggW\\src\\temperature\\temperature_solution.jl:36\n",
      "  [4] _temperature\n",
      "    @ C:\\Users\\Hanieh\\.julia\\packages\\HeatForecastAnyShape\\b4zxd\\src\\heater\\heater_forecast_observation.jl:75 [inlined]\n",
      "  [5] observations\n",
      "    @ C:\\Users\\Hanieh\\.julia\\packages\\HeatForecastAnyShape\\b4zxd\\src\\heater\\heater_forecast_observation.jl:67 [inlined]\n",
      "  [6] normal_loglikelihood(x::Vector{ForwardDiff.Dual{ForwardDiff.Tag{Turing.TuringTag, Float64}, Float64, 5}}, t::Float64, ystar::Vector{Float64}, Σϵ::Diagonal{Float64, Vector{Float64}}, obs::TemperatureObservations{5, 5, Vector{ComplexF64}, HeaterConfig{Dict{Any, Any}}}, gridConfig::constructGrids{Tuple{Float64, Float64}, BasicILMCache{0, GridScaling, Nodes{Primal, 408, 404, Float64, Matrix{Float64}}, 2, BodyList, VectorData{0, Float64, Vector{Float64}}, ScalarData{0, Float64, Vector{Float64}}, Regularize{0, false}, RegularizationMatrix{Edges{Primal, 408, 404, Float64, Vector{Float64}}, VectorData{0, Float64, Vector{Float64}}}, InterpolationMatrix{Edges{Primal, 408, 404, Float64, Vector{Float64}}, VectorData{0, Float64, Vector{Float64}}}, RegularizationMatrix{Nodes{Primal, 408, 404, Float64, Matrix{Float64}}, ScalarData{0, Float64, Vector{Float64}}}, InterpolationMatrix{Nodes{Primal, 408, 404, Float64, Matrix{Float64}}, ScalarData{0, Float64, Vector{Float64}}}, Nothing, Nothing, Nothing, Nothing, Laplacian{408, 404, Float64, true, false}, Edges{Primal, 408, 404, Float64, Vector{Float64}}, Nodes{Dual, 408, 404, Float64, Matrix{Float64}}, Nothing, VectorData{0, Float64, Vector{Float64}}, ScalarData{0, Float64, Vector{Float64}}, Nothing}})\n",
      "    @ HeatForecastAnyShape C:\\Users\\Hanieh\\.julia\\packages\\HeatForecastAnyShape\\ULggW\\src\\observation.jl:25\n",
      "  [7] (::HeatForecastAnyShape.var\"#logp̃_fcn#95\"{Vector{Tuple{Float64, Float64}}, Vector{Float64}, Diagonal{Float64, Vector{Float64}}, constructGrids{Tuple{Float64, Float64}, BasicILMCache{0, GridScaling, Nodes{Primal, 408, 404, Float64, Matrix{Float64}}, 2, BodyList, VectorData{0, Float64, Vector{Float64}}, ScalarData{0, Float64, Vector{Float64}}, Regularize{0, false}, RegularizationMatrix{Edges{Primal, 408, 404, Float64, Vector{Float64}}, VectorData{0, Float64, Vector{Float64}}}, InterpolationMatrix{Edges{Primal, 408, 404, Float64, Vector{Float64}}, VectorData{0, Float64, Vector{Float64}}}, RegularizationMatrix{Nodes{Primal, 408, 404, Float64, Matrix{Float64}}, ScalarData{0, Float64, Vector{Float64}}}, InterpolationMatrix{Nodes{Primal, 408, 404, Float64, Matrix{Float64}}, ScalarData{0, Float64, Vector{Float64}}}, Nothing, Nothing, Nothing, Nothing, Laplacian{408, 404, Float64, true, false}, Edges{Primal, 408, 404, Float64, Vector{Float64}}, Nodes{Dual, 408, 404, Float64, Matrix{Float64}}, Nothing, VectorData{0, Float64, Vector{Float64}}, ScalarData{0, Float64, Vector{Float64}}, Nothing}}, TemperatureObservations{5, 5, Vector{ComplexF64}, HeaterConfig{Dict{Any, Any}}}, Float64})(x::Vector{ForwardDiff.Dual{ForwardDiff.Tag{Turing.TuringTag, Float64}, Float64, 5}})\n",
      "    @ HeatForecastAnyShape C:\\Users\\Hanieh\\.julia\\packages\\HeatForecastAnyShape\\b4zxd\\src\\experiments\\routines.jl:73\n",
      "  [8] custom_posterior_model(__model__::DynamicPPL.Model{typeof(custom_posterior_model), (:bounds, :logp̃_fcn), (), (), Tuple{Vector{Tuple{Float64, Float64}}, HeatForecastAnyShape.var\"#logp̃_fcn#95\"{Vector{Tuple{Float64, Float64}}, Vector{Float64}, Diagonal{Float64, Vector{Float64}}, constructGrids{Tuple{Float64, Float64}, BasicILMCache{0, GridScaling, Nodes{Primal, 408, 404, Float64, Matrix{Float64}}, 2, BodyList, VectorData{0, Float64, Vector{Float64}}, ScalarData{0, Float64, Vector{Float64}}, Regularize{0, false}, RegularizationMatrix{Edges{Primal, 408, 404, Float64, Vector{Float64}}, VectorData{0, Float64, Vector{Float64}}}, InterpolationMatrix{Edges{Primal, 408, 404, Float64, Vector{Float64}}, VectorData{0, Float64, Vector{Float64}}}, RegularizationMatrix{Nodes{Primal, 408, 404, Float64, Matrix{Float64}}, ScalarData{0, Float64, Vector{Float64}}}, InterpolationMatrix{Nodes{Primal, 408, 404, Float64, Matrix{Float64}}, ScalarData{0, Float64, Vector{Float64}}}, Nothing, Nothing, Nothing, Nothing, Laplacian{408, 404, Float64, true, false}, Edges{Primal, 408, 404, Float64, Vector{Float64}}, Nodes{Dual, 408, 404, Float64, Matrix{Float64}}, Nothing, VectorData{0, Float64, Vector{Float64}}, ScalarData{0, Float64, Vector{Float64}}, Nothing}}, TemperatureObservations{5, 5, Vector{ComplexF64}, HeaterConfig{Dict{Any, Any}}}, Float64}}, Tuple{}, DynamicPPL.DefaultContext}, __varinfo__::DynamicPPL.TypedVarInfo{NamedTuple{(:x,), Tuple{DynamicPPL.Metadata{Dict{AbstractPPL.VarName{:x, Setfield.IndexLens{Tuple{Int64}}}, Int64}, Vector{Uniform{Float64}}, Vector{AbstractPPL.VarName{:x, Setfield.IndexLens{Tuple{Int64}}}}, Vector{ForwardDiff.Dual{ForwardDiff.Tag{Turing.TuringTag, Float64}, Float64, 5}}, Vector{Set{DynamicPPL.Selector}}}}}, ForwardDiff.Dual{ForwardDiff.Tag{Turing.TuringTag, Float64}, Float64, 5}}, __context__::DynamicPPL.SamplingContext{DynamicPPL.Sampler{NUTS{Turing.Essential.ForwardDiffAD{0}, (), AdvancedHMC.DiagEuclideanMetric}}, DynamicPPL.DefaultContext, TaskLocalRNG}, bounds::Vector{Tuple{Float64, Float64}}, logp̃_fcn::HeatForecastAnyShape.var\"#logp̃_fcn#95\"{Vector{Tuple{Float64, Float64}}, Vector{Float64}, Diagonal{Float64, Vector{Float64}}, constructGrids{Tuple{Float64, Float64}, BasicILMCache{0, GridScaling, Nodes{Primal, 408, 404, Float64, Matrix{Float64}}, 2, BodyList, VectorData{0, Float64, Vector{Float64}}, ScalarData{0, Float64, Vector{Float64}}, Regularize{0, false}, RegularizationMatrix{Edges{Primal, 408, 404, Float64, Vector{Float64}}, VectorData{0, Float64, Vector{Float64}}}, InterpolationMatrix{Edges{Primal, 408, 404, Float64, Vector{Float64}}, VectorData{0, Float64, Vector{Float64}}}, RegularizationMatrix{Nodes{Primal, 408, 404, Float64, Matrix{Float64}}, ScalarData{0, Float64, Vector{Float64}}}, InterpolationMatrix{Nodes{Primal, 408, 404, Float64, Matrix{Float64}}, ScalarData{0, Float64, Vector{Float64}}}, Nothing, Nothing, Nothing, Nothing, Laplacian{408, 404, Float64, true, false}, Edges{Primal, 408, 404, Float64, Vector{Float64}}, Nodes{Dual, 408, 404, Float64, Matrix{Float64}}, Nothing, VectorData{0, Float64, Vector{Float64}}, ScalarData{0, Float64, Vector{Float64}}, Nothing}}, TemperatureObservations{5, 5, Vector{ComplexF64}, HeaterConfig{Dict{Any, Any}}}, Float64})\n",
      "    @ Main .\\Untitled-1.ipynb:6\n",
      "  [9] _evaluate!!(model::DynamicPPL.Model{typeof(custom_posterior_model), (:bounds, :logp̃_fcn), (), (), Tuple{Vector{Tuple{Float64, Float64}}, HeatForecastAnyShape.var\"#logp̃_fcn#95\"{Vector{Tuple{Float64, Float64}}, Vector{Float64}, Diagonal{Float64, Vector{Float64}}, constructGrids{Tuple{Float64, Float64}, BasicILMCache{0, GridScaling, Nodes{Primal, 408, 404, Float64, Matrix{Float64}}, 2, BodyList, VectorData{0, Float64, Vector{Float64}}, ScalarData{0, Float64, Vector{Float64}}, Regularize{0, false}, RegularizationMatrix{Edges{Primal, 408, 404, Float64, Vector{Float64}}, VectorData{0, Float64, Vector{Float64}}}, InterpolationMatrix{Edges{Primal, 408, 404, Float64, Vector{Float64}}, VectorData{0, Float64, Vector{Float64}}}, RegularizationMatrix{Nodes{Primal, 408, 404, Float64, Matrix{Float64}}, ScalarData{0, Float64, Vector{Float64}}}, InterpolationMatrix{Nodes{Primal, 408, 404, Float64, Matrix{Float64}}, ScalarData{0, Float64, Vector{Float64}}}, Nothing, Nothing, Nothing, Nothing, Laplacian{408, 404, Float64, true, false}, Edges{Primal, 408, 404, Float64, Vector{Float64}}, Nodes{Dual, 408, 404, Float64, Matrix{Float64}}, Nothing, VectorData{0, Float64, Vector{Float64}}, ScalarData{0, Float64, Vector{Float64}}, Nothing}}, TemperatureObservations{5, 5, Vector{ComplexF64}, HeaterConfig{Dict{Any, Any}}}, Float64}}, Tuple{}, DynamicPPL.DefaultContext}, varinfo::DynamicPPL.TypedVarInfo{NamedTuple{(:x,), Tuple{DynamicPPL.Metadata{Dict{AbstractPPL.VarName{:x, Setfield.IndexLens{Tuple{Int64}}}, Int64}, Vector{Uniform{Float64}}, Vector{AbstractPPL.VarName{:x, Setfield.IndexLens{Tuple{Int64}}}}, Vector{ForwardDiff.Dual{ForwardDiff.Tag{Turing.TuringTag, Float64}, Float64, 5}}, Vector{Set{DynamicPPL.Selector}}}}}, ForwardDiff.Dual{ForwardDiff.Tag{Turing.TuringTag, Float64}, Float64, 5}}, context::DynamicPPL.SamplingContext{DynamicPPL.Sampler{NUTS{Turing.Essential.ForwardDiffAD{0}, (), AdvancedHMC.DiagEuclideanMetric}}, DynamicPPL.DefaultContext, TaskLocalRNG})\n",
      "    @ DynamicPPL C:\\Users\\Hanieh\\.julia\\packages\\DynamicPPL\\oJMmE\\src\\model.jl:582\n",
      " [10] evaluate_threadunsafe!!\n",
      "    @ C:\\Users\\Hanieh\\.julia\\packages\\DynamicPPL\\oJMmE\\src\\model.jl:555 [inlined]\n",
      " [11] evaluate!!(model::DynamicPPL.Model{typeof(custom_posterior_model), (:bounds, :logp̃_fcn), (), (), Tuple{Vector{Tuple{Float64, Float64}}, HeatForecastAnyShape.var\"#logp̃_fcn#95\"{Vector{Tuple{Float64, Float64}}, Vector{Float64}, Diagonal{Float64, Vector{Float64}}, constructGrids{Tuple{Float64, Float64}, BasicILMCache{0, GridScaling, Nodes{Primal, 408, 404, Float64, Matrix{Float64}}, 2, BodyList, VectorData{0, Float64, Vector{Float64}}, ScalarData{0, Float64, Vector{Float64}}, Regularize{0, false}, RegularizationMatrix{Edges{Primal, 408, 404, Float64, Vector{Float64}}, VectorData{0, Float64, Vector{Float64}}}, InterpolationMatrix{Edges{Primal, 408, 404, Float64, Vector{Float64}}, VectorData{0, Float64, Vector{Float64}}}, RegularizationMatrix{Nodes{Primal, 408, 404, Float64, Matrix{Float64}}, ScalarData{0, Float64, Vector{Float64}}}, InterpolationMatrix{Nodes{Primal, 408, 404, Float64, Matrix{Float64}}, ScalarData{0, Float64, Vector{Float64}}}, Nothing, Nothing, Nothing, Nothing, Laplacian{408, 404, Float64, true, false}, Edges{Primal, 408, 404, Float64, Vector{Float64}}, Nodes{Dual, 408, 404, Float64, Matrix{Float64}}, Nothing, VectorData{0, Float64, Vector{Float64}}, ScalarData{0, Float64, Vector{Float64}}, Nothing}}, TemperatureObservations{5, 5, Vector{ComplexF64}, HeaterConfig{Dict{Any, Any}}}, Float64}}, Tuple{}, DynamicPPL.DefaultContext}, varinfo::DynamicPPL.TypedVarInfo{NamedTuple{(:x,), Tuple{DynamicPPL.Metadata{Dict{AbstractPPL.VarName{:x, Setfield.IndexLens{Tuple{Int64}}}, Int64}, Vector{Uniform{Float64}}, Vector{AbstractPPL.VarName{:x, Setfield.IndexLens{Tuple{Int64}}}}, Vector{ForwardDiff.Dual{ForwardDiff.Tag{Turing.TuringTag, Float64}, Float64, 5}}, Vector{Set{DynamicPPL.Selector}}}}}, ForwardDiff.Dual{ForwardDiff.Tag{Turing.TuringTag, Float64}, Float64, 5}}, context::DynamicPPL.SamplingContext{DynamicPPL.Sampler{NUTS{Turing.Essential.ForwardDiffAD{0}, (), AdvancedHMC.DiagEuclideanMetric}}, DynamicPPL.DefaultContext, TaskLocalRNG})\n",
      "    @ DynamicPPL C:\\Users\\Hanieh\\.julia\\packages\\DynamicPPL\\oJMmE\\src\\model.jl:508\n",
      " [12] logdensity\n",
      "    @ C:\\Users\\Hanieh\\.julia\\packages\\DynamicPPL\\oJMmE\\src\\logdensityfunction.jl:94 [inlined]\n",
      " [13] Fix1\n",
      "    @ .\\operators.jl:1096 [inlined]\n",
      " [14] vector_mode_dual_eval(f::Base.Fix1{typeof(LogDensityProblems.logdensity), LogDensityFunction{DynamicPPL.TypedVarInfo{NamedTuple{(:x,), Tuple{DynamicPPL.Metadata{Dict{AbstractPPL.VarName{:x, Setfield.IndexLens{Tuple{Int64}}}, Int64}, Vector{Uniform{Float64}}, Vector{AbstractPPL.VarName{:x, Setfield.IndexLens{Tuple{Int64}}}}, Vector{Float64}, Vector{Set{DynamicPPL.Selector}}}}}, Float64}, DynamicPPL.Model{typeof(custom_posterior_model), (:bounds, :logp̃_fcn), (), (), Tuple{Vector{Tuple{Float64, Float64}}, HeatForecastAnyShape.var\"#logp̃_fcn#95\"{Vector{Tuple{Float64, Float64}}, Vector{Float64}, Diagonal{Float64, Vector{Float64}}, constructGrids{Tuple{Float64, Float64}, BasicILMCache{0, GridScaling, Nodes{Primal, 408, 404, Float64, Matrix{Float64}}, 2, BodyList, VectorData{0, Float64, Vector{Float64}}, ScalarData{0, Float64, Vector{Float64}}, Regularize{0, false}, RegularizationMatrix{Edges{Primal, 408, 404, Float64, Vector{Float64}}, VectorData{0, Float64, Vector{Float64}}}, InterpolationMatrix{Edges{Primal, 408, 404, Float64, Vector{Float64}}, VectorData{0, Float64, Vector{Float64}}}, RegularizationMatrix{Nodes{Primal, 408, 404, Float64, Matrix{Float64}}, ScalarData{0, Float64, Vector{Float64}}}, InterpolationMatrix{Nodes{Primal, 408, 404, Float64, Matrix{Float64}}, ScalarData{0, Float64, Vector{Float64}}}, Nothing, Nothing, Nothing, Nothing, Laplacian{408, 404, Float64, true, false}, Edges{Primal, 408, 404, Float64, Vector{Float64}}, Nodes{Dual, 408, 404, Float64, Matrix{Float64}}, Nothing, VectorData{0, Float64, Vector{Float64}}, ScalarData{0, Float64, Vector{Float64}}, Nothing}}, TemperatureObservations{5, 5, Vector{ComplexF64}, HeaterConfig{Dict{Any, Any}}}, Float64}}, Tuple{}, DynamicPPL.DefaultContext}, DynamicPPL.SamplingContext{DynamicPPL.Sampler{NUTS{Turing.Essential.ForwardDiffAD{0}, (), AdvancedHMC.DiagEuclideanMetric}}, DynamicPPL.DefaultContext, TaskLocalRNG}}}, x::Vector{Float64}, cfg::ForwardDiff.GradientConfig{ForwardDiff.Tag{Turing.TuringTag, Float64}, Float64, 5, Vector{ForwardDiff.Dual{ForwardDiff.Tag{Turing.TuringTag, Float64}, Float64, 5}}})\n",
      "    @ ForwardDiff C:\\Users\\Hanieh\\.julia\\packages\\ForwardDiff\\5gUap\\src\\apiutils.jl:37\n",
      " [15] vector_mode_gradient!(result::DiffResults.MutableDiffResult{1, Float64, Tuple{Vector{Float64}}}, f::Base.Fix1{typeof(LogDensityProblems.logdensity), LogDensityFunction{DynamicPPL.TypedVarInfo{NamedTuple{(:x,), Tuple{DynamicPPL.Metadata{Dict{AbstractPPL.VarName{:x, Setfield.IndexLens{Tuple{Int64}}}, Int64}, Vector{Uniform{Float64}}, Vector{AbstractPPL.VarName{:x, Setfield.IndexLens{Tuple{Int64}}}}, Vector{Float64}, Vector{Set{DynamicPPL.Selector}}}}}, Float64}, DynamicPPL.Model{typeof(custom_posterior_model), (:bounds, :logp̃_fcn), (), (), Tuple{Vector{Tuple{Float64, Float64}}, HeatForecastAnyShape.var\"#logp̃_fcn#95\"{Vector{Tuple{Float64, Float64}}, Vector{Float64}, Diagonal{Float64, Vector{Float64}}, constructGrids{Tuple{Float64, Float64}, BasicILMCache{0, GridScaling, Nodes{Primal, 408, 404, Float64, Matrix{Float64}}, 2, BodyList, VectorData{0, Float64, Vector{Float64}}, ScalarData{0, Float64, Vector{Float64}}, Regularize{0, false}, RegularizationMatrix{Edges{Primal, 408, 404, Float64, Vector{Float64}}, VectorData{0, Float64, Vector{Float64}}}, InterpolationMatrix{Edges{Primal, 408, 404, Float64, Vector{Float64}}, VectorData{0, Float64, Vector{Float64}}}, RegularizationMatrix{Nodes{Primal, 408, 404, Float64, Matrix{Float64}}, ScalarData{0, Float64, Vector{Float64}}}, InterpolationMatrix{Nodes{Primal, 408, 404, Float64, Matrix{Float64}}, ScalarData{0, Float64, Vector{Float64}}}, Nothing, Nothing, Nothing, Nothing, Laplacian{408, 404, Float64, true, false}, Edges{Primal, 408, 404, Float64, Vector{Float64}}, Nodes{Dual, 408, 404, Float64, Matrix{Float64}}, Nothing, VectorData{0, Float64, Vector{Float64}}, ScalarData{0, Float64, Vector{Float64}}, Nothing}}, TemperatureObservations{5, 5, Vector{ComplexF64}, HeaterConfig{Dict{Any, Any}}}, Float64}}, Tuple{}, DynamicPPL.DefaultContext}, DynamicPPL.SamplingContext{DynamicPPL.Sampler{NUTS{Turing.Essential.ForwardDiffAD{0}, (), AdvancedHMC.DiagEuclideanMetric}}, DynamicPPL.DefaultContext, TaskLocalRNG}}}, x::Vector{Float64}, cfg::ForwardDiff.GradientConfig{ForwardDiff.Tag{Turing.TuringTag, Float64}, Float64, 5, Vector{ForwardDiff.Dual{ForwardDiff.Tag{Turing.TuringTag, Float64}, Float64, 5}}})\n",
      "    @ ForwardDiff C:\\Users\\Hanieh\\.julia\\packages\\ForwardDiff\\5gUap\\src\\gradient.jl:113\n",
      " [16] gradient!\n",
      "    @ C:\\Users\\Hanieh\\.julia\\packages\\ForwardDiff\\5gUap\\src\\gradient.jl:37 [inlined]\n",
      " [17] gradient!\n",
      "    @ C:\\Users\\Hanieh\\.julia\\packages\\ForwardDiff\\5gUap\\src\\gradient.jl:35 [inlined]\n",
      " [18] logdensity_and_gradient\n",
      "    @ C:\\Users\\Hanieh\\.julia\\packages\\LogDensityProblemsAD\\pwc6T\\ext\\LogDensityProblemsADForwardDiffExt.jl:118 [inlined]\n",
      " [19] ∂logπ∂θ\n",
      "    @ C:\\Users\\Hanieh\\.julia\\packages\\Turing\\FSBW7\\src\\inference\\hmc.jl:160 [inlined]\n",
      " [20] ∂H∂θ\n",
      "    @ C:\\Users\\Hanieh\\.julia\\packages\\AdvancedHMC\\jiCaS\\src\\hamiltonian.jl:38 [inlined]\n",
      " [21] phasepoint(h::AdvancedHMC.Hamiltonian{AdvancedHMC.DiagEuclideanMetric{Float64, Vector{Float64}}, AdvancedHMC.GaussianKinetic, Base.Fix1{typeof(LogDensityProblems.logdensity), LogDensityProblemsAD.LogDensityProblemsADForwardDiffExt.ForwardDiffLogDensity{LogDensityFunction{DynamicPPL.TypedVarInfo{NamedTuple{(:x,), Tuple{DynamicPPL.Metadata{Dict{AbstractPPL.VarName{:x, Setfield.IndexLens{Tuple{Int64}}}, Int64}, Vector{Uniform{Float64}}, Vector{AbstractPPL.VarName{:x, Setfield.IndexLens{Tuple{Int64}}}}, Vector{Float64}, Vector{Set{DynamicPPL.Selector}}}}}, Float64}, DynamicPPL.Model{typeof(custom_posterior_model), (:bounds, :logp̃_fcn), (), (), Tuple{Vector{Tuple{Float64, Float64}}, HeatForecastAnyShape.var\"#logp̃_fcn#95\"{Vector{Tuple{Float64, Float64}}, Vector{Float64}, Diagonal{Float64, Vector{Float64}}, constructGrids{Tuple{Float64, Float64}, BasicILMCache{0, GridScaling, Nodes{Primal, 408, 404, Float64, Matrix{Float64}}, 2, BodyList, VectorData{0, Float64, Vector{Float64}}, ScalarData{0, Float64, Vector{Float64}}, Regularize{0, false}, RegularizationMatrix{Edges{Primal, 408, 404, Float64, Vector{Float64}}, VectorData{0, Float64, Vector{Float64}}}, InterpolationMatrix{Edges{Primal, 408, 404, Float64, Vector{Float64}}, VectorData{0, Float64, Vector{Float64}}}, RegularizationMatrix{Nodes{Primal, 408, 404, Float64, Matrix{Float64}}, ScalarData{0, Float64, Vector{Float64}}}, InterpolationMatrix{Nodes{Primal, 408, 404, Float64, Matrix{Float64}}, ScalarData{0, Float64, Vector{Float64}}}, Nothing, Nothing, Nothing, Nothing, Laplacian{408, 404, Float64, true, false}, Edges{Primal, 408, 404, Float64, Vector{Float64}}, Nodes{Dual, 408, 404, Float64, Matrix{Float64}}, Nothing, VectorData{0, Float64, Vector{Float64}}, ScalarData{0, Float64, Vector{Float64}}, Nothing}}, TemperatureObservations{5, 5, Vector{ComplexF64}, HeaterConfig{Dict{Any, Any}}}, Float64}}, Tuple{}, DynamicPPL.DefaultContext}, DynamicPPL.SamplingContext{DynamicPPL.Sampler{NUTS{Turing.Essential.ForwardDiffAD{0}, (), AdvancedHMC.DiagEuclideanMetric}}, DynamicPPL.DefaultContext, TaskLocalRNG}}, ForwardDiff.Chunk{5}, ForwardDiff.Tag{Turing.TuringTag, Float64}, ForwardDiff.GradientConfig{ForwardDiff.Tag{Turing.TuringTag, Float64}, Float64, 5, Vector{ForwardDiff.Dual{ForwardDiff.Tag{Turing.TuringTag, Float64}, Float64, 5}}}}}, Turing.Inference.var\"#∂logπ∂θ#45\"{LogDensityProblemsAD.LogDensityProblemsADForwardDiffExt.ForwardDiffLogDensity{LogDensityFunction{DynamicPPL.TypedVarInfo{NamedTuple{(:x,), Tuple{DynamicPPL.Metadata{Dict{AbstractPPL.VarName{:x, Setfield.IndexLens{Tuple{Int64}}}, Int64}, Vector{Uniform{Float64}}, Vector{AbstractPPL.VarName{:x, Setfield.IndexLens{Tuple{Int64}}}}, Vector{Float64}, Vector{Set{DynamicPPL.Selector}}}}}, Float64}, DynamicPPL.Model{typeof(custom_posterior_model), (:bounds, :logp̃_fcn), (), (), Tuple{Vector{Tuple{Float64, Float64}}, HeatForecastAnyShape.var\"#logp̃_fcn#95\"{Vector{Tuple{Float64, Float64}}, Vector{Float64}, Diagonal{Float64, Vector{Float64}}, constructGrids{Tuple{Float64, Float64}, BasicILMCache{0, GridScaling, Nodes{Primal, 408, 404, Float64, Matrix{Float64}}, 2, BodyList, VectorData{0, Float64, Vector{Float64}}, ScalarData{0, Float64, Vector{Float64}}, Regularize{0, false}, RegularizationMatrix{Edges{Primal, 408, 404, Float64, Vector{Float64}}, VectorData{0, Float64, Vector{Float64}}}, InterpolationMatrix{Edges{Primal, 408, 404, Float64, Vector{Float64}}, VectorData{0, Float64, Vector{Float64}}}, RegularizationMatrix{Nodes{Primal, 408, 404, Float64, Matrix{Float64}}, ScalarData{0, Float64, Vector{Float64}}}, InterpolationMatrix{Nodes{Primal, 408, 404, Float64, Matrix{Float64}}, ScalarData{0, Float64, Vector{Float64}}}, Nothing, Nothing, Nothing, Nothing, Laplacian{408, 404, Float64, true, false}, Edges{Primal, 408, 404, Float64, Vector{Float64}}, Nodes{Dual, 408, 404, Float64, Matrix{Float64}}, Nothing, VectorData{0, Float64, Vector{Float64}}, ScalarData{0, Float64, Vector{Float64}}, Nothing}}, TemperatureObservations{5, 5, Vector{ComplexF64}, HeaterConfig{Dict{Any, Any}}}, Float64}}, Tuple{}, DynamicPPL.DefaultContext}, DynamicPPL.SamplingContext{DynamicPPL.Sampler{NUTS{Turing.Essential.ForwardDiffAD{0}, (), AdvancedHMC.DiagEuclideanMetric}}, DynamicPPL.DefaultContext, TaskLocalRNG}}, ForwardDiff.Chunk{5}, ForwardDiff.Tag{Turing.TuringTag, Float64}, ForwardDiff.GradientConfig{ForwardDiff.Tag{Turing.TuringTag, Float64}, Float64, 5, Vector{ForwardDiff.Dual{ForwardDiff.Tag{Turing.TuringTag, Float64}, Float64, 5}}}}}}, θ::Vector{Float64}, r::Vector{Float64})\n",
      "    @ AdvancedHMC C:\\Users\\Hanieh\\.julia\\packages\\AdvancedHMC\\jiCaS\\src\\hamiltonian.jl:80\n",
      " [22] phasepoint(rng::TaskLocalRNG, θ::Vector{Float64}, h::AdvancedHMC.Hamiltonian{AdvancedHMC.DiagEuclideanMetric{Float64, Vector{Float64}}, AdvancedHMC.GaussianKinetic, Base.Fix1{typeof(LogDensityProblems.logdensity), LogDensityProblemsAD.LogDensityProblemsADForwardDiffExt.ForwardDiffLogDensity{LogDensityFunction{DynamicPPL.TypedVarInfo{NamedTuple{(:x,), Tuple{DynamicPPL.Metadata{Dict{AbstractPPL.VarName{:x, Setfield.IndexLens{Tuple{Int64}}}, Int64}, Vector{Uniform{Float64}}, Vector{AbstractPPL.VarName{:x, Setfield.IndexLens{Tuple{Int64}}}}, Vector{Float64}, Vector{Set{DynamicPPL.Selector}}}}}, Float64}, DynamicPPL.Model{typeof(custom_posterior_model), (:bounds, :logp̃_fcn), (), (), Tuple{Vector{Tuple{Float64, Float64}}, HeatForecastAnyShape.var\"#logp̃_fcn#95\"{Vector{Tuple{Float64, Float64}}, Vector{Float64}, Diagonal{Float64, Vector{Float64}}, constructGrids{Tuple{Float64, Float64}, BasicILMCache{0, GridScaling, Nodes{Primal, 408, 404, Float64, Matrix{Float64}}, 2, BodyList, VectorData{0, Float64, Vector{Float64}}, ScalarData{0, Float64, Vector{Float64}}, Regularize{0, false}, RegularizationMatrix{Edges{Primal, 408, 404, Float64, Vector{Float64}}, VectorData{0, Float64, Vector{Float64}}}, InterpolationMatrix{Edges{Primal, 408, 404, Float64, Vector{Float64}}, VectorData{0, Float64, Vector{Float64}}}, RegularizationMatrix{Nodes{Primal, 408, 404, Float64, Matrix{Float64}}, ScalarData{0, Float64, Vector{Float64}}}, InterpolationMatrix{Nodes{Primal, 408, 404, Float64, Matrix{Float64}}, ScalarData{0, Float64, Vector{Float64}}}, Nothing, Nothing, Nothing, Nothing, Laplacian{408, 404, Float64, true, false}, Edges{Primal, 408, 404, Float64, Vector{Float64}}, Nodes{Dual, 408, 404, Float64, Matrix{Float64}}, Nothing, VectorData{0, Float64, Vector{Float64}}, ScalarData{0, Float64, Vector{Float64}}, Nothing}}, TemperatureObservations{5, 5, Vector{ComplexF64}, HeaterConfig{Dict{Any, Any}}}, Float64}}, Tuple{}, DynamicPPL.DefaultContext}, DynamicPPL.SamplingContext{DynamicPPL.Sampler{NUTS{Turing.Essential.ForwardDiffAD{0}, (), AdvancedHMC.DiagEuclideanMetric}}, DynamicPPL.DefaultContext, TaskLocalRNG}}, ForwardDiff.Chunk{5}, ForwardDiff.Tag{Turing.TuringTag, Float64}, ForwardDiff.GradientConfig{ForwardDiff.Tag{Turing.TuringTag, Float64}, Float64, 5, Vector{ForwardDiff.Dual{ForwardDiff.Tag{Turing.TuringTag, Float64}, Float64, 5}}}}}, Turing.Inference.var\"#∂logπ∂θ#45\"{LogDensityProblemsAD.LogDensityProblemsADForwardDiffExt.ForwardDiffLogDensity{LogDensityFunction{DynamicPPL.TypedVarInfo{NamedTuple{(:x,), Tuple{DynamicPPL.Metadata{Dict{AbstractPPL.VarName{:x, Setfield.IndexLens{Tuple{Int64}}}, Int64}, Vector{Uniform{Float64}}, Vector{AbstractPPL.VarName{:x, Setfield.IndexLens{Tuple{Int64}}}}, Vector{Float64}, Vector{Set{DynamicPPL.Selector}}}}}, Float64}, DynamicPPL.Model{typeof(custom_posterior_model), (:bounds, :logp̃_fcn), (), (), Tuple{Vector{Tuple{Float64, Float64}}, HeatForecastAnyShape.var\"#logp̃_fcn#95\"{Vector{Tuple{Float64, Float64}}, Vector{Float64}, Diagonal{Float64, Vector{Float64}}, constructGrids{Tuple{Float64, Float64}, BasicILMCache{0, GridScaling, Nodes{Primal, 408, 404, Float64, Matrix{Float64}}, 2, BodyList, VectorData{0, Float64, Vector{Float64}}, ScalarData{0, Float64, Vector{Float64}}, Regularize{0, false}, RegularizationMatrix{Edges{Primal, 408, 404, Float64, Vector{Float64}}, VectorData{0, Float64, Vector{Float64}}}, InterpolationMatrix{Edges{Primal, 408, 404, Float64, Vector{Float64}}, VectorData{0, Float64, Vector{Float64}}}, RegularizationMatrix{Nodes{Primal, 408, 404, Float64, Matrix{Float64}}, ScalarData{0, Float64, Vector{Float64}}}, InterpolationMatrix{Nodes{Primal, 408, 404, Float64, Matrix{Float64}}, ScalarData{0, Float64, Vector{Float64}}}, Nothing, Nothing, Nothing, Nothing, Laplacian{408, 404, Float64, true, false}, Edges{Primal, 408, 404, Float64, Vector{Float64}}, Nodes{Dual, 408, 404, Float64, Matrix{Float64}}, Nothing, VectorData{0, Float64, Vector{Float64}}, ScalarData{0, Float64, Vector{Float64}}, Nothing}}, TemperatureObservations{5, 5, Vector{ComplexF64}, HeaterConfig{Dict{Any, Any}}}, Float64}}, Tuple{}, DynamicPPL.DefaultContext}, DynamicPPL.SamplingContext{DynamicPPL.Sampler{NUTS{Turing.Essential.ForwardDiffAD{0}, (), AdvancedHMC.DiagEuclideanMetric}}, DynamicPPL.DefaultContext, TaskLocalRNG}}, ForwardDiff.Chunk{5}, ForwardDiff.Tag{Turing.TuringTag, Float64}, ForwardDiff.GradientConfig{ForwardDiff.Tag{Turing.TuringTag, Float64}, Float64, 5, Vector{ForwardDiff.Dual{ForwardDiff.Tag{Turing.TuringTag, Float64}, Float64, 5}}}}}})\n",
      "    @ AdvancedHMC C:\\Users\\Hanieh\\.julia\\packages\\AdvancedHMC\\jiCaS\\src\\hamiltonian.jl:159\n",
      " [23] initialstep(rng::TaskLocalRNG, model::DynamicPPL.Model{typeof(custom_posterior_model), (:bounds, :logp̃_fcn), (), (), Tuple{Vector{Tuple{Float64, Float64}}, HeatForecastAnyShape.var\"#logp̃_fcn#95\"{Vector{Tuple{Float64, Float64}}, Vector{Float64}, Diagonal{Float64, Vector{Float64}}, constructGrids{Tuple{Float64, Float64}, BasicILMCache{0, GridScaling, Nodes{Primal, 408, 404, Float64, Matrix{Float64}}, 2, BodyList, VectorData{0, Float64, Vector{Float64}}, ScalarData{0, Float64, Vector{Float64}}, Regularize{0, false}, RegularizationMatrix{Edges{Primal, 408, 404, Float64, Vector{Float64}}, VectorData{0, Float64, Vector{Float64}}}, InterpolationMatrix{Edges{Primal, 408, 404, Float64, Vector{Float64}}, VectorData{0, Float64, Vector{Float64}}}, RegularizationMatrix{Nodes{Primal, 408, 404, Float64, Matrix{Float64}}, ScalarData{0, Float64, Vector{Float64}}}, InterpolationMatrix{Nodes{Primal, 408, 404, Float64, Matrix{Float64}}, ScalarData{0, Float64, Vector{Float64}}}, Nothing, Nothing, Nothing, Nothing, Laplacian{408, 404, Float64, true, false}, Edges{Primal, 408, 404, Float64, Vector{Float64}}, Nodes{Dual, 408, 404, Float64, Matrix{Float64}}, Nothing, VectorData{0, Float64, Vector{Float64}}, ScalarData{0, Float64, Vector{Float64}}, Nothing}}, TemperatureObservations{5, 5, Vector{ComplexF64}, HeaterConfig{Dict{Any, Any}}}, Float64}}, Tuple{}, DynamicPPL.DefaultContext}, spl::DynamicPPL.Sampler{NUTS{Turing.Essential.ForwardDiffAD{0}, (), AdvancedHMC.DiagEuclideanMetric}}, vi::DynamicPPL.TypedVarInfo{NamedTuple{(:x,), Tuple{DynamicPPL.Metadata{Dict{AbstractPPL.VarName{:x, Setfield.IndexLens{Tuple{Int64}}}, Int64}, Vector{Uniform{Float64}}, Vector{AbstractPPL.VarName{:x, Setfield.IndexLens{Tuple{Int64}}}}, Vector{Float64}, Vector{Set{DynamicPPL.Selector}}}}}, Float64}; init_params::Nothing, nadapts::Int64, kwargs::Base.Pairs{Symbol, Union{}, Tuple{}, NamedTuple{(), Tuple{}}})\n",
      "    @ Turing.Inference C:\\Users\\Hanieh\\.julia\\packages\\Turing\\FSBW7\\src\\inference\\hmc.jl:164\n",
      " [24] step(rng::TaskLocalRNG, model::DynamicPPL.Model{typeof(custom_posterior_model), (:bounds, :logp̃_fcn), (), (), Tuple{Vector{Tuple{Float64, Float64}}, HeatForecastAnyShape.var\"#logp̃_fcn#95\"{Vector{Tuple{Float64, Float64}}, Vector{Float64}, Diagonal{Float64, Vector{Float64}}, constructGrids{Tuple{Float64, Float64}, BasicILMCache{0, GridScaling, Nodes{Primal, 408, 404, Float64, Matrix{Float64}}, 2, BodyList, VectorData{0, Float64, Vector{Float64}}, ScalarData{0, Float64, Vector{Float64}}, Regularize{0, false}, RegularizationMatrix{Edges{Primal, 408, 404, Float64, Vector{Float64}}, VectorData{0, Float64, Vector{Float64}}}, InterpolationMatrix{Edges{Primal, 408, 404, Float64, Vector{Float64}}, VectorData{0, Float64, Vector{Float64}}}, RegularizationMatrix{Nodes{Primal, 408, 404, Float64, Matrix{Float64}}, ScalarData{0, Float64, Vector{Float64}}}, InterpolationMatrix{Nodes{Primal, 408, 404, Float64, Matrix{Float64}}, ScalarData{0, Float64, Vector{Float64}}}, Nothing, Nothing, Nothing, Nothing, Laplacian{408, 404, Float64, true, false}, Edges{Primal, 408, 404, Float64, Vector{Float64}}, Nodes{Dual, 408, 404, Float64, Matrix{Float64}}, Nothing, VectorData{0, Float64, Vector{Float64}}, ScalarData{0, Float64, Vector{Float64}}, Nothing}}, TemperatureObservations{5, 5, Vector{ComplexF64}, HeaterConfig{Dict{Any, Any}}}, Float64}}, Tuple{}, DynamicPPL.DefaultContext}, spl::DynamicPPL.Sampler{NUTS{Turing.Essential.ForwardDiffAD{0}, (), AdvancedHMC.DiagEuclideanMetric}}; resume_from::Nothing, init_params::Nothing, kwargs::Base.Pairs{Symbol, Int64, Tuple{Symbol}, NamedTuple{(:nadapts,), Tuple{Int64}}})\n",
      "    @ DynamicPPL C:\\Users\\Hanieh\\.julia\\packages\\DynamicPPL\\oJMmE\\src\\sampler.jl:111\n",
      " [25] macro expansion\n",
      "    @ C:\\Users\\Hanieh\\.julia\\packages\\AbstractMCMC\\fWWW0\\src\\sample.jl:125 [inlined]\n",
      " [26] macro expansion\n",
      "    @ C:\\Users\\Hanieh\\.julia\\packages\\ProgressLogging\\6KXlp\\src\\ProgressLogging.jl:328 [inlined]\n",
      " [27] (::AbstractMCMC.var\"#21#22\"{Bool, String, Nothing, Int64, Int64, Base.Pairs{Symbol, Int64, Tuple{Symbol}, NamedTuple{(:nadapts,), Tuple{Int64}}}, TaskLocalRNG, DynamicPPL.Model{typeof(custom_posterior_model), (:bounds, :logp̃_fcn), (), (), Tuple{Vector{Tuple{Float64, Float64}}, HeatForecastAnyShape.var\"#logp̃_fcn#95\"{Vector{Tuple{Float64, Float64}}, Vector{Float64}, Diagonal{Float64, Vector{Float64}}, constructGrids{Tuple{Float64, Float64}, BasicILMCache{0, GridScaling, Nodes{Primal, 408, 404, Float64, Matrix{Float64}}, 2, BodyList, VectorData{0, Float64, Vector{Float64}}, ScalarData{0, Float64, Vector{Float64}}, Regularize{0, false}, RegularizationMatrix{Edges{Primal, 408, 404, Float64, Vector{Float64}}, VectorData{0, Float64, Vector{Float64}}}, InterpolationMatrix{Edges{Primal, 408, 404, Float64, Vector{Float64}}, VectorData{0, Float64, Vector{Float64}}}, RegularizationMatrix{Nodes{Primal, 408, 404, Float64, Matrix{Float64}}, ScalarData{0, Float64, Vector{Float64}}}, InterpolationMatrix{Nodes{Primal, 408, 404, Float64, Matrix{Float64}}, ScalarData{0, Float64, Vector{Float64}}}, Nothing, Nothing, Nothing, Nothing, Laplacian{408, 404, Float64, true, false}, Edges{Primal, 408, 404, Float64, Vector{Float64}}, Nodes{Dual, 408, 404, Float64, Matrix{Float64}}, Nothing, VectorData{0, Float64, Vector{Float64}}, ScalarData{0, Float64, Vector{Float64}}, Nothing}}, TemperatureObservations{5, 5, Vector{ComplexF64}, HeaterConfig{Dict{Any, Any}}}, Float64}}, Tuple{}, DynamicPPL.DefaultContext}, DynamicPPL.Sampler{NUTS{Turing.Essential.ForwardDiffAD{0}, (), AdvancedHMC.DiagEuclideanMetric}}, Int64, Int64})()\n",
      "    @ AbstractMCMC C:\\Users\\Hanieh\\.julia\\packages\\AbstractMCMC\\fWWW0\\src\\logging.jl:12\n",
      " [28] with_logstate(f::Function, logstate::Any)\n",
      "    @ Base.CoreLogging .\\logging.jl:511\n",
      " [29] with_logger(f::Function, logger::LoggingExtras.TeeLogger{Tuple{LoggingExtras.EarlyFilteredLogger{TerminalLoggers.TerminalLogger, AbstractMCMC.var\"#1#3\"{Module}}, LoggingExtras.EarlyFilteredLogger{Base.CoreLogging.SimpleLogger, AbstractMCMC.var\"#2#4\"{Module}}}})\n",
      "    @ Base.CoreLogging .\\logging.jl:623\n",
      " [30] with_progresslogger(f::Function, _module::Module, logger::Base.CoreLogging.SimpleLogger)\n",
      "    @ AbstractMCMC C:\\Users\\Hanieh\\.julia\\packages\\AbstractMCMC\\fWWW0\\src\\logging.jl:36\n",
      " [31] macro expansion\n",
      "    @ C:\\Users\\Hanieh\\.julia\\packages\\AbstractMCMC\\fWWW0\\src\\logging.jl:11 [inlined]\n",
      " [32] mcmcsample(rng::TaskLocalRNG, model::DynamicPPL.Model{typeof(custom_posterior_model), (:bounds, :logp̃_fcn), (), (), Tuple{Vector{Tuple{Float64, Float64}}, HeatForecastAnyShape.var\"#logp̃_fcn#95\"{Vector{Tuple{Float64, Float64}}, Vector{Float64}, Diagonal{Float64, Vector{Float64}}, constructGrids{Tuple{Float64, Float64}, BasicILMCache{0, GridScaling, Nodes{Primal, 408, 404, Float64, Matrix{Float64}}, 2, BodyList, VectorData{0, Float64, Vector{Float64}}, ScalarData{0, Float64, Vector{Float64}}, Regularize{0, false}, RegularizationMatrix{Edges{Primal, 408, 404, Float64, Vector{Float64}}, VectorData{0, Float64, Vector{Float64}}}, InterpolationMatrix{Edges{Primal, 408, 404, Float64, Vector{Float64}}, VectorData{0, Float64, Vector{Float64}}}, RegularizationMatrix{Nodes{Primal, 408, 404, Float64, Matrix{Float64}}, ScalarData{0, Float64, Vector{Float64}}}, InterpolationMatrix{Nodes{Primal, 408, 404, Float64, Matrix{Float64}}, ScalarData{0, Float64, Vector{Float64}}}, Nothing, Nothing, Nothing, Nothing, Laplacian{408, 404, Float64, true, false}, Edges{Primal, 408, 404, Float64, Vector{Float64}}, Nodes{Dual, 408, 404, Float64, Matrix{Float64}}, Nothing, VectorData{0, Float64, Vector{Float64}}, ScalarData{0, Float64, Vector{Float64}}, Nothing}}, TemperatureObservations{5, 5, Vector{ComplexF64}, HeaterConfig{Dict{Any, Any}}}, Float64}}, Tuple{}, DynamicPPL.DefaultContext}, sampler::DynamicPPL.Sampler{NUTS{Turing.Essential.ForwardDiffAD{0}, (), AdvancedHMC.DiagEuclideanMetric}}, N::Int64; progress::Bool, progressname::String, callback::Nothing, discard_initial::Int64, thinning::Int64, chain_type::Type, kwargs::Base.Pairs{Symbol, Int64, Tuple{Symbol}, NamedTuple{(:nadapts,), Tuple{Int64}}})\n",
      "    @ AbstractMCMC C:\\Users\\Hanieh\\.julia\\packages\\AbstractMCMC\\fWWW0\\src\\sample.jl:116\n",
      " [33] sample(rng::TaskLocalRNG, model::DynamicPPL.Model{typeof(custom_posterior_model), (:bounds, :logp̃_fcn), (), (), Tuple{Vector{Tuple{Float64, Float64}}, HeatForecastAnyShape.var\"#logp̃_fcn#95\"{Vector{Tuple{Float64, Float64}}, Vector{Float64}, Diagonal{Float64, Vector{Float64}}, constructGrids{Tuple{Float64, Float64}, BasicILMCache{0, GridScaling, Nodes{Primal, 408, 404, Float64, Matrix{Float64}}, 2, BodyList, VectorData{0, Float64, Vector{Float64}}, ScalarData{0, Float64, Vector{Float64}}, Regularize{0, false}, RegularizationMatrix{Edges{Primal, 408, 404, Float64, Vector{Float64}}, VectorData{0, Float64, Vector{Float64}}}, InterpolationMatrix{Edges{Primal, 408, 404, Float64, Vector{Float64}}, VectorData{0, Float64, Vector{Float64}}}, RegularizationMatrix{Nodes{Primal, 408, 404, Float64, Matrix{Float64}}, ScalarData{0, Float64, Vector{Float64}}}, InterpolationMatrix{Nodes{Primal, 408, 404, Float64, Matrix{Float64}}, ScalarData{0, Float64, Vector{Float64}}}, Nothing, Nothing, Nothing, Nothing, Laplacian{408, 404, Float64, true, false}, Edges{Primal, 408, 404, Float64, Vector{Float64}}, Nodes{Dual, 408, 404, Float64, Matrix{Float64}}, Nothing, VectorData{0, Float64, Vector{Float64}}, ScalarData{0, Float64, Vector{Float64}}, Nothing}}, TemperatureObservations{5, 5, Vector{ComplexF64}, HeaterConfig{Dict{Any, Any}}}, Float64}}, Tuple{}, DynamicPPL.DefaultContext}, sampler::DynamicPPL.Sampler{NUTS{Turing.Essential.ForwardDiffAD{0}, (), AdvancedHMC.DiagEuclideanMetric}}, N::Int64; chain_type::Type, resume_from::Nothing, progress::Bool, nadapts::Int64, discard_adapt::Bool, discard_initial::Int64, kwargs::Base.Pairs{Symbol, Union{}, Tuple{}, NamedTuple{(), Tuple{}}})\n",
      "    @ Turing.Inference C:\\Users\\Hanieh\\.julia\\packages\\Turing\\FSBW7\\src\\inference\\hmc.jl:121\n",
      " [34] sample\n",
      "    @ C:\\Users\\Hanieh\\.julia\\packages\\Turing\\FSBW7\\src\\inference\\hmc.jl:91 [inlined]\n",
      " [35] #sample#3\n",
      "    @ C:\\Users\\Hanieh\\.julia\\packages\\Turing\\FSBW7\\src\\inference\\Inference.jl:178 [inlined]\n",
      " [36] sample\n",
      "    @ C:\\Users\\Hanieh\\.julia\\packages\\Turing\\FSBW7\\src\\inference\\Inference.jl:171 [inlined]\n",
      " [37] #sample#2\n",
      "    @ C:\\Users\\Hanieh\\.julia\\packages\\Turing\\FSBW7\\src\\inference\\Inference.jl:168 [inlined]\n",
      " [38] sample(model::DynamicPPL.Model{typeof(custom_posterior_model), (:bounds, :logp̃_fcn), (), (), Tuple{Vector{Tuple{Float64, Float64}}, HeatForecastAnyShape.var\"#logp̃_fcn#95\"{Vector{Tuple{Float64, Float64}}, Vector{Float64}, Diagonal{Float64, Vector{Float64}}, constructGrids{Tuple{Float64, Float64}, BasicILMCache{0, GridScaling, Nodes{Primal, 408, 404, Float64, Matrix{Float64}}, 2, BodyList, VectorData{0, Float64, Vector{Float64}}, ScalarData{0, Float64, Vector{Float64}}, Regularize{0, false}, RegularizationMatrix{Edges{Primal, 408, 404, Float64, Vector{Float64}}, VectorData{0, Float64, Vector{Float64}}}, InterpolationMatrix{Edges{Primal, 408, 404, Float64, Vector{Float64}}, VectorData{0, Float64, Vector{Float64}}}, RegularizationMatrix{Nodes{Primal, 408, 404, Float64, Matrix{Float64}}, ScalarData{0, Float64, Vector{Float64}}}, InterpolationMatrix{Nodes{Primal, 408, 404, Float64, Matrix{Float64}}, ScalarData{0, Float64, Vector{Float64}}}, Nothing, Nothing, Nothing, Nothing, Laplacian{408, 404, Float64, true, false}, Edges{Primal, 408, 404, Float64, Vector{Float64}}, Nodes{Dual, 408, 404, Float64, Matrix{Float64}}, Nothing, VectorData{0, Float64, Vector{Float64}}, ScalarData{0, Float64, Vector{Float64}}, Nothing}}, TemperatureObservations{5, 5, Vector{ComplexF64}, HeaterConfig{Dict{Any, Any}}}, Float64}}, Tuple{}, DynamicPPL.DefaultContext}, alg::NUTS{Turing.Essential.ForwardDiffAD{0}, (), AdvancedHMC.DiagEuclideanMetric}, N::Int64)\n",
      "    @ Turing.Inference C:\\Users\\Hanieh\\.julia\\packages\\Turing\\FSBW7\\src\\inference\\Inference.jl:162\n",
      " [39] top-level scope\n",
      "    @ Untitled-1.ipynb:2"
     ]
    }
   ],
   "source": [
    "t = 0\n",
    "c = sample(\n",
    "    custom_posterior_model(bounds,logp̃_fcn),\n",
    "    NUTS(),\n",
    "    1000,\n",
    ")"
   ]
  }
 ],
 "metadata": {
  "kernelspec": {
   "display_name": "Julia 1.8.5",
   "language": "julia",
   "name": "julia-1.8"
  },
  "language_info": {
   "file_extension": ".jl",
   "mimetype": "application/julia",
   "name": "julia",
   "version": "1.8.5"
  },
  "orig_nbformat": 4
 },
 "nbformat": 4,
 "nbformat_minor": 2
}
