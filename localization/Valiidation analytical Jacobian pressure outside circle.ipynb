{
 "cells": [
  {
   "cell_type": "code",
   "execution_count": null,
   "metadata": {},
   "outputs": [],
   "source": []
  },
  {
   "cell_type": "code",
   "execution_count": 3,
   "metadata": {},
   "outputs": [],
   "source": [
    "using PotentialFlow\n",
    "using LinearAlgebra\n",
    "\n",
    "import PotentialFlow.Plates: Plate, Points, Blobs\n",
    "import PotentialFlow.Motions: reset_velocity!\n",
    "import PotentialFlow.Elements\n",
    "import PotentialFlow.Properties: @property"
   ]
  },
  {
   "cell_type": "code",
   "execution_count": 6,
   "metadata": {},
   "outputs": [
    {
     "data": {
      "text/plain": [
       "dpdΓv (generic function with 2 methods)"
      ]
     },
     "execution_count": 6,
     "metadata": {},
     "output_type": "execute_result"
    }
   ],
   "source": [
    "# A few helper routines\n",
    "strength(v::Union{PotentialFlow.Points.Point,PotentialFlow.Blobs.Blob}) = v.S\n",
    "strength(v::Vector{T}) where {T<:PotentialFlow.Points.Point} = map(vj -> strength(vj),v)\n",
    "\n",
    "# Define the functions that comprise the pressure and its gradients\n",
    "\n",
    "const flag = 1\n",
    "Fvd(z,zv) = -0.5im/π*log(z-zv)\n",
    "Fvi(z,zv) = -flag*0.5im/π*(-log(z-1/conj(zv)) + log(z))\n",
    "Fv(z,zv) = Fvd(z,zv) + Fvi(z,zv)\n",
    "wvd(z,zv;ϵ=0.01) = -0.5im/π*conj(z-zv)/(abs2(z-zv)+ϵ^2)\n",
    "wvi(z,zv) = -flag*0.5im/π*(-1/(z-1/conj(zv)) + 1/z)\n",
    "wv(z,zv;ϵ=0.01) = wvd(z,zv;ϵ=ϵ) + wvi(z,zv)\n",
    "\n",
    "dwvddz(z,zv;ϵ=0.01) = 0.5im*conj(z-zv)^2/π/(abs2(z-zv) + ϵ^2)^2\n",
    "dwvddzstar(z,zv;ϵ=0.01) = -0.5im*ϵ^2/π/(abs2(z-zv) + ϵ^2)^2\n",
    "dwvidz(z,zv) = -flag*0.5im/π*(1/(z-1/conj(zv))^2-1/z^2)\n",
    "dwvdz(z,zv;ϵ=0.01) = dwvddz(z,zv;ϵ=ϵ) + dwvidz(z,zv)\n",
    "dwvddzv(z,zv;ϵ=0.01) = -dwvddz(z,zv;ϵ=ϵ)\n",
    "dwvddzvstar(z,zv;ϵ=0.01) = -dwvddzstar(z,zv;ϵ=ϵ)\n",
    "dwvidzvstar(z,zv) = -flag*0.5im/π/conj(zv)^2/(z-1/conj(zv))^2\n",
    "dwvdzvstar(z,zv;ϵ=0.01) = dwvddzvstar(z,zv;ϵ=ϵ) + dwvidzvstar(z,zv)\n",
    "\n",
    "dFddzv(z,zv;ϵ=0.01) = -wvd(z,zv;ϵ=ϵ)\n",
    "dFidzvstar(z,zv) = flag*0.5im/π/conj(zv)^2/(z-1/conj(zv))\n",
    "dFdzv(z,zv;ϵ=0.01) = dFddzv(z,zv;ϵ=0.01) + conj(dFidzvstar(z,zv))\n",
    "\n",
    "d2Fddzv2(z,zv;ϵ=0.01) = -dwvddz(z,zv;ϵ=ϵ)\n",
    "d2Fddzvdvzstar(z,zv;ϵ=0.01) = -dwvddzstar(z,zv;ϵ=ϵ)\n",
    "d2Fidzvstar2(z,zv) = -flag*0.5im/π/conj(zv)^3/(z-1/conj(zv))*(2 + 1/conj(zv)/(z-1/conj(zv)))\n",
    "d2Fdzv2(z,zv;ϵ=0.01) = d2Fddzv2(z,zv;ϵ=0.01) + conj(d2Fidzvstar2(z,zv))\n",
    "\n",
    "\n",
    "P(z,zv;kwargs...) = -0.5*abs2(wv(z,zv;kwargs...)) - real(dFdzv(z,zv;kwargs...)*conj(wvi(zv,zv)))\n",
    "Π(z,zvj,zvk;kwargs...) = -real(wv(z,zvj;kwargs...)*conj(wv(z,zvk;kwargs...))) -\n",
    "                           real(dFdzv(z,zvj;kwargs...)*conj(wv(zvj,zvk;kwargs...))) -\n",
    "                           real(dFdzv(z,zvk;kwargs...)*conj(wv(zvk,zvj;kwargs...)))\n",
    "\n",
    "dPdzv(z,zv;kwargs...) = -0.5*(dwvddzv(z,zv;kwargs...)*conj(wv(z,zv;kwargs...)) + wv(z,zv;kwargs...)*conj(dwvdzvstar(z,zv;kwargs...))) -\n",
    "                        0.5*(d2Fdzv2(z,zv;kwargs...)*conj(wvi(zv,zv)) + dFdzv(z,zv;kwargs...)*conj(dwvidzvstar(zv,zv))) -\n",
    "                        0.5*(conj(dFdzv(z,zv;kwargs...))*dwvidz(zv,zv))\n",
    "\n",
    "dΠdzvl(z,zvl,zvk;kwargs...) = -0.5*(dwvddzv(z,zvl;kwargs...)*conj(wv(z,zvk;kwargs...)) + conj(dwvddzvstar(z,zvl)+dwvidzvstar(z,zvl))*wv(z,zvk;kwargs...)) -\n",
    "                               0.5*(d2Fdzv2(z,zvl;kwargs...)*conj(wv(zvl,zvk;kwargs...)) + dFdzv(z,zvl;kwargs...)*conj(dwvddzstar(zvl,zvk)) + conj(d2Fddzvdvzstar(z,zvl;kwargs...))*wvd(zvl,zvk;kwargs...)  + conj(dFdzv(z,zvl;kwargs...))*dwvdz(zvl,zvk;kwargs...)) -\n",
    "                               0.5*(dFdzv(z,zvk;kwargs...)*conj(dwvdzvstar(zvk,zvl;kwargs...)) + conj(dFdzv(z,zvk;kwargs...))*dwvddzv(zvk,zvl;kwargs...))\n",
    "\n",
    "\n",
    "for f in [:F,:w]\n",
    "\n",
    "   vd = Symbol(f,\"vd\")\n",
    "   vi = Symbol(f,\"vi\")\n",
    "\n",
    "   @eval function $f(z,v::Vector{T};kwargs...) where {T<:Union{PotentialFlow.Points.Point,PotentialFlow.Blobs.Blob}}\n",
    "       out = complex(0)\n",
    "       for vj in v\n",
    "           zj = Elements.position(vj)\n",
    "           # out += strength(vj)*($vd(z,zj;kwargs...) + $vi(z,zj;kwargs...))\n",
    "           out += strength(vj)*($vd(z,zj;kwargs...) + $vi(z,zj))\n",
    "       end\n",
    "       return out\n",
    "   end\n",
    "\n",
    "   @eval $f(z::AbstractArray,v::Vector{T};kwargs...) where {T<:Union{PotentialFlow.Points.Point,PotentialFlow.Blobs.Blob}} = map(zj -> $f(zj,v;kwargs...),z)\n",
    "end\n",
    "\n",
    "\n",
    "### Define the pressure and its gradients\n",
    "\n",
    "# Note that $\\mathrm{d}p/\\mathrm{d}z^* = (\\mathrm{d}p/\\mathrm{d}z)^*$.\n",
    "# To obtain the gradient of pressure with respect to the $x$ or $y$ position of vortex $l$, use\n",
    "# $$\\frac{\\partial p}{\\partial x_l} = \\frac{\\mathrm{d}p}{\\mathrm{d}z_l} + \\frac{\\mathrm{d}p}{\\mathrm{d}z^*_l} = 2 \\mathrm{Re} \\frac{\\mathrm{d}p}{\\mathrm{d}z_l}$$\n",
    "# and\n",
    "# $$\\frac{\\partial p}{\\partial y_l} = \\mathrm{i}\\frac{\\mathrm{d}p}{\\mathrm{d}z_l} - \\mathrm{i} \\frac{\\mathrm{d}p}{\\mathrm{d}z^*_l} = -2 \\mathrm{Im} \\frac{\\mathrm{d}p}{\\mathrm{d}z_l}$$\n",
    "\n",
    "\n",
    "function pressure(z,v::Vector{T};kwargs...) where {T<:Union{PotentialFlow.Points.Point,PotentialFlow.Blobs.Blob}}\n",
    "        out = 0.0\n",
    "        for (j,vj) in enumerate(v)\n",
    "            zj,Γj  = Elements.position(vj), strength(vj)\n",
    "            out += Γj^2*P(z,zj;kwargs...)\n",
    "            for vk in v[1:j-1]\n",
    "                zk,Γk  = Elements.position(vk), strength(vk)\n",
    "                out += Γj*Γk*Π(z,zj,zk;kwargs...)\n",
    "            end\n",
    "        end\n",
    "        return out\n",
    "end\n",
    "\n",
    "# Change of pressure with respect to change of strength of vortex l (specified by its index)\n",
    "function dpdΓv(z,l::Integer,v::Vector{T};kwargs...) where {T<:Union{PotentialFlow.Points.Point,PotentialFlow.Blobs.Blob}}\n",
    "        zl,Γl  = Elements.position(v[l]), strength(v[l])\n",
    "        out = 2*Γl*P(z,zl;kwargs...)\n",
    "        for (k,vk) in enumerate(v)\n",
    "            k == l && continue\n",
    "            zk,Γk  = Elements.position(vk), strength(vk)\n",
    "            out += Γk*Π(z,zl,zk;kwargs...)\n",
    "        end\n",
    "        return out\n",
    "end\n",
    "\n",
    "# Change of pressure with respect to change of position of vortex l (specified by its index)\n",
    "function dpdzv(z,l::Integer,v::Vector{T};kwargs...) where {T<:Union{PotentialFlow.Points.Point,PotentialFlow.Blobs.Blob}}\n",
    "        zl,Γl  = Elements.position(v[l]), strength(v[l])\n",
    "        out = Γl*dPdzv(z,zl;kwargs...)\n",
    "        for (k,vk) in enumerate(v)\n",
    "            k == l && continue\n",
    "            zk,Γk  = Elements.position(vk), strength(vk)\n",
    "            out += Γk*dΠdzvl(z,zl,zk;kwargs...)\n",
    "        end\n",
    "        return Γl*out\n",
    "end\n",
    "\n",
    "\n",
    "pressure(z::AbstractArray,v::Vector{T};kwargs...) where {T<:Union{PotentialFlow.Points.Point,PotentialFlow.Blobs.Blob}} = map(zj -> pressure(zj,v;kwargs...),z)\n",
    "dpdzv(z::AbstractArray,l::Integer,v::Vector{T};kwargs...) where {T<:Union{PotentialFlow.Points.Point,PotentialFlow.Blobs.Blob}} = map(zj -> dpdzv(zj,l,v;kwargs...),z)\n",
    "dpdΓv(z::AbstractArray,l::Integer,v::Vector{T};kwargs...) where {T<:Union{PotentialFlow.Points.Point,PotentialFlow.Blobs.Blob}} = map(zj -> dpdΓv(zj,l,v;kwargs...),z)"
   ]
  },
  {
   "cell_type": "code",
   "execution_count": 8,
   "metadata": {},
   "outputs": [],
   "source": [
    "# Create evaluation points about the unit circle\n",
    "θcircle = range(0,2π,length=101)\n",
    "zcircle = 1.1*exp.(im*θcircle[1:end-1]);"
   ]
  },
  {
   "cell_type": "code",
   "execution_count": 9,
   "metadata": {},
   "outputs": [
    {
     "data": {
      "text/plain": [
       "5-element Vector{PotentialFlow.Blobs.Blob{Float64, Float64}}:\n",
       " Vortex.Blob(2.0 + 0.0im, 5.0, 0.1)\n",
       " Vortex.Blob(0.6180339887498949 + 1.902113032590307im, 5.0, 0.1)\n",
       " Vortex.Blob(-1.6180339887498947 + 1.1755705045849465im, 5.0, 0.1)\n",
       " Vortex.Blob(-1.618033988749895 - 1.175570504584946im, 5.0, 0.1)\n",
       " Vortex.Blob(0.6180339887498945 - 1.9021130325903073im, 5.0, 0.1)"
      ]
     },
     "execution_count": 9,
     "metadata": {},
     "output_type": "execute_result"
    }
   ],
   "source": [
    "# Create a ring of point vortices\n",
    "Nv = 5\n",
    "θv = range(0,2π,length=Nv+1)[1:end-1]\n",
    "\n",
    "δ = 1e-1\n",
    "\n",
    "rv = 2.0\n",
    "zv = rv*exp.(im*θv)\n",
    "Γv = 5.0*ones(Nv)\n",
    "\n",
    "points = Vortex.Point.(zv,Γv)\n",
    "blobs = Vortex.Blob.(zv,Γv,δ*ones(Nv))"
   ]
  },
  {
   "cell_type": "code",
   "execution_count": null,
   "metadata": {},
   "outputs": [],
   "source": [
    "### Compare with result for point vortices with AD\n",
    "\n",
    "dpdz_AD, dpdzstar_AD = PotentialFlow.Elements.jacobian_position(x -> pressure(zcircle, x; ϵ = 0.0), points)\n",
    "\n",
    "dpdz_analytical = dpdzv(zcircle,1,points; ϵ = 0.0)\n",
    "\n",
    "@show norm(dpdz_AD[:,1] - dpdz_analytical)\n",
    "@show norm(dpdz_AD[:,1] - dpdz_analytical)/norm(dpdz_analytical)"
   ]
  },
  {
   "cell_type": "code",
   "execution_count": null,
   "metadata": {},
   "outputs": [],
   "source": [
    "### Compare with result for blobs with AD\n",
    "\n",
    "dpdz_AD, dpdzstar_AD = PotentialFlow.Elements.jacobian_position(x -> pressure(zcircle, x; ϵ = 0.0), points)\n",
    "\n",
    "dpdz_analytical = dpdzv(zcircle,1,points; ϵ = 0.0)\n",
    "\n",
    "@show norm(dpdz_AD[:,1] - dpdz_analytical)\n",
    "@show norm(dpdz_AD[:,1] - dpdz_analytical)/norm(dpdz_analytical)"
   ]
  }
 ],
 "metadata": {
  "kernelspec": {
   "display_name": "Julia 1.6.2",
   "language": "julia",
   "name": "julia-1.6"
  },
  "language_info": {
   "file_extension": ".jl",
   "mimetype": "application/julia",
   "name": "julia",
   "version": "1.6.2"
  }
 },
 "nbformat": 4,
 "nbformat_minor": 4
}
