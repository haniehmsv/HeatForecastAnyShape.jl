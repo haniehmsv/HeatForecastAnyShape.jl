{
 "cells": [
  {
   "cell_type": "code",
   "execution_count": 1,
   "metadata": {},
   "outputs": [],
   "source": [
    "using Revise\n",
    "using LowRankVortex\n",
    "using TransportBasedInference\n",
    "using LinearAlgebra\n",
    "using Statistics\n",
    "using PotentialFlow\n",
    "import PotentialFlow.Plates: Plate, Points, Blobs\n",
    "import PotentialFlow.Motions: reset_velocity!\n",
    "import PotentialFlow.Elements\n",
    "import PotentialFlow.Properties: @property\n",
    "using JLD\n",
    "using BenchmarkTools\n",
    "using ProgressMeter\n",
    "using Interpolations\n",
    "using Distributions"
   ]
  },
  {
   "cell_type": "code",
   "execution_count": 2,
   "metadata": {},
   "outputs": [],
   "source": [
    "using Plots\n",
    "default(fontfamily = \"Computer Modern\",\n",
    "        tickfont = font(\"Computer Modern\", 9), \n",
    "        titlefont = font(\"Computer Modern\", 14), \n",
    "        guidefont = font(\"Computer Modern\", 12),\n",
    "#         legendfont = font(\"Computer Modern\", 10),\n",
    "        grid = false)\n",
    "pyplot()\n",
    "using LaTeXStrings"
   ]
  },
  {
   "cell_type": "markdown",
   "metadata": {},
   "source": [
    "### Routines for the plots"
   ]
  },
  {
   "cell_type": "code",
   "execution_count": 3,
   "metadata": {},
   "outputs": [
    {
     "data": {
      "text/plain": [
       "routine_plotCx (generic function with 1 method)"
      ]
     },
     "execution_count": 3,
     "metadata": {},
     "output_type": "execute_result"
    }
   ],
   "source": [
    "function routine_spectrum(Λ::Array{Float64,1})\n",
    "    Λ = sort(abs.(Λ); rev = true)\n",
    "\n",
    "    plt = plot(layout = grid(1,3), legend = false, margin = 5*Plots.px, size = (600, 300))\n",
    "\n",
    "    scatter!(plt[1,1], collect(1:length(Λ)), Λ, \n",
    "          yscale = :log10, xlabel = L\"i\", ylabel = L\"\\lambda_i\")\n",
    "    scatter!(plt[1,2], collect(1:length(Λ)), cumsum(Λ)./sum(Λ),\n",
    "           xlabel = L\"i\", ylabel = \"Normalized cumulative energy\")\n",
    "    scatter!(plt[1,3], Λ[1:end-1] - Λ[2:end], \n",
    "          yscale = :log10, xlabel = L\"i\", ylabel = L\"\\lambda_i - \\lambda_{i+1}\")\n",
    "    return plt\n",
    "end\n",
    "\n",
    "function routine_plotCx(state, Cx::Matrix{Float64}, rx::Int64, config::VortexConfig, X::StepRangeLen, Y::StepRangeLen; withvortices::Bool=true)\n",
    "    \n",
    "    U, S, _ = svd(Symmetric(Cx))\n",
    "    source = state_to_lagrange(state, config)\n",
    "    \n",
    "    # Default julia colors\n",
    "    cur_colors = theme_palette(:auto)\n",
    "    \n",
    "    nlines = rx ÷ 3 + 1\n",
    "    if mod(rx, 3) == 0\n",
    "        nlines -= 1\n",
    "    end\n",
    "    \n",
    "    plt = plot(layout = grid(nlines, 3))\n",
    "    \n",
    "    for i = 1:rx\n",
    "        idxlines = (i÷3) + 1\n",
    "        idxcols  = i - 3*(i÷3) \n",
    "        if mod(i, 3) == 0\n",
    "            idxlines -= 1\n",
    "            idxcols = 3\n",
    "        end\n",
    "        \n",
    "        if withvortices == true\n",
    "            for j=1:config.Nv\n",
    "                # Put circles to show strength change\n",
    "                scatter!(plt[idxlines, idxcols], \n",
    "                      [state[(j-1)*3+1]],\n",
    "                      [state[(j-1)*3+2]],\n",
    "                      markersize = 50*abs.(U[3*j,i]), markerstrokecolor = cur_colors[i],\n",
    "                      markeralpha = 1.0, \n",
    "                      markerstrokewidth = 3,\n",
    "                      markercolor = :white, legend = false)\n",
    "            end\n",
    "#             plot!(plt[idxlines, idxcols], source, markersize = 12, markeralpha = 0.5, \n",
    "#                   color = cgrad(reverse(colormap(\"RdBu\")[10:end-10])),\n",
    "#                   clim = (-1.0, 1.0), label = [\"Vortices\" \"Sources\"], legend = false, colorbar = false)\n",
    "            plot!(plt[idxlines, idxcols],  xlim = (-2.0, 2.0), xticks = -2.0:1.0:2.0, \n",
    "                  ylim = (0, 1.2*maximum(imag.(config.zs))))\n",
    "\n",
    "            for j=1:config.Nv\n",
    "                # Put arrows to indicate directions of change\n",
    "                plot!(plt[idxlines, idxcols], \n",
    "                      [state[(j-1)*3+1], state[(j-1)*3+1] - U[(j-1)*3+1,i]],\n",
    "                      [state[(j-1)*3+2], state[(j-1)*3+2] - U[(j-1)*3+2,i]], \n",
    "                      linewidth = 2, arrow=(:closed, 0.5), arrowsize = 0.5, color = cur_colors[i], legend = false)\n",
    "                plot!(plt[idxlines, idxcols], \n",
    "                      [state[(j-1)*3+1], state[(j-1)*3+1] + U[(j-1)*3+1,i]],\n",
    "                      [state[(j-1)*3+2], state[(j-1)*3+2] + U[(j-1)*3+2,i]], \n",
    "                      linewidth = 2, arrow=(:closed, 0.5), arrowsize = 0.5, color = cur_colors[i], legend = false)\n",
    "            end\n",
    "        end\n",
    "    end\n",
    "    plt\n",
    "end"
   ]
  },
  {
   "cell_type": "code",
   "execution_count": 4,
   "metadata": {},
   "outputs": [
    {
     "data": {
      "text/plain": [
       "routine_plot (generic function with 1 method)"
      ]
     },
     "execution_count": 4,
     "metadata": {},
     "output_type": "execute_result"
    }
   ],
   "source": [
    "function routine_plot(state, config::VortexConfig)\n",
    "    source = state_to_lagrange(state, config)\n",
    "    plt = plot(layout = grid(1,2))\n",
    "    \n",
    "    zc = mean(getfield.(source[1], :z))\n",
    "    plot!(plt[1,1], size = (1000, 400), xlabel = L\"x\", ylabel = L\"y\")\n",
    "    plot!(plt[1,1], xlims = (-2.0, 10.0), \n",
    "                      ylim = (-2, 2))\n",
    "    plot!(plt[1,1], source, ratio = 1.0, legend = false, markersize = 5, color = cgrad([:blue; :white; :red]))\n",
    "    scatter!(plt[1,1], real.(config.ss), imag.(config.ss), markersize = 5, color = colorant\"orangered2\")\n",
    "    \n",
    "    plot!(plt[1,2], xlims = (real(zc) - 2.0, real(zc) + 2.0), \n",
    "                      ylim = (-2, 2))\n",
    "    plot!(plt[1,2], source, ratio = 1.0, legend = false, markersize = 5, color = cgrad([:blue; :white; :red]))\n",
    "\n",
    "end"
   ]
  },
  {
   "cell_type": "code",
   "execution_count": 5,
   "metadata": {},
   "outputs": [
    {
     "data": {
      "text/plain": [
       "vortex_patch"
      ]
     },
     "execution_count": 5,
     "metadata": {},
     "output_type": "execute_result"
    }
   ],
   "source": [
    "\"\"\"\n",
    "    vortex_patch!(vort,zc,Γ,radius,nring[,δ=0])\n",
    "\n",
    "Create a circular patch of vortex blobs, returned in `vort`. The centroid of the patch is at `zc`, its strength\n",
    "(circulation) is `Γ`, and its radius is `radius`. The patch consists of `nring` rings; if `nring = 1`, the patch\n",
    "consists of only a single vortex blob at the centroid. Each blob is assigned radius `δ`, which is 0 by default.\n",
    "\"\"\"\n",
    "function vortex_patch!(vort,zc,Γ,radius,nring::Int;δ=0)\n",
    "    Δr = radius/(nring-1/2)\n",
    "    dΓ = Γ/(1+8*nring*(nring-1)/2)\n",
    "    @show dΓ\n",
    "    push!(vort,Vortex.Blob(zc,dΓ,δ))\n",
    "    for ir in 1:nring-1\n",
    "        nθ = 8*ir\n",
    "        for j = 0:nθ-1\n",
    "            push!(vort,Vortex.Blob(zc + ir*Δr*exp(im*2π*j/nθ),dΓ,δ))\n",
    "        end\n",
    "    end\n",
    "    return vort\n",
    "end\n",
    "\n",
    "\"\"\"\n",
    "    vortex_patch(zc,Γ,radius,nring[,δ=0]) -> Vector{Vortex.Blob}\n",
    "\n",
    "Create a circular patch of vortex blobs. The centroid of the patch is at `zc`, its strength\n",
    "(circulation) is `Γ`, and its radius is `radius`. The patch consists of `nring` rings; if `nring = 1`, the patch\n",
    "consists of only a single vortex blob at the centroid. Each blob is assigned radius `δ`, which is 0 by default.\n",
    "\"\"\"\n",
    "vortex_patch(zc,Γ,radius,nring::Int;δ=0) = vortex_patch!(Vortex.Blob{Float64,Float64}[],zc,Γ,radius,nring,δ=δ)"
   ]
  },
  {
   "cell_type": "markdown",
   "metadata": {},
   "source": [
    "### Configuration setup"
   ]
  },
  {
   "cell_type": "code",
   "execution_count": 6,
   "metadata": {},
   "outputs": [
    {
     "data": {
      "text/plain": [
       "(0.0, 12.0)"
      ]
     },
     "execution_count": 6,
     "metadata": {},
     "output_type": "execute_result"
    }
   ],
   "source": [
    "#\n",
    "Δtgif = 0.5\n",
    "\n",
    "# Pressure sensors\n",
    "Δs = 0.5\n",
    "sensors = complex.(collect(-1.5:Δs:11.0))\n",
    "Ny = length(sensors)\n",
    "\n",
    "\n",
    "rpatch = 0.5 # initial radius of the vortex patch\n",
    "dpatch = 1.5 # initial distance between patch centroids\n",
    "Γpatch = 6.0 # strength of patch.\n",
    "Upatch = Γpatch/(2*π*dpatch)\n",
    "Nring = 4  # number of rings in each patch.\n",
    "# The uncertainty is set to a small fraction 10% of the Δr between two consecutive rings\n",
    "σr =  0.1*rpatch/(Nring-1/2)\n",
    "σΓ =  1e-2\n",
    "# Δt = 0.01#0.005*π^2*d0^2/abs(Γ0) # set the time step\n",
    "\n",
    "\n",
    "config_data = let Nv = 1+(8*(Nring-1)*Nring)÷2,\n",
    "             U = 0.0*im,\n",
    "             ss = sensors, Δt = 5e-3, δ = 5e-2,\n",
    "             ϵX = 1e-4, ϵΓ = 1e-4,\n",
    "             β = 1.0,\n",
    "             ϵY = 1e-1\n",
    "    VortexConfig(Nv, U, ss, Δt, δ, ϵX, ϵΓ, β, ϵY)\n",
    "end\n",
    "\n",
    "Nv = config_data.Nv\n",
    "\n",
    "xgrid = range(-2, 10, length= 800)\n",
    "ygrid = range(-2, 2, length=100)\n",
    "\n",
    "t0 = 0.0\n",
    "tf = 12.0\n",
    "tspan = (t0, tf)"
   ]
  },
  {
   "cell_type": "code",
   "execution_count": 7,
   "metadata": {},
   "outputs": [
    {
     "name": "stdout",
     "output_type": "stream",
     "text": [
      "dΓ = 0.12244897959183673\n"
     ]
    }
   ],
   "source": [
    "blobsmean = vortex_patch(im*dpatch/2, Γpatch, rpatch, Nring, δ = config_data.δ)\n",
    "\n",
    "zmean = getfield.(blobsmean, :z)\n",
    "Γmean = getfield.(blobsmean, :S);"
   ]
  },
  {
   "cell_type": "code",
   "execution_count": 8,
   "metadata": {},
   "outputs": [
    {
     "data": {
      "text/plain": [
       "SyntheticData([0.0, 0.005, 0.01, 0.015, 0.02, 0.025, 0.03, 0.035, 0.04, 0.045  …  11.955, 11.96, 11.965, 11.97, 11.975, 11.98, 11.985, 11.99, 11.995, 12.0], 0.005, [0.0], [0.0 0.0 … 0.0 0.0], [0.20666625031920313 0.20586312335318369 … 0.01270008482244937 0.012691520986275705; 0.1742425891635577 0.1739152849704368 … 0.014284036091272545 0.014273872098890915; … ; 0.010299914791860725 0.010299173780658437 … 0.06942864330844263 0.06951685503790611; 0.00948066569936639 0.009479346992547167 … 0.05526044098983389 0.05532486199339147])"
      ]
     },
     "execution_count": 8,
     "metadata": {},
     "output_type": "execute_result"
    }
   ],
   "source": [
    "Re = 300\n",
    "gridRe = 3\n",
    "\n",
    "idxCFD = Int64[]\n",
    "\n",
    "ssCFD = -1.5:0.01:11\n",
    "NCFD = length(ssCFD)\n",
    "\n",
    "for (i, xi) in enumerate(ssCFD)\n",
    "    if sum(xi .∈ config_data.ss) == 1\n",
    "        push!(idxCFD, copy(i))\n",
    "    elseif sum(xi .∈ config_data.ss) == 2\n",
    "        error()\n",
    "    end\n",
    "end\n",
    "\n",
    "@assert ssCFD[idxCFD] == config_data.ss \"Error in the selected sensors\"\n",
    "\n",
    "fullpress = load(\"/media/mat/HDD/VortexPatch.jl/notebooks/data/pressure_vortex_patch_CFD_t_\"*\n",
    "    string(ceil(Int64, tspan[end]))*\"_Re_\"*string(ceil(Int64, Re))*\n",
    "                 \"_gridRe_\"*string(ceil(Int64, gridRe))*\"_rpatch_\"*string(ceil(Int64, 100*rpatch))*\n",
    "                 \"_dpatch_\"*string(ceil(Int64, 100*dpatch))*\n",
    "                 \"_Gpatch_\"*string(ceil(Int64, 100*Γpatch))*\".jld\")[\"p\"]\n",
    "\n",
    "# fullpress = load(\"/media/mat/HDD/VortexPatch.jl/notebooks/data/\"*\n",
    "#     \"pressure_vortex_patch_CFD__t_12Re_300_gridRe_3_rpatch_30_dpatch_200_Gpatch_600.jld\")[\"p\"]\n",
    "\n",
    "# pressure_vortex_patch_CFD__t_12_Re_300_gridRe_3_rpatch_40_dpatch_100_Gpatch_600\n",
    "\n",
    "# pressure_vortex_patch_CFD__t_12Re_300_gridRe_3_rpatch_30_dpatch_200_Gpatch_600\n",
    "\n",
    "yt = fullpress[idxCFD, :]\n",
    "\n",
    "\n",
    "ΔtCFD = 5e-3\n",
    "data = SyntheticData(collect(0.0:ΔtCFD:12.0), ΔtCFD, zeros(1), zeros(1, length(collect(0.0:ΔtCFD:12.0))), yt)"
   ]
  },
  {
   "cell_type": "markdown",
   "metadata": {},
   "source": [
    "### Setup the sequential filter"
   ]
  },
  {
   "cell_type": "code",
   "execution_count": 9,
   "metadata": {},
   "outputs": [
    {
     "data": {
      "text/plain": [
       "AdditiveInflation(26, [0.0, 0.0, 0.0, 0.0, 0.0, 0.0, 0.0, 0.0, 0.0, 0.0  …  0.0, 0.0, 0.0, 0.0, 0.0, 0.0, 0.0, 0.0, 0.0, 0.0], [0.010000000000000002 0.0 … 0.0 0.0; 0.0 0.010000000000000002 … 0.0 0.0; … ; 0.0 0.0 … 0.010000000000000002 0.0; 0.0 0.0 … 0.0 0.010000000000000002], [0.1 0.0 … 0.0 0.0; 0.0 0.1 … 0.0 0.0; … ; 0.0 0.0 … 0.1 0.0; 0.0 0.0 … 0.0 0.1])"
      ]
     },
     "execution_count": 9,
     "metadata": {},
     "output_type": "execute_result"
    }
   ],
   "source": [
    "config = deepcopy(config_data)\n",
    "\n",
    "ϵy = AdditiveInflation(Ny, zeros(Ny), config.ϵY)"
   ]
  },
  {
   "cell_type": "code",
   "execution_count": 10,
   "metadata": {},
   "outputs": [
    {
     "data": {
      "text/plain": [
       "Stochastic EnKF  with filtered = true\n"
      ]
     },
     "execution_count": 10,
     "metadata": {},
     "output_type": "execute_result"
    }
   ],
   "source": [
    "enkf = StochEnKF(x-> x, ϵy, config.Δt, config.Δt; isfiltered = true)"
   ]
  },
  {
   "cell_type": "code",
   "execution_count": 43,
   "metadata": {},
   "outputs": [
    {
     "data": {
      "text/plain": [
       "147"
      ]
     },
     "execution_count": 43,
     "metadata": {},
     "output_type": "execute_result"
    }
   ],
   "source": [
    "Ne = 80\n",
    "Ny = length(config.ss)\n",
    "Nx = 3*config.Nv"
   ]
  },
  {
   "cell_type": "code",
   "execution_count": 44,
   "metadata": {},
   "outputs": [
    {
     "data": {
      "text/plain": [
       "1601:2401"
      ]
     },
     "execution_count": 44,
     "metadata": {},
     "output_type": "execute_result"
    }
   ],
   "source": [
    "# Generate the initial condition\n",
    "\n",
    "X0 = zeros(Ny+Nx, Ne)\n",
    "\n",
    "for l=1:Ne\n",
    "    for i=1:config.Nv\n",
    "        # Perturbed position \n",
    "        zi = zmean[i] + σr*randn()*exp(im*π*rand())\n",
    "        X0[Ny + 3*(i-1) + 1, l] = real(zi)\n",
    "        X0[Ny + 3*(i-1) + 2, l] = imag(zi)\n",
    "        # Perturbed circulation\n",
    "        Γi = Γmean[i] + σΓ*randn()\n",
    "        X0[Ny + 3*(i-1) + 3, l] = Γi\n",
    "    end\n",
    "end\n",
    "\n",
    "timeidx  = 1601:2401"
   ]
  },
  {
   "cell_type": "code",
   "execution_count": 45,
   "metadata": {},
   "outputs": [
    {
     "data": {
      "text/plain": [
       "dstateobs (generic function with 1 method)"
      ]
     },
     "execution_count": 45,
     "metadata": {},
     "output_type": "execute_result"
    }
   ],
   "source": [
    "function dstateobs(X, Ny, Nx, config::VortexConfig)\n",
    "    Nypx, Ne = size(X)\n",
    "    @assert Nypx == Ny + Nx\n",
    "    @assert Ny == length(config.ss)\n",
    "    Nv = config.Nv\n",
    "    dXY = zeros(Nv, Ny, Ne)\n",
    "    \n",
    "    for i=1:Ne\n",
    "        xi = X[Ny+1:Ny+Nx, i]\n",
    "        zi = map(l->xi[3*l-2] + im*xi[3*l-1], 1:Nv)\n",
    "\n",
    "        for J=1:Nv\n",
    "            for k=1:Ny\n",
    "                dXY[J,k,i] = abs(zi[J] - config.ss[k])\n",
    "            end\n",
    "        end\n",
    "    end\n",
    "    return mean(dXY, dims = 3)[:,:,1]\n",
    "end"
   ]
  },
  {
   "cell_type": "code",
   "execution_count": 46,
   "metadata": {},
   "outputs": [
    {
     "data": {
      "text/plain": [
       "dobsobs (generic function with 1 method)"
      ]
     },
     "execution_count": 46,
     "metadata": {},
     "output_type": "execute_result"
    }
   ],
   "source": [
    "function dobsobs(config::VortexConfig)\n",
    "    Ny = length(config.ss) \n",
    "    dYY = zeros(Ny, Ny)\n",
    "    for i=1:Ny\n",
    "        for j=1:i-1\n",
    "            dij = abs(config.ss[i] - config.ss[j])\n",
    "            dYY[i,j] = dij\n",
    "            dYY[j,i] = dij\n",
    "        end\n",
    "    end\n",
    "    return dYY\n",
    "end\n",
    "# dobsobs(config)[1,end] - abs(config.ss[1]-config.ss[end])"
   ]
  },
  {
   "cell_type": "code",
   "execution_count": 47,
   "metadata": {},
   "outputs": [
    {
     "data": {
      "text/plain": [
       "localized_senkf_symmetric_vortexassim (generic function with 1 method)"
      ]
     },
     "execution_count": 47,
     "metadata": {},
     "output_type": "execute_result"
    }
   ],
   "source": [
    "function localized_senkf_symmetric_vortexassim(algo::StochEnKF, Lxy, Lyy, X, tspan::Tuple{S,S}, config::VortexConfig, data::SyntheticData; withfreestream::Bool = false, P::Parallel = serial) where {S<:Real}\n",
    "\n",
    "    # Define the inflation parameters\n",
    "    ϵX = config.ϵX\n",
    "    ϵΓ = config.ϵΓ\n",
    "    β = config.β\n",
    "    ϵY = config.ϵY\n",
    "    ϵx = RecipeInflation([ϵX; ϵΓ])\n",
    "    ϵmul = MultiplicativeInflation(β)\n",
    "\n",
    "    Ny = size(config.ss,1)\n",
    "\n",
    "    # Set the time step between two assimilation steps\n",
    "    Δtobs = algo.Δtobs\n",
    "    # Set the time step for the time marching of the dynamical system\n",
    "    Δtdyn = algo.Δtdyn\n",
    "    t0, tf = tspan\n",
    "    step = ceil(Int, Δtobs/Δtdyn)\n",
    "\n",
    "    n0 = ceil(Int64, t0/Δtobs) + 1\n",
    "    J = (tf-t0)/Δtobs\n",
    "    Acycle = n0:n0+J-1\n",
    "\n",
    "    # Array dimensions\n",
    "    Nypx, Ne = size(X)\n",
    "    Nx = Nypx - Ny\n",
    "    ystar = zeros(Ny)\n",
    "\n",
    "    # Cache variable for the velocities\n",
    "    cachevels = allocate_velocity(state_to_lagrange(X[Ny+1:Ny+Nx,1], config))\n",
    "\n",
    "    # Define the observation operator\n",
    "    h(x, t) = measure_state_symmetric(x, t, config; withfreestream =  withfreestream)\n",
    "    # Define an interpolation function in time and space of the true pressure field\n",
    "    press_itp = CubicSplineInterpolation((LinRange(real(config.ss[1]), real(config.ss[end]), length(config.ss)),\n",
    "                                   t0:data.Δt:tf), data.yt, extrapolation_bc =  Line())\n",
    "\n",
    "    yt(t) = press_itp(real.(config.ss), t)\n",
    "    Xf = Array{Float64,2}[]\n",
    "    push!(Xf, copy(state(X, Ny, Nx)))\n",
    "\n",
    "    Xa = Array{Float64,2}[]\n",
    "    push!(Xa, copy(state(X, Ny, Nx)))\n",
    "\n",
    "    dyy = dobsobs(config)\n",
    "    Gyy = gaspari.(dyy./Lyy)\n",
    "\n",
    "    # Run the ensemble filter\n",
    "    @showprogress for i=1:length(Acycle)\n",
    "\n",
    "        # Forecast step\n",
    "        @inbounds for j=1:step\n",
    "            tj = t0+(i-1)*Δtobs+(j-1)*Δtdyn\n",
    "            X, _ = symmetric_vortex(X, tj, Ny, Nx, cachevels, config; withfreestream = withfreestream)\n",
    "        end\n",
    "\n",
    "        push!(Xf, deepcopy(state(X, Ny, Nx)))\n",
    "\n",
    "        # Get the true observation ystar\n",
    "        ystar .= yt(t0+i*Δtobs)\n",
    "\n",
    "        # Perform state inflation\n",
    "        ϵmul(X, Ny+1, Ny+Nx)\n",
    "        ϵx(X, Ny, Nx, config)\n",
    "\n",
    "        # Filter state\n",
    "        if algo.isfiltered == true\n",
    "            @inbounds for i=1:Ne\n",
    "                x = view(X, Ny+1:Ny+Nx, i)\n",
    "                x .= filter_state!(x, config)\n",
    "            end\n",
    "        end\n",
    "\n",
    "        # Evaluate the observation operator for the different ensemble members\n",
    "        observe(h, X, t0+i*Δtobs, Ny, Nx; P = P)\n",
    "\n",
    "        # Generate samples from the observation noise\n",
    "        ϵ = algo.ϵy.σ*randn(Ny, Ne) .+ algo.ϵy.m\n",
    "\n",
    "        # Form the perturbation matrix for the state\n",
    "        Xpert = (1/sqrt(Ne-1))*(X[Ny+1:Ny+Nx,:] .- mean(X[Ny+1:Ny+Nx,:]; dims = 2)[:,1])\n",
    "        # Form the perturbation matrix for the observation\n",
    "        HXpert = (1/sqrt(Ne-1))*(X[1:Ny,:] .- mean(X[1:Ny,:]; dims = 2)[:,1])\n",
    "        # Form the perturbation matrix for the observation noise\n",
    "        ϵpert = (1/sqrt(Ne-1))*(ϵ .- mean(ϵ; dims = 2)[:,1])\n",
    "\n",
    "        # Kenkf = Xpert*HXpert'*inv(HXpert*HXpert'+ϵpert*ϵpert')\n",
    "\n",
    "        # Apply the Kalman gain based on the representers\n",
    "        # Burgers G, Jan van Leeuwen P, Evensen G. 1998 Analysis scheme in the ensemble Kalman\n",
    "        # filter. Monthly weather review 126, 1719–1724. Solve the linear system for b ∈ R^{Ny × Ne}:\n",
    "        \n",
    "        Σy = (HXpert*HXpert' + ϵpert*ϵpert')\n",
    "        localizedΣy =  Gyy .* Σy\n",
    "        # Apply localization \n",
    "        b = localizedΣy\\(ystar .- (X[1:Ny,:] + ϵ))\n",
    "\n",
    "        # Update the ensemble members according to:\n",
    "        # x^{a,i} = x^i - Σ_{X,Y}b^i, with b^i =  Σ_Y^{-1}(h(x^i) + ϵ^i - ystar)\n",
    "        dxy = dstateobs(X, Ny, Nx, config)\n",
    "        Gxy = gaspari.(dxy./Lxy)\n",
    "        localizedΣxy = (Xpert*HXpert')\n",
    "        \n",
    "        for J=1:config.Nv\n",
    "            for i=-2:0\n",
    "               localizedΣxy[3*J+i,:] .*= Gxy[J,:]\n",
    "            end\n",
    "        end\n",
    "        view(X,Ny+1:Ny+Nx,:) .+= localizedΣxy*b\n",
    "\n",
    "        # Filter state\n",
    "        if algo.isfiltered == true\n",
    "            @inbounds for i=1:Ne\n",
    "                x = view(X, Ny+1:Ny+Nx, i)\n",
    "                x .= filter_state!(x, config)\n",
    "            end\n",
    "        end\n",
    "\n",
    "        push!(Xa, deepcopy(state(X, Ny, Nx)))\n",
    "    end\n",
    "\n",
    "    return Xf, Xa\n",
    "end"
   ]
  },
  {
   "cell_type": "markdown",
   "metadata": {},
   "source": [
    "### Perform data assimilation with the stochastic EnKF"
   ]
  },
  {
   "cell_type": "code",
   "execution_count": 48,
   "metadata": {},
   "outputs": [
    {
     "name": "stderr",
     "output_type": "stream",
     "text": [
      "\u001b[32mProgress: 100%|█████████████████████████████████████████| Time: 0:03:51\u001b[39m\n"
     ]
    },
    {
     "data": {
      "text/plain": [
       "0.02021347037955865"
      ]
     },
     "execution_count": 48,
     "metadata": {},
     "output_type": "execute_result"
    }
   ],
   "source": [
    "# Run the stochastic EnKF\n",
    "\n",
    "Xf, Xa = senkf_symmetric_vortexassim(enkf, deepcopy(X0), tspan, config, data; P = serial)\n",
    "\n",
    "\n",
    "mse_enkf = 0.0\n",
    "\n",
    "# Compute the median square error for the pressure\n",
    "@showprogress for i in timeidx\n",
    "    @assert config.Δt == data.Δt \n",
    "    idxCFD = deepcopy(i)\n",
    "    X_enkf = deepcopy(Xa[i])\n",
    "    Y_enkf = zeros(NCFD, Ne)\n",
    "\n",
    "    ϵx = RecipeInflation([config.ϵX; config.ϵΓ])\n",
    "    ϵmul = MultiplicativeInflation(config.β)\n",
    "\n",
    "    # Perform state inflation\n",
    "    ϵmul(X_enkf, 1, Nx)\n",
    "    ϵx(X_enkf, 0, Nx, config)\n",
    "    for i=1:Ne\n",
    "        Y_enkf[:,i] .= pressure(collect(ssCFD) .+ 0.0*im, \n",
    "                           vcat(state_to_lagrange(X_enkf[:,i], config)...), 0.0) .+ config.ϵY*randn(NCFD)\n",
    "    end\n",
    "\n",
    "    q50_enkf = median(Y_enkf; dims = 2)[:,1]\n",
    "    mse_enkf += 1/length(timeidx)*deepcopy(norm(fullpress[:,idxCFD]-q50_enkf)/sqrt(length(ssCFD)))\n",
    "end\n",
    "mse_enkf"
   ]
  },
  {
   "cell_type": "code",
   "execution_count": 49,
   "metadata": {},
   "outputs": [
    {
     "name": "stderr",
     "output_type": "stream",
     "text": [
      "\u001b[32mProgress: 100%|█████████████████████████████████████████| Time: 0:00:45\u001b[39m\n",
      "\u001b[32mProgress: 100%|█████████████████████████████████████████| Time: 0:03:31\u001b[39m\n"
     ]
    },
    {
     "data": {
      "text/plain": [
       "0.020528703390355393"
      ]
     },
     "execution_count": 49,
     "metadata": {},
     "output_type": "execute_result"
    }
   ],
   "source": [
    "# Run the stochastic EnKF\n",
    "Lxy = 0.8\n",
    "Lyy = 0.8\n",
    "\n",
    "Xf, Xa = localized_senkf_symmetric_vortexassim(enkf, Lxy, Lyy, deepcopy(X0), tspan, config, data; P = serial)\n",
    "\n",
    "\n",
    "mse_enkf = 0.0\n",
    "\n",
    "# Compute the median square error for the pressure\n",
    "@showprogress for i in timeidx\n",
    "    @assert config.Δt == data.Δt \n",
    "    idxCFD = deepcopy(i)\n",
    "    X_enkf = deepcopy(Xa[i])\n",
    "    Y_enkf = zeros(NCFD, Ne)\n",
    "\n",
    "    ϵx = RecipeInflation([config.ϵX; config.ϵΓ])\n",
    "    ϵmul = MultiplicativeInflation(config.β)\n",
    "\n",
    "    # Perform state inflation\n",
    "    ϵmul(X_enkf, 1, Nx)\n",
    "    ϵx(X_enkf, 0, Nx, config)\n",
    "    for i=1:Ne\n",
    "        Y_enkf[:,i] .= pressure(collect(ssCFD) .+ 0.0*im, \n",
    "                           vcat(state_to_lagrange(X_enkf[:,i], config)...), 0.0) .+ config.ϵY*randn(NCFD)\n",
    "    end\n",
    "\n",
    "    q50_enkf = median(Y_enkf; dims = 2)[:,1]\n",
    "    mse_enkf += 1/length(timeidx)*deepcopy(norm(fullpress[:,idxCFD]-q50_enkf)/sqrt(length(ssCFD)))\n",
    "end\n",
    "mse_enkf"
   ]
  },
  {
   "cell_type": "markdown",
   "metadata": {},
   "source": [
    "### Perform data assimilation with the low-rank EnKF"
   ]
  },
  {
   "cell_type": "code",
   "execution_count": 16,
   "metadata": {},
   "outputs": [
    {
     "ename": "LoadError",
     "evalue": "MethodError: no method matching adaptive_lowrankenkf_symmetric_vortexassim(::StochEnKF, ::Matrix{Float64}, ::Tuple{Float64, Float64}, ::VortexConfig, ::SyntheticData; rxdefault=nothing, rydefault=nothing, ratio=0.99, P=Serial(), isadaptive=true)\n\u001b[0mClosest candidates are:\n\u001b[0m  adaptive_lowrankenkf_symmetric_vortexassim(\u001b[91m::LREnKF\u001b[39m, ::Any, ::Tuple{S, S}, ::VortexConfig, ::SyntheticData; withfreestream, rxdefault, rydefault, isadaptive, ratio, P) where S<:Real at /media/mat/HDD/LowRankVortex.jl/src/adaptive_lowrankenkf_symmetric_vortexassim.jl:27",
     "output_type": "error",
     "traceback": [
      "MethodError: no method matching adaptive_lowrankenkf_symmetric_vortexassim(::StochEnKF, ::Matrix{Float64}, ::Tuple{Float64, Float64}, ::VortexConfig, ::SyntheticData; rxdefault=nothing, rydefault=nothing, ratio=0.99, P=Serial(), isadaptive=true)\n\u001b[0mClosest candidates are:\n\u001b[0m  adaptive_lowrankenkf_symmetric_vortexassim(\u001b[91m::LREnKF\u001b[39m, ::Any, ::Tuple{S, S}, ::VortexConfig, ::SyntheticData; withfreestream, rxdefault, rydefault, isadaptive, ratio, P) where S<:Real at /media/mat/HDD/LowRankVortex.jl/src/adaptive_lowrankenkf_symmetric_vortexassim.jl:27",
      "",
      "Stacktrace:",
      " [1] top-level scope",
      "   @ In[16]:3",
      " [2] eval",
      "   @ ./boot.jl:360 [inlined]",
      " [3] include_string(mapexpr::typeof(REPL.softscope), mod::Module, code::String, filename::String)",
      "   @ Base ./loading.jl:1116"
     ]
    }
   ],
   "source": [
    "# Run adaptive low rank EnKF with 0.99\n",
    "\n",
    "Xflowrank_99, Xalowrank_99, rxhist_99, ryhist_99 = adaptive_lowrankenkf_symmetric_vortexassim(enkf, deepcopy(X0), \n",
    "               tspan, config, data; rxdefault = nothing, rydefault = nothing, ratio = 0.99, P = serial, \n",
    "               isadaptive = true)\n",
    "\n",
    "mse_lowrank_99 = 0.0\n",
    "\n",
    "# Compute the median square error for the pressure\n",
    "@showprogress for i in timeidx\n",
    "    @assert config.Δt == data.Δt \n",
    "    idxCFD = deepcopy(i)\n",
    "    X_lowrank_99 = deepcopy(Xalowrank_99[i])\n",
    "    Y_lowrank_99 = zeros(NCFD, Ne)\n",
    "\n",
    "    ϵx = RecipeInflation([config.ϵX; config.ϵΓ])\n",
    "    ϵmul = MultiplicativeInflation(config.β)\n",
    "\n",
    "    # Perform state inflation\n",
    "    ϵmul(X_lowrank_99, 1, Nx)\n",
    "    ϵx(X_lowrank_99, 0, Nx, config)\n",
    "    for i=1:Ne\n",
    "        Y_lowrank_99[:,i] .= pressure(collect(ssCFD) .+ 0.0*im, \n",
    "                           vcat(state_to_lagrange(X_lowrank_99[:,i], config)...), 0.0) .+ config.ϵY*randn(NCFD)\n",
    "    end\n",
    "\n",
    "    q50_lowrank_99 = median(Y_lowrank_99; dims = 2)[:,1]\n",
    "    mse_lowrank_99 += 1/length(timeidx)*deepcopy(norm(fullpress[:,idxCFD]-q50_lowrank_99)/sqrt(length(ssCFD)))\n",
    "end\n",
    "mse_lowrank_99"
   ]
  },
  {
   "cell_type": "code",
   "execution_count": null,
   "metadata": {},
   "outputs": [],
   "source": []
  }
 ],
 "metadata": {
  "kernelspec": {
   "display_name": "Julia 1.6.2",
   "language": "julia",
   "name": "julia-1.6"
  },
  "language_info": {
   "file_extension": ".jl",
   "mimetype": "application/julia",
   "name": "julia",
   "version": "1.6.2"
  }
 },
 "nbformat": 4,
 "nbformat_minor": 2
}
