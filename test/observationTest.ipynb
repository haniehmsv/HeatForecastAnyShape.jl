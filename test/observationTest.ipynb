{
 "cells": [
  {
   "cell_type": "code",
   "execution_count": 2,
   "metadata": {},
   "outputs": [],
   "source": [
    "using Revise"
   ]
  },
  {
   "cell_type": "code",
   "execution_count": 3,
   "metadata": {},
   "outputs": [],
   "source": [
    "using Plots"
   ]
  },
  {
   "cell_type": "code",
   "execution_count": null,
   "metadata": {},
   "outputs": [],
   "source": [
    "using LaTeXStrings"
   ]
  },
  {
   "cell_type": "code",
   "execution_count": 4,
   "metadata": {},
   "outputs": [],
   "source": [
    "using UnPack"
   ]
  },
  {
   "cell_type": "code",
   "execution_count": 1,
   "metadata": {},
   "outputs": [],
   "source": [
    "using LinearAlgebra\n",
    "using ImmersedLayers"
   ]
  },
  {
   "cell_type": "code",
   "execution_count": 5,
   "metadata": {},
   "outputs": [
    {
     "data": {
      "text/plain": [
       "construct_heater_state_mapping (generic function with 1 method)"
      ]
     },
     "metadata": {},
     "output_type": "display_data"
    }
   ],
   "source": [
    "\"\"\"\n",
    "    HeaterConfig\n",
    "\n",
    "A structure to hold the parameters of the heater simulations\n",
    "\n",
    "## Fields\n",
    "- `Nq::Int64`: number of heaters\n",
    "- `state_id`: Look-up for state component indices\n",
    "- `Δt::Float64`: time step\n",
    "\"\"\"\n",
    "struct HeaterConfig{SID} \n",
    "    \"Number of heaters\"\n",
    "    Nq::Int64\n",
    "\n",
    "    \"State IDs\"\n",
    "    state_id::SID\n",
    "\n",
    "    \"Time step\"\n",
    "    Δt::Float64\n",
    "\n",
    "end\n",
    "\n",
    "function HeaterConfig(Nq,Δt)\n",
    "  state_id = construct_heater_state_mapping(Nq)\n",
    "  HeaterConfig{typeof(state_id)}(Nq,state_id,Δt)\n",
    "end\n",
    "\n",
    "function HeaterConfig(Nq)\n",
    "  state_id = construct_heater_state_mapping(Nq)\n",
    "  HeaterConfig{typeof(state_id)}(Nq,state_id,0.0)\n",
    "end\n",
    "function construct_heater_state_mapping(Nq::Int64)\n",
    "    state_id = Dict()\n",
    "    heater_x_ids = zeros(Int,Nq)\n",
    "    heater_y_ids = zeros(Int,Nq)\n",
    "    heater_q_ids = zeros(Int,Nq)\n",
    "    heater_r_ids = zeros(Int,Nq)\n",
    "  \n",
    "    for j in 1:Nq\n",
    "      heater_x_ids[j] = 4j-3\n",
    "      heater_y_ids[j] = 4j-2\n",
    "      heater_q_ids[j] = 4j-1\n",
    "      heater_r_ids[j] = 4j\n",
    "    end\n",
    "  \n",
    "    state_id[\"heater x\"] = heater_x_ids\n",
    "    state_id[\"heater y\"] = heater_y_ids\n",
    "    state_id[\"heater q\"] = heater_q_ids\n",
    "    state_id[\"heater r\"] = heater_r_ids\n",
    "  \n",
    "    return state_id\n",
    "  end"
   ]
  },
  {
   "cell_type": "code",
   "execution_count": 6,
   "metadata": {},
   "outputs": [
    {
     "data": {
      "text/plain": [
       "positions_and_strengths_to_state (generic function with 1 method)"
      ]
     },
     "metadata": {},
     "output_type": "display_data"
    }
   ],
   "source": [
    "function positions_and_strengths_to_state(zq::AbstractVector{ComplexF64},qq::AbstractVector{Float64},rq::AbstractVector{Float64},config::HeaterConfig)\n",
    "    @unpack Nq, state_id = config\n",
    "    state = zeros(state_length(state_id))\n",
    "  \n",
    "    x_ids = state_id[\"heater x\"]\n",
    "    y_ids = state_id[\"heater y\"]\n",
    "    q_ids = state_id[\"heater q\"]\n",
    "    r_ids = state_id[\"heater r\"]\n",
    "  \n",
    "  \n",
    "    for i = 1:Nq\n",
    "      state[x_ids[i]] = real(zq[i])\n",
    "      state[y_ids[i]] = imag(zq[i])\n",
    "      state[q_ids[i]] = qq[i]\n",
    "      state[r_ids[i]] = rq[i]\n",
    "    end\n",
    "  \n",
    "    return state\n",
    "  end  "
   ]
  },
  {
   "cell_type": "code",
   "execution_count": 7,
   "metadata": {},
   "outputs": [
    {
     "data": {
      "text/plain": [
       "state_length (generic function with 5 methods)"
      ]
     },
     "metadata": {},
     "output_type": "display_data"
    }
   ],
   "source": [
    "state_length(config::HeaterConfig) =  state_length(config.state_id)\n",
    "\n",
    "state_length(a::Dict) = mapreduce(key -> state_length(a[key]),+,keys(a))\n",
    "state_length(a::Vector) = length(a)\n",
    "state_length(a::Matrix) = 0\n",
    "state_length(a::Int) = 0"
   ]
  },
  {
   "cell_type": "code",
   "execution_count": 8,
   "metadata": {},
   "outputs": [
    {
     "data": {
      "text/plain": [
       "get_config_and_state (generic function with 1 method)"
      ]
     },
     "metadata": {},
     "output_type": "display_data"
    }
   ],
   "source": [
    "function get_config_and_state(zq::AbstractVector,qq::AbstractVector,rq::AbstractVector)\n",
    "    Nq = length(zq)\n",
    "    config = HeaterConfig(Nq)\n",
    "    x = positions_and_strengths_to_state(zq,qq,rq,config)\n",
    "\n",
    "    return config, x\n",
    "end"
   ]
  },
  {
   "cell_type": "code",
   "execution_count": 9,
   "metadata": {},
   "outputs": [
    {
     "data": {
      "text/plain": [
       "constructGrids"
      ]
     },
     "metadata": {},
     "output_type": "display_data"
    }
   ],
   "source": [
    "export constructGrids, AbstractGrids\n",
    "\n",
    "abstract type AbstractGrids end\n",
    "\n",
    "struct constructGrids{XT,CT} <: AbstractGrids\n",
    "\n",
    "    \"Grid spacing\"\n",
    "    Δx::Float64\n",
    "\n",
    "    \"Size of Domain\"\n",
    "    Lx::Float64\n",
    "\n",
    "    \"size of domain in x-direction\"\n",
    "    xlim::XT\n",
    "\n",
    "    \"size of domain in y-direction\"\n",
    "    ylim::XT\n",
    "    \n",
    "    \"Physical Grid\"\n",
    "    g::PhysicalGrid\n",
    "\n",
    "    \"Cache\"\n",
    "    cache::CT\n",
    "end\n",
    "\n",
    "function constructGrids(Δx,Lx)\n",
    "    xlim = (-Lx/2,Lx/2)\n",
    "    ylim = (-Lx/2,Lx/2)\n",
    "    g = PhysicalGrid(xlim,ylim,Δx)\n",
    "    cache = SurfaceScalarCache(g)\n",
    "    CacheType = typeof(cache)\n",
    "    constructGrids{typeof(xlim), CacheType}(Δx,Lx,xlim,ylim,g,cache)\n",
    "end"
   ]
  },
  {
   "cell_type": "code",
   "execution_count": 10,
   "metadata": {},
   "outputs": [
    {
     "data": {
      "text/plain": [
       "TemperatureObservations"
      ]
     },
     "metadata": {},
     "output_type": "display_data"
    }
   ],
   "source": [
    "abstract type AbstractObservationOperator{Nx,Ny,withsensors} end\n",
    "abstract type AbstractCartesianHeaterObservations{Nx,Ny} <: AbstractObservationOperator{Nx,Ny,true} end\n",
    "struct TemperatureObservations{Nx,Ny,ST,CT} <: AbstractObservationOperator{Nx,Ny,true}\n",
    "\tsens::ST\n",
    "\tconfig::CT\n",
    "end\n",
    "function TemperatureObservations(sens::AbstractVector,config::HeaterConfig)\n",
    "    return TemperatureObservations{4*config.Nq,length(sens),typeof(sens),typeof(config)}(sens,config)\n",
    "end"
   ]
  },
  {
   "cell_type": "code",
   "execution_count": 11,
   "metadata": {},
   "outputs": [
    {
     "data": {
      "text/plain": [
       "analytical_temperature (generic function with 1 method)"
      ]
     },
     "metadata": {},
     "output_type": "display_data"
    }
   ],
   "source": [
    "function observations(x::AbstractVector,t,obs::TemperatureObservations,gridConfig::constructGrids)\n",
    "    return _temperature(x,obs,gridConfig)\n",
    "end\n",
    "_temperature(x,obs::TemperatureObservations,gridConfig::constructGrids) = analytical_temperature(x,obs,gridConfig)\n",
    "function analytical_temperature(x::AbstractVector,obs::TemperatureObservations,gridConfig::constructGrids)\n",
    "\t@unpack config, sens = obs\n",
    "\t@unpack Nq, state_id = config\n",
    "\t@unpack g, cache = gridConfig\n",
    "\tNy = length(sens)\n",
    "\n",
    "\tx_ids = state_id[\"heater x\"]\n",
    "  \ty_ids = state_id[\"heater y\"]\n",
    "  \tq_ids = state_id[\"heater q\"]\n",
    "  \tr_ids = state_id[\"heater r\"]\n",
    "\n",
    "\txq = x[x_ids]\n",
    "\tyq = x[y_ids]\n",
    "\tqq = x[q_ids]\n",
    "\trq = x[r_ids]\n",
    "\n",
    "\tT = zeros_grid(cache)\n",
    "\txg, yg = coordinates(T,g)\n",
    "\tTemp = zeros(Ny)\n",
    "\n",
    "\tfor k in 1:Nq\n",
    "\t\tT = zeros_grid(cache)\n",
    "\t\tfor (j,y) in enumerate(yg), (i,x) in enumerate(xg)\n",
    "    \t\tif ((x-xq[k])^2+(y-yq[k])^2) < rq[k]^2\n",
    "        \t\tT[i,j] = -qq[k]\n",
    "    \t\tend\n",
    "\t\tend\n",
    "\t\tinverse_laplacian!(T,cache)\n",
    "\t\tTfield = interpolatable_field(T,g)\n",
    "\t\tTemp .+= [Tfield(real(sens[j]), imag(sens[j])) for j in 1:Ny]\n",
    "\tend\n",
    "\treturn Temp\n",
    "end"
   ]
  },
  {
   "cell_type": "code",
   "execution_count": 12,
   "metadata": {},
   "outputs": [
    {
     "data": {
      "text/plain": [
       "setup_sensors (generic function with 1 method)"
      ]
     },
     "metadata": {},
     "output_type": "display_data"
    }
   ],
   "source": [
    "function get_truth_data(Nsens,ϵmeas,x_true::Vector,config_true,gridConfig::constructGrids;layout=(:line,1.0),add_noise=false)\n",
    "\n",
    "    t = 0.0\n",
    "\n",
    "    sens = setup_sensors(Nsens;layout=layout)\n",
    "\n",
    "    # Get true observations\n",
    "    obs_true = TemperatureObservations(sens,config_true)\n",
    "\n",
    "    # evaluate data without noise\n",
    "    ystar0 = observations(x_true,t,obs_true,gridConfig)\n",
    "\n",
    "\n",
    "    return obs_true, ystar0, sens\n",
    "\n",
    "end\n",
    "function setup_sensors(Nsens;layout=(:line,1.0))\n",
    "\n",
    "    layout_type, len = layout\n",
    "  \n",
    "    if layout_type == :circle\n",
    "      rsens = len\n",
    "      θsens = range(0,2π,length=Nsens+1)\n",
    "      sens = rsens*exp.(im*θsens[1:end-1])\n",
    "    elseif layout_type == :line\n",
    "      ϵsens = 0.0\n",
    "      lowerrow = range(-len,len,length=Nsens) .+ (-0.5ϵsens .+ ϵsens*rand(Nsens))*im\n",
    "      #upperrow = range(-2.0,2.0,length=Nsens) .+ 1.0*im\n",
    "      #leftside = im*range(-1.0,3.0,length=Nsens) .- 1.0\n",
    "      #rightside = im*range(-1.0,3.0,length=Nsens) .+ 1.0\n",
    "      sens = vcat(lowerrow,)  #upperrow);\n",
    "    elseif layout_type == :dline\n",
    "      ϵsens = 0.02\n",
    "      lowerrow1 = range(-len,len,length=Nsens÷2) .- 0.5*ϵsens\n",
    "      lowerrow2 = range(-len,len,length=Nsens÷2) .+ 0.5*ϵsens\n",
    "      sens = sort(vcat(lowerrow1,lowerrow2)) .+ 0.0im\n",
    "    end\n",
    "    return sens\n",
    "  end\n",
    "  "
   ]
  },
  {
   "cell_type": "markdown",
   "metadata": {},
   "source": [
    "### True data"
   ]
  },
  {
   "cell_type": "code",
   "execution_count": 14,
   "metadata": {},
   "outputs": [
    {
     "data": {
      "text/plain": [
       "2"
      ]
     },
     "metadata": {},
     "output_type": "display_data"
    }
   ],
   "source": [
    "zq = [0.5+1.2im,-0.5+0.7im]\n",
    "qq = [1.0,2.0]\n",
    "rq = [0.5,0.2]\n",
    "Nq_true = length(zq)"
   ]
  },
  {
   "cell_type": "code",
   "execution_count": 15,
   "metadata": {},
   "outputs": [
    {
     "data": {
      "text/plain": [
       "8-element Vector{Float64}:\n",
       "  0.5\n",
       "  1.2\n",
       "  1.0\n",
       "  0.5\n",
       " -0.5\n",
       "  0.7\n",
       "  2.0\n",
       "  0.2"
      ]
     },
     "metadata": {},
     "output_type": "display_data"
    }
   ],
   "source": [
    "config_true, x_true = get_config_and_state(zq,qq,rq)\n",
    "x_true"
   ]
  },
  {
   "cell_type": "markdown",
   "metadata": {},
   "source": [
    "### Getting results for a specific case"
   ]
  },
  {
   "cell_type": "code",
   "execution_count": 17,
   "metadata": {},
   "outputs": [
    {
     "data": {
      "text/plain": [
       "constructGrids{Tuple{Float64, Float64}, BasicILMCache{0, GridScaling, Nodes{Primal, 404, 408, Float64, Matrix{Float64}}, 2, BodyList, VectorData{0, Float64, Vector{Float64}}, ScalarData{0, Float64, Vector{Float64}}, Regularize{0, false}, RegularizationMatrix{Edges{Primal, 404, 408, Float64, Vector{Float64}}, VectorData{0, Float64, Vector{Float64}}}, InterpolationMatrix{Edges{Primal, 404, 408, Float64, Vector{Float64}}, VectorData{0, Float64, Vector{Float64}}}, RegularizationMatrix{Nodes{Primal, 404, 408, Float64, Matrix{Float64}}, ScalarData{0, Float64, Vector{Float64}}}, InterpolationMatrix{Nodes{Primal, 404, 408, Float64, Matrix{Float64}}, ScalarData{0, Float64, Vector{Float64}}}, Nothing, Nothing, Nothing, Nothing, Laplacian{404, 408, Float64, true, false}, Edges{Primal, 404, 408, Float64, Vector{Float64}}, Nodes{Dual, 404, 408, Float64, Matrix{Float64}}, Nothing, VectorData{0, Float64, Vector{Float64}}, ScalarData{0, Float64, Vector{Float64}}, Nothing}}(0.01, 4.0, (-2.0, 2.0), (-2.0, 2.0), PhysicalGrid{2}((404, 408), (202, 204), 0.01, ((-2.0100000000000002, 2.0100000000000002), (-2.0300000000000002, 2.0300000000000002)), 4), Surface cache with scaling of type GridScaling\n",
       "  0 point data of type ScalarData{0, Float64, Vector{Float64}}\n",
       "  Grid data of type Nodes{Primal, 404, 408, Float64, Matrix{Float64}}\n",
       ")"
      ]
     },
     "metadata": {},
     "output_type": "display_data"
    }
   ],
   "source": [
    "Δx = 0.01\n",
    "Lx = 4.0\n",
    "gridConfig = constructGrids(Δx,Lx)"
   ]
  },
  {
   "cell_type": "code",
   "execution_count": 34,
   "metadata": {},
   "outputs": [
    {
     "data": {
      "text/plain": [
       "Surface cache with scaling of type GridScaling\n",
       "  0 point data of type ScalarData{0, Float64, Vector{Float64}}\n",
       "  Grid data of type Nodes{Primal, 610, 608, Float64, Matrix{Float64}}\n"
      ]
     },
     "metadata": {},
     "output_type": "display_data"
    }
   ],
   "source": [
    "gridConfig.cache"
   ]
  },
  {
   "cell_type": "code",
   "execution_count": 18,
   "metadata": {},
   "outputs": [
    {
     "data": {
      "text/plain": [
       "(TemperatureObservations{8, 3, Vector{ComplexF64}, HeaterConfig{Dict{Any, Any}}}(ComplexF64[-1.0 + 0.0im, 0.0 + 0.0im, 1.0 + 0.0im], HeaterConfig{Dict{Any, Any}}(2, Dict{Any, Any}(\"heater q\" => [3, 7], \"heater r\" => [4, 8], \"heater y\" => [2, 6], \"heater x\" => [1, 5]), 0.0)), [-0.8323193110822054, -0.7836443800526118, -0.8096823306433623], ComplexF64[-1.0 + 0.0im, 0.0 + 0.0im, 1.0 + 0.0im])"
      ]
     },
     "metadata": {},
     "output_type": "display_data"
    }
   ],
   "source": [
    "K = 5\n",
    "Nsens = 3\n",
    "ϵmeas = 5e-4\n",
    "obs_true, ystar,sens = get_truth_data(Nsens,ϵmeas,x_true,config_true,gridConfig)"
   ]
  },
  {
   "cell_type": "code",
   "execution_count": 16,
   "metadata": {},
   "outputs": [
    {
     "data": {
      "text/plain": [
       "3-element Vector{ComplexF64}:\n",
       " -1.0 + 0.0im\n",
       "  0.0 + 0.0im\n",
       "  1.0 + 0.0im"
      ]
     },
     "metadata": {},
     "output_type": "display_data"
    }
   ],
   "source": [
    "sens"
   ]
  },
  {
   "cell_type": "code",
   "execution_count": 19,
   "metadata": {},
   "outputs": [
    {
     "data": {
      "text/plain": [
       "3-element Vector{Float64}:\n",
       " -0.8323193110822054\n",
       " -0.7836443800526118\n",
       " -0.8096823306433623"
      ]
     },
     "metadata": {},
     "output_type": "display_data"
    }
   ],
   "source": [
    "ystar"
   ]
  }
 ],
 "metadata": {
  "kernelspec": {
   "display_name": "Julia 1.8.5",
   "language": "julia",
   "name": "julia-1.8"
  },
  "language_info": {
   "file_extension": ".jl",
   "mimetype": "application/julia",
   "name": "julia",
   "version": "1.8.5"
  },
  "orig_nbformat": 4
 },
 "nbformat": 4,
 "nbformat_minor": 2
}
