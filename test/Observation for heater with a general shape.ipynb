{
 "cells": [
  {
   "cell_type": "code",
   "execution_count": 60,
   "metadata": {},
   "outputs": [],
   "source": [
    "using ImmersedLayers"
   ]
  },
  {
   "cell_type": "code",
   "execution_count": 61,
   "metadata": {},
   "outputs": [],
   "source": [
    "using Revise"
   ]
  },
  {
   "cell_type": "code",
   "execution_count": 62,
   "metadata": {},
   "outputs": [],
   "source": [
    "using Plots"
   ]
  },
  {
   "cell_type": "code",
   "execution_count": 63,
   "metadata": {},
   "outputs": [],
   "source": [
    "using Interpolations"
   ]
  },
  {
   "cell_type": "code",
   "execution_count": 64,
   "metadata": {},
   "outputs": [],
   "source": [
    "using UnPack"
   ]
  },
  {
   "cell_type": "code",
   "execution_count": 65,
   "metadata": {},
   "outputs": [
    {
     "data": {
      "text/plain": [
       "constructGrids"
      ]
     },
     "metadata": {},
     "output_type": "display_data"
    }
   ],
   "source": [
    "abstract type AbstractGrids end\n",
    "struct constructGrids{XT,CT} <: AbstractGrids\n",
    "\n",
    "    \"Grid spacing\"\n",
    "    Δx::Float64\n",
    "\n",
    "    \"size of domain in x-direction\"\n",
    "    xlim::XT\n",
    "\n",
    "    \"size of domain in y-direction\"\n",
    "    ylim::XT\n",
    "    \n",
    "    \"Physical Grid\"\n",
    "    g::PhysicalGrid\n",
    "\n",
    "    \"Cache\"\n",
    "    cache::CT\n",
    "\n",
    "    \"Number of points on heater boundary\"\n",
    "    Ntheta::Int64\n",
    "end\n",
    "\n",
    "function constructGrids(Δx,bounds;Ntheta=500)\n",
    "    xlim = bounds[1]\n",
    "    ylim = bounds[2]\n",
    "    g = PhysicalGrid(xlim,ylim,Δx)\n",
    "    cache = SurfaceScalarCache(g)\n",
    "    CacheType = typeof(cache)\n",
    "    constructGrids{typeof(xlim), CacheType}(Δx,xlim,ylim,g,cache,Ntheta)\n",
    "end"
   ]
  },
  {
   "cell_type": "code",
   "execution_count": 66,
   "metadata": {},
   "outputs": [
    {
     "data": {
      "text/plain": [
       "create_points_on_shape (generic function with 1 method)"
      ]
     },
     "metadata": {},
     "output_type": "display_data"
    }
   ],
   "source": [
    "function create_points_on_shape(x::AbstractVector,gridConfig::constructGrids)\n",
    "    @unpack Ntheta = gridConfig\n",
    "    theta = collect(range(0,2π,Ntheta))\n",
    "    c0 = x[1] + im*x[2]\n",
    "    q = x[3]\n",
    "    c1 = x[4]\n",
    "    c2 = x[5]\n",
    "    r = [c0 + c1*exp(1im*theta[i]) + c2*exp(2im*theta[i]) for i in 1:Ntheta]\n",
    "    interpolator_real = linear_interpolation(theta,real(r))\n",
    "    interpolator_imag = linear_interpolation(theta,imag(r))\n",
    "    return interpolator_real, interpolator_imag\n",
    "end"
   ]
  },
  {
   "cell_type": "code",
   "execution_count": 67,
   "metadata": {},
   "outputs": [
    {
     "data": {
      "text/plain": [
       "HeaterConfig"
      ]
     },
     "metadata": {},
     "output_type": "display_data"
    }
   ],
   "source": [
    "struct HeaterConfig{SID} \n",
    "\n",
    "    \"Number of heaters\"\n",
    "    Nq::Int64\n",
    "\n",
    "    \"State IDs\"\n",
    "    state_id::SID\n",
    "\n",
    "    \"Time step\"\n",
    "    Δt::Float64\n",
    "\n",
    "end\n",
    "\n",
    "function HeaterConfig(Nq,Δt)\n",
    "  state_id = construct_heater_state_mapping(Nq)\n",
    "  HeaterConfig{typeof(state_id)}(Nq,state_id,Δt)\n",
    "end\n",
    "\n",
    "function HeaterConfig(Nq)\n",
    "  state_id = construct_heater_state_mapping(Nq)\n",
    "  HeaterConfig{typeof(state_id)}(Nq,state_id,0.0)\n",
    "end"
   ]
  },
  {
   "cell_type": "code",
   "execution_count": 68,
   "metadata": {},
   "outputs": [
    {
     "data": {
      "text/plain": [
       "construct_heater_state_mapping (generic function with 1 method)"
      ]
     },
     "metadata": {},
     "output_type": "display_data"
    }
   ],
   "source": [
    "function construct_heater_state_mapping(Nq::Int64)\n",
    "    state_id = Dict()\n",
    "    heater_x_ids = zeros(Int,Nq)\n",
    "    heater_y_ids = zeros(Int,Nq)\n",
    "    heater_q_ids = zeros(Int,Nq)\n",
    "    heater_c1_ids = zeros(Int,Nq)\n",
    "    heater_c2_ids = zeros(Int,Nq)\n",
    "  \n",
    "    for j in 1:Nq\n",
    "      heater_x_ids[j] = 5j-4\n",
    "      heater_y_ids[j] = 5j-3\n",
    "      heater_q_ids[j] = 5j-2\n",
    "      heater_c1_ids[j] = 5j-1\n",
    "      heater_c2_ids[j] = 5j\n",
    "    end\n",
    "  \n",
    "    state_id[\"heater x\"] = heater_x_ids\n",
    "    state_id[\"heater y\"] = heater_y_ids\n",
    "    state_id[\"heater q\"] = heater_q_ids\n",
    "    state_id[\"heater c1\"] = heater_c1_ids\n",
    "    state_id[\"heater c2\"] = heater_c2_ids\n",
    "  \n",
    "    return state_id\n",
    "  end"
   ]
  },
  {
   "cell_type": "code",
   "execution_count": 69,
   "metadata": {},
   "outputs": [
    {
     "data": {
      "text/plain": [
       "positions_and_strengths_to_state (generic function with 1 method)"
      ]
     },
     "metadata": {},
     "output_type": "display_data"
    }
   ],
   "source": [
    "function positions_and_strengths_to_state(zq::AbstractVector{ComplexF64},qq::AbstractVector{Float64},c1q::AbstractVector{Float64},c2q::AbstractVector{Float64},config::HeaterConfig)\n",
    "    @unpack Nq, state_id = config\n",
    "    state = zeros(state_length(state_id))\n",
    "  \n",
    "    x_ids = state_id[\"heater x\"]\n",
    "    y_ids = state_id[\"heater y\"]\n",
    "    q_ids = state_id[\"heater q\"]\n",
    "    c1_ids = state_id[\"heater c1\"]\n",
    "    c2_ids = state_id[\"heater c2\"]\n",
    "  \n",
    "  \n",
    "    for i = 1:Nq\n",
    "      state[x_ids[i]] = real(zq[i])\n",
    "      state[y_ids[i]] = imag(zq[i])\n",
    "      state[q_ids[i]] = qq[i]\n",
    "      state[c1_ids[i]] = c1q[i]\n",
    "      state[c2_ids[i]] = c2q[i]\n",
    "    end\n",
    "  \n",
    "    return state\n",
    "  end"
   ]
  },
  {
   "cell_type": "code",
   "execution_count": 70,
   "metadata": {},
   "outputs": [
    {
     "data": {
      "text/plain": [
       "state_length (generic function with 5 methods)"
      ]
     },
     "metadata": {},
     "output_type": "display_data"
    }
   ],
   "source": [
    "abstract type AbstractConfig end\n",
    "state_length(config::AbstractConfig) =  state_length(config.state_id)\n",
    "\n",
    "state_length(a::Dict) = mapreduce(key -> state_length(a[key]),+,keys(a))\n",
    "state_length(a::Vector) = length(a)\n",
    "state_length(a::Matrix) = 0\n",
    "state_length(a::Int) = 0"
   ]
  },
  {
   "cell_type": "code",
   "execution_count": 71,
   "metadata": {},
   "outputs": [
    {
     "data": {
      "text/plain": [
       "get_config_and_state (generic function with 1 method)"
      ]
     },
     "metadata": {},
     "output_type": "display_data"
    }
   ],
   "source": [
    "function get_config_and_state(zq::AbstractVector,qq::AbstractVector,c1q::AbstractVector,c2q::AbstractVector)\n",
    "    Nq = length(zq)\n",
    "    config = HeaterConfig(Nq)\n",
    "    x = positions_and_strengths_to_state(zq,qq,c1q,c2q,config)\n",
    "  \n",
    "    return config, x\n",
    "  end"
   ]
  },
  {
   "cell_type": "code",
   "execution_count": 72,
   "metadata": {},
   "outputs": [
    {
     "data": {
      "text/plain": [
       "observations (generic function with 1 method)"
      ]
     },
     "metadata": {},
     "output_type": "display_data"
    }
   ],
   "source": [
    "mutable struct TemperatureObservation{Nx,Ny,ST,CT}\n",
    "\tsens::ST\n",
    "\tconfig::CT\n",
    "end\n",
    "function TemperatureObservation(sens::AbstractVector,config::HeaterConfig)\n",
    "    return TemperatureObservation{5*config.Nq,length(sens),typeof(sens),typeof(config)}(sens,config)\n",
    "end\n",
    "function observations(x::AbstractVector,t,obs::TemperatureObservation,gridConfig::constructGrids)\n",
    "    return analytical_temperature(x,obs,gridConfig)\n",
    "  end"
   ]
  },
  {
   "cell_type": "code",
   "execution_count": 73,
   "metadata": {},
   "outputs": [
    {
     "data": {
      "text/plain": [
       "setup_sensors (generic function with 1 method)"
      ]
     },
     "metadata": {},
     "output_type": "display_data"
    }
   ],
   "source": [
    "function setup_sensors(Nsens;layout=(:line,1.0))\n",
    "\n",
    "    layout_type, len = layout\n",
    "  \n",
    "    if layout_type == :circle\n",
    "      rsens = len\n",
    "      θsens = range(0,2π,length=Nsens+1)\n",
    "      sens = rsens*exp.(im*θsens[1:end-1])\n",
    "    elseif layout_type == :line\n",
    "      ϵsens = 0.0\n",
    "      lowerrow = range(-len,len,length=Nsens) .+ (-0.5ϵsens .+ ϵsens*rand(Nsens))*im\n",
    "      #upperrow = range(-2.0,2.0,length=Nsens) .+ 1.0*im\n",
    "      #leftside = im*range(-1.0,3.0,length=Nsens) .- 1.0\n",
    "      #rightside = im*range(-1.0,3.0,length=Nsens) .+ 1.0\n",
    "      sens = vcat(lowerrow,)  #upperrow);\n",
    "    elseif layout_type == :dline\n",
    "      ϵsens = 0.02\n",
    "      lowerrow1 = range(-len,len,length=Nsens÷2) .- 0.5*ϵsens\n",
    "      lowerrow2 = range(-len,len,length=Nsens÷2) .+ 0.5*ϵsens\n",
    "      sens = sort(vcat(lowerrow1,lowerrow2)) .+ 0.0im\n",
    "    end\n",
    "    return sens\n",
    "  end"
   ]
  },
  {
   "cell_type": "code",
   "execution_count": 74,
   "metadata": {},
   "outputs": [
    {
     "data": {
      "text/plain": [
       "analytical_temperature (generic function with 1 method)"
      ]
     },
     "metadata": {},
     "output_type": "display_data"
    }
   ],
   "source": [
    "function analytical_temperature(x::AbstractVector,obs::TemperatureObservation,gridConfig::constructGrids)\n",
    "\t@unpack config, sens = obs\n",
    "\t@unpack Nq, state_id = config\n",
    "\t@unpack g, cache, Ntheta = gridConfig\n",
    "\tNy = length(sens)\n",
    "\n",
    "\tx_ids = state_id[\"heater x\"]\n",
    "  \ty_ids = state_id[\"heater y\"]\n",
    "  \tq_ids = state_id[\"heater q\"]\n",
    "  \tc1_ids = state_id[\"heater c1\"]\n",
    "\tc2_ids = state_id[\"heater c2\"]\n",
    "\n",
    "\txq = x[x_ids]\n",
    "\tyq = x[y_ids]\n",
    "\tqq = x[q_ids]\n",
    "\tc1q = x[c1_ids]\n",
    "\tc2q = x[c2_ids]\n",
    "\n",
    "\tT = zeros_grid(cache)\n",
    "\txg, yg = coordinates(T,g)\n",
    "\tTemp = zeros(Ny)\n",
    "\n",
    "\tfor k in 1:Nq\n",
    "\t\tr_real, r_imag = create_points_on_shape(x[5k-4:5k],gridConfig)\n",
    "\t\tT = zeros_grid(cache)\n",
    "\t\ttheta_g = zeros_grid(cache)\n",
    "\t\tfor (j,yy) in enumerate(yg), (i,xx) in enumerate(xg)\n",
    "\t\t\ttheta_g[i,j] = (yy-yq[k])>=0 ? atan((yy-yq[k]),(xx-xq[k])) : (atan((yy-yq[k]),(xx-xq[k]))+2π)\n",
    "\t\t\tif ((xx-xq[k])^2+(yy-yq[k])^2) < ((r_real(theta_g[i,j])-xq[k])^2 + (r_imag(theta_g[i,j])-yq[k])^2)\n",
    "\t\t\t\tT[i,j] = -qq[k]\n",
    "\t\t\tend\n",
    "\t\tend\n",
    "\t\tinverse_laplacian!(T,cache)\n",
    "\t\tTfield = interpolatable_field(T,g)\n",
    "\t\tTemp .+= [Tfield(real(sens[j]), imag(sens[j])) for j in 1:Ny]\n",
    "\tend\n",
    "\treturn Temp\n",
    "end"
   ]
  },
  {
   "cell_type": "code",
   "execution_count": 75,
   "metadata": {},
   "outputs": [
    {
     "data": {
      "text/plain": [
       "1"
      ]
     },
     "metadata": {},
     "output_type": "display_data"
    }
   ],
   "source": [
    "#zq = [0.5+1.2im,-0.5+0.7im]\n",
    "#qq = [1.0,2.0]\n",
    "#c1q = [0.5,0.2]\n",
    "#c2q = [0.0, 0.0]\n",
    "#Nq_true = length(zq)\n",
    "\n",
    "#zq = [1.0+0.0im]\n",
    "#qq = [1.0]\n",
    "#c1q = [0.5]\n",
    "#c2q = [0.25]\n",
    "#Nq_true = length(zq)\n",
    "\n",
    "zq = [0.5+1.2im]\n",
    "qq = [1.0]\n",
    "c1q = [0.5]\n",
    "c2q = [0.0]\n",
    "Nq_true = length(zq)\n"
   ]
  },
  {
   "cell_type": "code",
   "execution_count": 76,
   "metadata": {},
   "outputs": [
    {
     "data": {
      "text/plain": [
       "5-element Vector{Float64}:\n",
       " 0.5\n",
       " 1.2\n",
       " 1.0\n",
       " 0.5\n",
       " 0.0"
      ]
     },
     "metadata": {},
     "output_type": "display_data"
    }
   ],
   "source": [
    "config_true, x_true = get_config_and_state(zq,qq,c1q,c2q)\n",
    "x_true"
   ]
  },
  {
   "cell_type": "code",
   "execution_count": 77,
   "metadata": {},
   "outputs": [
    {
     "data": {
      "text/plain": [
       "500"
      ]
     },
     "metadata": {},
     "output_type": "display_data"
    }
   ],
   "source": [
    "Ntheta = 500"
   ]
  },
  {
   "cell_type": "code",
   "execution_count": 78,
   "metadata": {},
   "outputs": [
    {
     "data": {
      "text/plain": [
       "5-element Vector{Tuple{Real, Float64}}:\n",
       " (-2.0, 2.0)\n",
       " (-2, 2.0)\n",
       " (-2.0, 2.0)\n",
       " (0.0, 1.0)\n",
       " (0.0, 1.0)"
      ]
     },
     "metadata": {},
     "output_type": "display_data"
    }
   ],
   "source": [
    "xr = (-2.0,2.0)\n",
    "yr = (-2,2.0) #(0.01,4) #(0.01,2.0)\n",
    "qr = (-2.0,2.0)\n",
    "c1r = (0.0,1.0)\n",
    "c2r = (0.0,1.0)\n",
    "bound = [xr,yr,qr,c1r,c2r]\n"
   ]
  },
  {
   "cell_type": "code",
   "execution_count": 79,
   "metadata": {},
   "outputs": [
    {
     "data": {
      "text/plain": [
       "constructGrids{Tuple{Float64, Float64}, BasicILMCache{0, GridScaling, Nodes{Primal, 402, 408, Float64, Matrix{Float64}}, 2, BodyList, VectorData{0, Float64, Vector{Float64}}, ScalarData{0, Float64, Vector{Float64}}, Regularize{0, false}, RegularizationMatrix{Edges{Primal, 402, 408, Float64, Vector{Float64}}, VectorData{0, Float64, Vector{Float64}}}, InterpolationMatrix{Edges{Primal, 402, 408, Float64, Vector{Float64}}, VectorData{0, Float64, Vector{Float64}}}, RegularizationMatrix{Nodes{Primal, 402, 408, Float64, Matrix{Float64}}, ScalarData{0, Float64, Vector{Float64}}}, InterpolationMatrix{Nodes{Primal, 402, 408, Float64, Matrix{Float64}}, ScalarData{0, Float64, Vector{Float64}}}, Nothing, Nothing, Nothing, Nothing, Laplacian{402, 408, Float64, true, false}, Edges{Primal, 402, 408, Float64, Vector{Float64}}, Nodes{Dual, 402, 408, Float64, Matrix{Float64}}, Nothing, VectorData{0, Float64, Vector{Float64}}, ScalarData{0, Float64, Vector{Float64}}, Nothing}}(0.01, (-2.0, 2.0), (-2.0, 2.0), PhysicalGrid{2}((402, 408), (201, 204), 0.01, ((-2.0, 2.0), (-2.0300000000000002, 2.0300000000000002)), 4), Surface cache with scaling of type GridScaling\n",
       "  0 point data of type ScalarData{0, Float64, Vector{Float64}}\n",
       "  Grid data of type Nodes{Primal, 402, 408, Float64, Matrix{Float64}}\n",
       ", 500)"
      ]
     },
     "metadata": {},
     "output_type": "display_data"
    }
   ],
   "source": [
    "Δx = 0.01\n",
    "gridConfig = constructGrids(Δx,bound;Ntheta)"
   ]
  },
  {
   "cell_type": "code",
   "execution_count": 80,
   "metadata": {},
   "outputs": [
    {
     "data": {
      "text/plain": [
       "3-element Vector{ComplexF64}:\n",
       " -1.0 + 0.0im\n",
       "  0.0 + 0.0im\n",
       "  1.0 + 0.0im"
      ]
     },
     "metadata": {},
     "output_type": "display_data"
    }
   ],
   "source": [
    "Nsens = 3\n",
    "sens = setup_sensors(Nsens;layout=(:line,1.0))"
   ]
  },
  {
   "cell_type": "code",
   "execution_count": 81,
   "metadata": {},
   "outputs": [
    {
     "data": {
      "text/plain": [
       "TemperatureObservation{5, 3, Vector{ComplexF64}, HeaterConfig{Dict{Any, Any}}}(ComplexF64[-1.0 + 0.0im, 0.0 + 0.0im, 1.0 + 0.0im], HeaterConfig{Dict{Any, Any}}(1, Dict{Any, Any}(\"heater q\" => [3], \"heater y\" => [2], \"heater x\" => [1], \"heater c1\" => [4], \"heater c2\" => [5]), 0.0))"
      ]
     },
     "metadata": {},
     "output_type": "display_data"
    }
   ],
   "source": [
    "obs_true = TemperatureObservation(sens,config_true)"
   ]
  },
  {
   "cell_type": "code",
   "execution_count": 82,
   "metadata": {},
   "outputs": [
    {
     "data": {
      "text/plain": [
       "5-element Vector{Float64}:\n",
       " 0.5\n",
       " 1.2\n",
       " 1.0\n",
       " 0.5\n",
       " 0.0"
      ]
     },
     "metadata": {},
     "output_type": "display_data"
    }
   ],
   "source": [
    "x_true"
   ]
  },
  {
   "cell_type": "code",
   "execution_count": 83,
   "metadata": {},
   "outputs": [
    {
     "data": {
      "text/plain": [
       "3-element Vector{Float64}:\n",
       " -0.654822624815675\n",
       " -0.6061965993715731\n",
       " -0.606196599371573"
      ]
     },
     "metadata": {},
     "output_type": "display_data"
    }
   ],
   "source": [
    "t = 0.0\n",
    "ystar0 = observations(x_true,t,obs_true,gridConfig)"
   ]
  }
 ],
 "metadata": {
  "kernelspec": {
   "display_name": "Julia 1.8.5",
   "language": "julia",
   "name": "julia-1.8"
  },
  "language_info": {
   "file_extension": ".jl",
   "mimetype": "application/julia",
   "name": "julia",
   "version": "1.8.5"
  },
  "orig_nbformat": 4
 },
 "nbformat": 4,
 "nbformat_minor": 2
}
